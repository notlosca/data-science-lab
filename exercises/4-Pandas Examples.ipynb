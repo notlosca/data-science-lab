{
 "cells": [
  {
   "cell_type": "markdown",
   "metadata": {},
   "source": [
    "# Pandas Examples"
   ]
  },
  {
   "cell_type": "code",
   "execution_count": 1,
   "metadata": {},
   "outputs": [],
   "source": [
    "#Input data\n",
    "import pandas as pd\n",
    "import numpy as np\n",
    "import matplotlib.pyplot as plt"
   ]
  },
  {
   "cell_type": "markdown",
   "metadata": {},
   "source": [
    "## 1) Accessing DataFrames and Series"
   ]
  },
  {
   "cell_type": "code",
   "execution_count": 57,
   "metadata": {},
   "outputs": [],
   "source": [
    "# Input table (12 samples x 4 attributes)\n",
    "X = np.array([[5.1, 3.5, 1, 0.2],\n",
    "           [4.3, 3. , 1, 0.1],\n",
    "           [5. , np.nan, 1, 0.4],\n",
    "           [5.1, 3.4, 2, 0.2],\n",
    "           [7.0, 3.2, 1, 0.2],\n",
    "           [6.9, 3.1, 3, 1.5],\n",
    "           [6.7, 3.1, 1, np.nan],\n",
    "           [6. , 2.9, 2, 1.5],\n",
    "           [6.1, 3. , 2, 1.4],\n",
    "           [6.5, 3. , 3, 2.2],\n",
    "           [7.7, 3.8, 3, 2.2],\n",
    "           [7.4, 2.8, 1, 1.9],\n",
    "           [6.8, 3.2, 1, 2.3]])\n",
    "# Column names\n",
    "columns = ['height','width','intensity','weight']\n",
    "\n",
    "# Class label of each sample\n",
    "labels = np.array([0, 0, 0, 0, 0, 1, 1, 1, 1, 2, 2, 2, 2])"
   ]
  },
  {
   "cell_type": "markdown",
   "metadata": {},
   "source": [
    "**a) Create a DataFrame from a Numpy array (X)**\n",
    "- Setup column names and the class label\n",
    "- Add a new composite feature, 'area' = 'width' * 'height'\n",
    "- Fix missing values with forward fill method"
   ]
  },
  {
   "cell_type": "code",
   "execution_count": 58,
   "metadata": {
    "scrolled": false
   },
   "outputs": [
    {
     "data": {
      "text/html": [
       "<div>\n",
       "<style scoped>\n",
       "    .dataframe tbody tr th:only-of-type {\n",
       "        vertical-align: middle;\n",
       "    }\n",
       "\n",
       "    .dataframe tbody tr th {\n",
       "        vertical-align: top;\n",
       "    }\n",
       "\n",
       "    .dataframe thead th {\n",
       "        text-align: right;\n",
       "    }\n",
       "</style>\n",
       "<table border=\"1\" class=\"dataframe\">\n",
       "  <thead>\n",
       "    <tr style=\"text-align: right;\">\n",
       "      <th></th>\n",
       "      <th>height</th>\n",
       "      <th>width</th>\n",
       "      <th>intensity</th>\n",
       "      <th>weight</th>\n",
       "      <th>area</th>\n",
       "      <th>labels</th>\n",
       "    </tr>\n",
       "  </thead>\n",
       "  <tbody>\n",
       "    <tr>\n",
       "      <th>0</th>\n",
       "      <td>5.1</td>\n",
       "      <td>3.5</td>\n",
       "      <td>1.0</td>\n",
       "      <td>0.2</td>\n",
       "      <td>17.85</td>\n",
       "      <td>0</td>\n",
       "    </tr>\n",
       "    <tr>\n",
       "      <th>1</th>\n",
       "      <td>4.3</td>\n",
       "      <td>3.0</td>\n",
       "      <td>1.0</td>\n",
       "      <td>0.1</td>\n",
       "      <td>12.90</td>\n",
       "      <td>0</td>\n",
       "    </tr>\n",
       "    <tr>\n",
       "      <th>2</th>\n",
       "      <td>5.0</td>\n",
       "      <td>3.0</td>\n",
       "      <td>1.0</td>\n",
       "      <td>0.4</td>\n",
       "      <td>15.00</td>\n",
       "      <td>0</td>\n",
       "    </tr>\n",
       "    <tr>\n",
       "      <th>3</th>\n",
       "      <td>5.1</td>\n",
       "      <td>3.4</td>\n",
       "      <td>2.0</td>\n",
       "      <td>0.2</td>\n",
       "      <td>17.34</td>\n",
       "      <td>0</td>\n",
       "    </tr>\n",
       "    <tr>\n",
       "      <th>4</th>\n",
       "      <td>7.0</td>\n",
       "      <td>3.2</td>\n",
       "      <td>1.0</td>\n",
       "      <td>0.2</td>\n",
       "      <td>22.40</td>\n",
       "      <td>0</td>\n",
       "    </tr>\n",
       "    <tr>\n",
       "      <th>5</th>\n",
       "      <td>6.9</td>\n",
       "      <td>3.1</td>\n",
       "      <td>3.0</td>\n",
       "      <td>1.5</td>\n",
       "      <td>21.39</td>\n",
       "      <td>1</td>\n",
       "    </tr>\n",
       "    <tr>\n",
       "      <th>6</th>\n",
       "      <td>6.7</td>\n",
       "      <td>3.1</td>\n",
       "      <td>1.0</td>\n",
       "      <td>1.5</td>\n",
       "      <td>20.77</td>\n",
       "      <td>1</td>\n",
       "    </tr>\n",
       "    <tr>\n",
       "      <th>7</th>\n",
       "      <td>6.0</td>\n",
       "      <td>2.9</td>\n",
       "      <td>2.0</td>\n",
       "      <td>1.5</td>\n",
       "      <td>17.40</td>\n",
       "      <td>1</td>\n",
       "    </tr>\n",
       "    <tr>\n",
       "      <th>8</th>\n",
       "      <td>6.1</td>\n",
       "      <td>3.0</td>\n",
       "      <td>2.0</td>\n",
       "      <td>1.4</td>\n",
       "      <td>18.30</td>\n",
       "      <td>1</td>\n",
       "    </tr>\n",
       "    <tr>\n",
       "      <th>9</th>\n",
       "      <td>6.5</td>\n",
       "      <td>3.0</td>\n",
       "      <td>3.0</td>\n",
       "      <td>2.2</td>\n",
       "      <td>19.50</td>\n",
       "      <td>2</td>\n",
       "    </tr>\n",
       "    <tr>\n",
       "      <th>10</th>\n",
       "      <td>7.7</td>\n",
       "      <td>3.8</td>\n",
       "      <td>3.0</td>\n",
       "      <td>2.2</td>\n",
       "      <td>29.26</td>\n",
       "      <td>2</td>\n",
       "    </tr>\n",
       "    <tr>\n",
       "      <th>11</th>\n",
       "      <td>7.4</td>\n",
       "      <td>2.8</td>\n",
       "      <td>1.0</td>\n",
       "      <td>1.9</td>\n",
       "      <td>20.72</td>\n",
       "      <td>2</td>\n",
       "    </tr>\n",
       "    <tr>\n",
       "      <th>12</th>\n",
       "      <td>6.8</td>\n",
       "      <td>3.2</td>\n",
       "      <td>1.0</td>\n",
       "      <td>2.3</td>\n",
       "      <td>21.76</td>\n",
       "      <td>2</td>\n",
       "    </tr>\n",
       "  </tbody>\n",
       "</table>\n",
       "</div>"
      ],
      "text/plain": [
       "    height  width  intensity  weight   area  labels\n",
       "0      5.1    3.5        1.0     0.2  17.85       0\n",
       "1      4.3    3.0        1.0     0.1  12.90       0\n",
       "2      5.0    3.0        1.0     0.4  15.00       0\n",
       "3      5.1    3.4        2.0     0.2  17.34       0\n",
       "4      7.0    3.2        1.0     0.2  22.40       0\n",
       "5      6.9    3.1        3.0     1.5  21.39       1\n",
       "6      6.7    3.1        1.0     1.5  20.77       1\n",
       "7      6.0    2.9        2.0     1.5  17.40       1\n",
       "8      6.1    3.0        2.0     1.4  18.30       1\n",
       "9      6.5    3.0        3.0     2.2  19.50       2\n",
       "10     7.7    3.8        3.0     2.2  29.26       2\n",
       "11     7.4    2.8        1.0     1.9  20.72       2\n",
       "12     6.8    3.2        1.0     2.3  21.76       2"
      ]
     },
     "execution_count": 58,
     "metadata": {},
     "output_type": "execute_result"
    }
   ],
   "source": [
    "# Create the DataFrame object using X as data and\n",
    "# columns as columns\n",
    "df = pd.DataFrame(X, columns=columns)\n",
    "\n",
    "# Fill np.nan entries with the ffill method.\n",
    "# It uses last valid method. It is applied to each column.\n",
    "# Since it returns a copy, we need to update the value of our df\n",
    "df = df.fillna(method='ffill')\n",
    "\n",
    "# Compute the area and put it into our df\n",
    "area = df['width']*df['height']\n",
    "df['area'] = area\n",
    "# Add label column\n",
    "df['labels'] = labels\n",
    "df"
   ]
  },
  {
   "cell_type": "markdown",
   "metadata": {},
   "source": [
    "**b) Compute the average area of samples with intensity greater than 1:**"
   ]
  },
  {
   "cell_type": "code",
   "execution_count": 59,
   "metadata": {},
   "outputs": [
    {
     "data": {
      "text/plain": [
       "(0     False\n",
       " 1     False\n",
       " 2     False\n",
       " 3      True\n",
       " 4     False\n",
       " 5      True\n",
       " 6     False\n",
       " 7      True\n",
       " 8      True\n",
       " 9      True\n",
       " 10     True\n",
       " 11    False\n",
       " 12    False\n",
       " Name: intensity, dtype: bool,\n",
       " height        6.383333\n",
       " width         3.200000\n",
       " intensity     2.500000\n",
       " weight        1.500000\n",
       " area         20.531667\n",
       " labels        1.166667\n",
       " dtype: float64)"
      ]
     },
     "execution_count": 59,
     "metadata": {},
     "output_type": "execute_result"
    }
   ],
   "source": [
    "# Create a mask in which we select the rows containing values of intensity greater than 1\n",
    "# mask is a Series object\n",
    "mask = df['intensity']>1\n",
    "\n",
    "# Once we have those values, we can call the mean() method.\n",
    "# It returns the mean of each column\n",
    "mean_values = df[mask].mean()\n",
    "\n",
    "mask, mean_values"
   ]
  },
  {
   "cell_type": "markdown",
   "metadata": {},
   "source": [
    "**c) Compute the following probability:**\n",
    "\n",
    "$$P(label=2 \\ | \\ height<7) = \\frac{\\#(lab = 2 \\land height < 7)}{\\#(height<7)}$$   "
   ]
  },
  {
   "cell_type": "code",
   "execution_count": 60,
   "metadata": {},
   "outputs": [
    {
     "name": "stdout",
     "output_type": "stream",
     "text": [
      "The probability to obtain a label equal to 2 given that the height is less than 7 is 0.20\n"
     ]
    }
   ],
   "source": [
    "# Compute the mask to obtain samples in which height is less than 7.\n",
    "# The sum of these values is the number of samples with height less than 7, thus the denominator\n",
    "mask = df['height'] < 7\n",
    "denominator = mask.sum()\n",
    "\n",
    "# Given the previous mask, we compute another mask in which we select samples with label = 2\n",
    "# The sum will be our numerator\n",
    "numerator_mask = df[mask]['labels'] == 2\n",
    "numerator = numerator_mask.sum()\n",
    "\n",
    "print(\"The probability to obtain a label equal to 2 given that the height is less than 7 is %.2f\" % (numerator/denominator))"
   ]
  },
  {
   "cell_type": "markdown",
   "metadata": {},
   "source": [
    "**d) Compute the following probability. Use the Naive Bayes technique.**\n",
    "$$P(label=l \\ | \\ intensity=2 \\land height<6.5) = \\frac{P(label = l\\land intensity=2\\land height<6.5)}{P(intensity=2\\land height<6.5)}$$"
   ]
  },
  {
   "cell_type": "code",
   "execution_count": 61,
   "metadata": {},
   "outputs": [
    {
     "name": "stdout",
     "output_type": "stream",
     "text": [
      "The probability to obtain a label equal to 0 given that the height is less than 6.5 and intensity = 2 is 0.33\n",
      "The probability to obtain a label equal to 1 given that the height is less than 6.5 and intensity = 2 is 0.67\n",
      "The probability to obtain a label equal to 2 given that the height is less than 6.5 and intensity = 2 is 0.00\n"
     ]
    }
   ],
   "source": [
    "# Return unique values, the set of labels in df\n",
    "labels = df['labels'].unique() \n",
    "\n",
    "# This returns a series containing values that were selected before to have intensity = 2\n",
    "# Thus we will not have anymore all the rows, but only true ones.\n",
    "musk = df[df[\"intensity\"] == 2][\"height\"] < 6.5\n",
    "\n",
    "# Since the name of the index is the same, we can use the index of musk to obtain desired values\n",
    "df1 = df.loc[musk.index]\n",
    "\n",
    "denominator = musk.sum()\n",
    "\n",
    "for label in labels:\n",
    "    # We mask the dataframe to obtain rows in which we have the label that we want. \n",
    "    # Then we sum them and obtain the number of values matching that label\n",
    "    num_val = (df1['labels'] == label).sum()\n",
    "    print(\"The probability to obtain a label equal to %d given that the height is less than 6.5 and intensity = 2 is %.2f\" % (label,(num_val/denominator)))"
   ]
  },
  {
   "cell_type": "markdown",
   "metadata": {},
   "source": [
    "**e) Normalize columns with Sklearn standard scaler, fit a random forest**"
   ]
  },
  {
   "cell_type": "code",
   "execution_count": 67,
   "metadata": {},
   "outputs": [],
   "source": [
    "# Input table (12 samples x 4 attributes)\n",
    "X = np.array([[5.1, 3.5, 1, 0.2],\n",
    "           [4.3, 3. , 1, 0.1],\n",
    "           [5. , np.nan, 1, 0.4],\n",
    "           [5.1, 3.4, 2, 0.2],\n",
    "           [7.0, 3.2, 1, 0.2],\n",
    "           [6.9, 3.1, 3, 1.5],\n",
    "           [6.7, 3.1, 1, np.nan],\n",
    "           [6. , 2.9, 2, 1.5],\n",
    "           [6.1, 3. , 2, 1.4],\n",
    "           [6.5, 3. , 3, 2.2],\n",
    "           [7.7, 3.8, 3, 2.2],\n",
    "           [7.4, 2.8, 1, 1.9],\n",
    "           [6.8, 3.2, 1, 2.3]])\n",
    "# Column names\n",
    "columns = ['height','width','intensity','weight']\n",
    "\n",
    "# Class label of each sample\n",
    "labels = np.array([0, 0, 0, 0, 0, 1, 1, 1, 1, 2, 2, 2, 2])"
   ]
  },
  {
   "cell_type": "code",
   "execution_count": 75,
   "metadata": {
    "scrolled": false
   },
   "outputs": [
    {
     "data": {
      "text/plain": [
       "RandomForestClassifier(n_estimators=10)"
      ]
     },
     "execution_count": 75,
     "metadata": {},
     "output_type": "execute_result"
    }
   ],
   "source": [
    "from sklearn.preprocessing import StandardScaler\n",
    "from sklearn.ensemble import RandomForestClassifier\n",
    "\n",
    "# Create the DataFrame object using X as data and\n",
    "# columns as columns\n",
    "df = pd.DataFrame(X, columns=columns)\n",
    "\n",
    "# Fill np.nan entries with the ffill method.\n",
    "# It uses last valid method. It is applied to each column.\n",
    "# Since it returns a copy, we need to update the value of our df\n",
    "df = df.fillna(method='ffill')\n",
    "\n",
    "# Compute the area and put it into our df\n",
    "area = df['width']*df['height']\n",
    "df['area'] = area\n",
    "\n",
    "# Scale data and put them in our df\n",
    "df_norm = pd.DataFrame(StandardScaler().fit_transform(df), columns=df.columns)\n",
    "\n",
    "# Add label column\n",
    "df_norm['labels'] = labels\n",
    "\n",
    "# We pass to the classifiers all rows (first ':') and all columns but 'labels'\n",
    "# The latter will be used as label -> target y\n",
    "clf = RandomForestClassifier(n_estimators=10).fit(X=df_norm.loc[:,:'labels'], y=df_norm['labels'])\n",
    "\n",
    "clf"
   ]
  },
  {
   "cell_type": "markdown",
   "metadata": {},
   "source": [
    "## 2) Working with Pandas and spatial data\n",
    "**a) Load dataframe with Points Of Interest (POIs)**"
   ]
  },
  {
   "cell_type": "code",
   "execution_count": null,
   "metadata": {},
   "outputs": [],
   "source": [
    "# This dictionary maps attributes in the table with correct data types\n",
    "d_types = {'@type':str, '@lat':float, '@lon':float, 'amenity':str, 'name':str, \n",
    "           'shop':str, 'public_transport':str, 'highway':str}\n",
    "# Read \"./pois_all_info\"\n",
    "all_pois_df = pd.read_csv(\"pois_all_info.csv\", sep='\\t', index_col='@id', dtype=d_types)"
   ]
  },
  {
   "cell_type": "code",
   "execution_count": null,
   "metadata": {},
   "outputs": [],
   "source": []
  },
  {
   "cell_type": "markdown",
   "metadata": {},
   "source": [
    "**b) Plot POIS on New-York map**"
   ]
  },
  {
   "cell_type": "code",
   "execution_count": null,
   "metadata": {},
   "outputs": [],
   "source": [
    "def plot_map(pois_df):\n",
    "    fig, ax = plt.subplots(figsize=(12,8))\n",
    "    nyc_img = plt.imread('./New_York_City_Map.PNG')\n",
    "    ax.imshow(nyc_img, zorder=0, extent=[-74.258, -73.7, 40.49,40.92])\n",
    "    ax.scatter(??, s=1)\n",
    "    plt.show()\n",
    "\n",
    "plot_map(all_pois_df)"
   ]
  },
  {
   "cell_type": "markdown",
   "metadata": {},
   "source": [
    "**c) Filter only POIS in NY municipality**\n",
    "- Plot the result on a map"
   ]
  },
  {
   "cell_type": "code",
   "execution_count": null,
   "metadata": {},
   "outputs": [],
   "source": [
    "# Read \"./data/ny_municipality_pois_id.csv\"\n",
    "ny_pois_ids = pd.read_csv(\"ny_municipality_pois_id.csv\", header=None)[0]"
   ]
  },
  {
   "cell_type": "code",
   "execution_count": null,
   "metadata": {},
   "outputs": [],
   "source": [
    "pois_df = ??"
   ]
  },
  {
   "cell_type": "code",
   "execution_count": null,
   "metadata": {},
   "outputs": [],
   "source": [
    "plot_map(pois_df)"
   ]
  },
  {
   "cell_type": "markdown",
   "metadata": {},
   "source": [
    "**d) Count top-frequent public_transport types**"
   ]
  },
  {
   "cell_type": "code",
   "execution_count": null,
   "metadata": {},
   "outputs": [],
   "source": [
    "top_freq = ??\n",
    "top_freq"
   ]
  },
  {
   "cell_type": "markdown",
   "metadata": {},
   "source": [
    "**e) Plot POIs with the two most frequent public transport types**"
   ]
  },
  {
   "cell_type": "code",
   "execution_count": null,
   "metadata": {},
   "outputs": [],
   "source": [
    "## Plot POIs on the map\n",
    "fig, ax = plt.subplots(figsize=(12,8))\n",
    "nyc_img = plt.imread('./New_York_City_Map.PNG')\n",
    "ax.imshow(nyc_img, zorder=0, extent=[-74.258, -73.7, 40.49,40.92])\n",
    "\n",
    "\n",
    "## TODO:\n",
    "\n",
    "plt.legend()\n",
    "plt.show()"
   ]
  }
 ],
 "metadata": {
  "kernelspec": {
   "display_name": "Python 3",
   "language": "python",
   "name": "python3"
  },
  "language_info": {
   "codemirror_mode": {
    "name": "ipython",
    "version": 3
   },
   "file_extension": ".py",
   "mimetype": "text/x-python",
   "name": "python",
   "nbconvert_exporter": "python",
   "pygments_lexer": "ipython3",
   "version": "3.10.2"
  }
 },
 "nbformat": 4,
 "nbformat_minor": 2
}
