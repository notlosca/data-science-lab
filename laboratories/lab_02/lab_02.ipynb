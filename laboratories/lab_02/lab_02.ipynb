{
 "cells": [
  {
   "cell_type": "code",
   "execution_count": 2,
   "metadata": {},
   "outputs": [
    {
     "data": {
      "image/png": "[encoded data removed]",
      "text/plain": [
       "<Figure size 432x288 with 1 Axes>"
      ]
     },
     "metadata": {
      "needs_background": "light"
     },
     "output_type": "display_data"
    }
   ],
   "source": [
    "from random import gauss\n",
    "import matplotlib.pyplot as plt\n",
    "%matplotlib inline\n",
    "\n",
    "l = [gauss(0, 1) for _ in range(500)]\n",
    "plt.hist(l)\n",
    "plt.title('Gaussian distribution (mu=0, sigma=1)')\n",
    "plt.show()"
   ]
  },
  {
   "cell_type": "code",
   "execution_count": 9,
   "metadata": {},
   "outputs": [
    {
     "name": "stdout",
     "output_type": "stream",
     "text": [
      "--2022-04-08 22:25:22--  https://raw.githubusercontent.com/dbdmg/data-science-lab/master/datasets/GLT_filtered.csv\n",
      "Resolving raw.githubusercontent.com (raw.githubusercontent.com)... 185.199.108.133, 185.199.109.133, 185.199.110.133, ...\n",
      "Connecting to raw.githubusercontent.com (raw.githubusercontent.com)|185.199.108.133|:443... connected.\n",
      "HTTP request sent, awaiting response... 200 OK\n",
      "Length: 12720645 (12M) [text/plain]\n",
      "Saving to: ‘glt.csv’\n",
      "\n",
      "glt.csv             100%[===================>]  12,13M  38,8MB/s    in 0,3s    \n",
      "\n",
      "2022-04-08 22:25:22 (38,8 MB/s) - ‘glt.csv’ saved [12720645/12720645]\n",
      "\n"
     ]
    }
   ],
   "source": [
    "!wget https://raw.githubusercontent.com/dbdmg/data-science-lab/master/datasets/GLT_filtered.csv -O glt.csv"
   ]
  },
  {
   "cell_type": "code",
   "execution_count": 17,
   "metadata": {},
   "outputs": [],
   "source": [
    "import csv\n",
    "import numpy as np\n",
    "\n",
    "with open(\"glt.csv\", \"r\") as f:\n",
    "    lol = []\n",
    "    for cols in csv.reader(f):\n",
    "        lol.append(cols)\n",
    "    lol = np.array(lol)\n",
    "        "
   ]
  },
  {
   "cell_type": "code",
   "execution_count": 33,
   "metadata": {},
   "outputs": [
    {
     "data": {
      "text/plain": [
       "array(['26.704', '27.434', '', ..., '12.399', '4.7360000000000015',\n",
       "       '-0.8220000000000001'], dtype='<U34')"
      ]
     },
     "execution_count": 33,
     "metadata": {},
     "output_type": "execute_result"
    }
   ],
   "source": [
    "avg_temp = np.array(lol)[:, 1]\n",
    "avg_temp[1:]"
   ]
  },
  {
   "cell_type": "code",
   "execution_count": 3,
   "metadata": {},
   "outputs": [],
   "source": [
    "def fill_value(ary: np.array) -> np.array:\n",
    "    cnt = 0\n",
    "    val = 0\n",
    "    flag = None\n",
    "    for x in ary:\n",
    "        #print(cnt)\n",
    "        if x == \"\":\n",
    "            if cnt == len(ary)-1:\n",
    "                ary[cnt] = val/2\n",
    "            flag = cnt\n",
    "            print(\"flag\", flag)\n",
    "        else:\n",
    "            val = float(x)\n",
    "            print(\"val\", val/2)\n",
    "            if ary[flag] == \"\":\n",
    "                ary[flag] = val/2\n",
    "    \n",
    "        cnt += 1\n",
    "    return ary"
   ]
  },
  {
   "cell_type": "code",
   "execution_count": 4,
   "metadata": {},
   "outputs": [
    {
     "name": "stdout",
     "output_type": "stream",
     "text": [
      "0\n",
      "flag 0\n",
      "1\n",
      "val 2.5\n",
      "2\n",
      "val 3.0\n",
      "3\n",
      "flag 3\n"
     ]
    },
    {
     "data": {
      "text/plain": [
       "[2.5, '5', '6', 3.0]"
      ]
     },
     "execution_count": 4,
     "metadata": {},
     "output_type": "execute_result"
    }
   ],
   "source": [
    "ary = [\"\",\"5\",\"6\",\"\"]\n",
    "fill_value(ary)"
   ]
  },
  {
   "cell_type": "code",
   "execution_count": null,
   "metadata": {},
   "outputs": [],
   "source": [
    "avg_temp = fill_value(avg_temp[1:])"
   ]
  },
  {
   "cell_type": "code",
   "execution_count": 1,
   "metadata": {},
   "outputs": [],
   "source": [
    "import pandas as pd\n",
    "import numpy as np\n",
    "\n",
    "\n",
    "df = pd.read_csv(\"glt.csv\")"
   ]
  },
  {
   "cell_type": "code",
   "execution_count": 2,
   "metadata": {},
   "outputs": [
    {
     "name": "stdout",
     "output_type": "stream",
     "text": [
      "<class 'pandas.core.frame.DataFrame'>\n",
      "RangeIndex: 219575 entries, 0 to 219574\n",
      "Data columns (total 7 columns):\n",
      " #   Column                         Non-Null Count   Dtype  \n",
      "---  ------                         --------------   -----  \n",
      " 0   Date                           219575 non-null  object \n",
      " 1   AverageTemperature             191994 non-null  float64\n",
      " 2   AverageTemperatureUncertainty  191994 non-null  float64\n",
      " 3   City                           219575 non-null  object \n",
      " 4   Country                        219575 non-null  object \n",
      " 5   Latitude                       219575 non-null  object \n",
      " 6   Longitude                      219575 non-null  object \n",
      "dtypes: float64(2), object(5)\n",
      "memory usage: 11.7+ MB\n"
     ]
    }
   ],
   "source": [
    "df.info()"
   ]
  },
  {
   "cell_type": "code",
   "execution_count": 9,
   "metadata": {},
   "outputs": [
    {
     "data": {
      "text/plain": [
       "array(['Abidjan', 'Addis Abeba', 'Ahmadabad', 'Aleppo', 'Alexandria',\n",
       "       'Ankara', 'Baghdad', 'Bangalore', 'Bangkok', 'Belo Horizonte',\n",
       "       'Berlin', 'Bogotá', 'Bombay', 'Brasília', 'Cairo', 'Calcutta',\n",
       "       'Cali', 'Cape Town', 'Casablanca', 'Changchun', 'Chengdu',\n",
       "       'Chicago', 'Chongqing', 'Dakar', 'Dalian', 'Dar Es Salaam',\n",
       "       'Delhi', 'Dhaka', 'Durban', 'Faisalabad', 'Fortaleza', 'Gizeh',\n",
       "       'Guangzhou', 'Harare', 'Harbin', 'Ho Chi Minh City', 'Hyderabad',\n",
       "       'Ibadan', 'Istanbul', 'Izmir', 'Jaipur', 'Jakarta', 'Jiddah',\n",
       "       'Jinan', 'Kabul', 'Kano', 'Kanpur', 'Karachi', 'Kiev', 'Kinshasa',\n",
       "       'Lagos', 'Lahore', 'Lakhnau', 'Lima', 'London', 'Los Angeles',\n",
       "       'Luanda', 'Madras', 'Madrid', 'Manila', 'Mashhad', 'Melbourne',\n",
       "       'Mexico', 'Mogadishu', 'Montreal', 'Moscow', 'Nagoya', 'Nagpur',\n",
       "       'Nairobi', 'Nanjing', 'New Delhi', 'New York', 'Paris', 'Peking',\n",
       "       'Pune', 'Rangoon', 'Rio De Janeiro', 'Riyadh', 'Rome',\n",
       "       'Saint Petersburg', 'Salvador', 'Santiago', 'Santo Domingo',\n",
       "       'Seoul', 'Shanghai', 'Shenyang', 'Singapore', 'Surabaya', 'Surat',\n",
       "       'Sydney', 'São Paulo', 'Taipei', 'Taiyuan', 'Tangshan', 'Tianjin',\n",
       "       'Tokyo', 'Toronto', 'Umm Durman', 'Wuhan', 'Xian'], dtype=object)"
      ]
     },
     "execution_count": 9,
     "metadata": {},
     "output_type": "execute_result"
    }
   ],
   "source": [
    "df['City'].unique()"
   ]
  },
  {
   "cell_type": "code",
   "execution_count": 157,
   "metadata": {},
   "outputs": [],
   "source": [
    "def str_to_float(l:list) -> list:\n",
    "    \"\"\"Return the same list but with float values\n",
    "\n",
    "    Args:\n",
    "        l (list): input list of str values\n",
    "\n",
    "    Returns:\n",
    "        list: output list filled with None and floats\n",
    "    \"\"\"\n",
    "    return [None if i == '' else float(i) for i in l]\n",
    "\n",
    "def pick_forward_value(li:list, index:int=0) -> float:\n",
    "    for i in range(index + 1, len(li)):\n",
    "        if li[i] == None:\n",
    "            continue\n",
    "        else:\n",
    "            return float(li[i])\n",
    "\n",
    "def pick_backward_value(li:list, index:int=-1) -> float:        \n",
    "    for i in range(index - 1 , 0 - 1, -1):\n",
    "        if li[i] == None:\n",
    "            continue\n",
    "        else:\n",
    "            return float(li[i])\n",
    "    return None\n",
    "\n",
    "import copy\n",
    "\n",
    "def fill_list(original_list:list) -> list:\n",
    "    # Transform the list if it has strings instead of floats\n",
    "    original_list = str_to_float(original_list)\n",
    "    \n",
    "    # Make a copy that we will fill\n",
    "    newl = copy.deepcopy(original_list)\n",
    "    \n",
    "    # Subsitute values\n",
    "    for i in range(len(original_list)):\n",
    "        #### initial value ####\n",
    "        if (i == 0):  \n",
    "            if (original_list[i] == None): \n",
    "                val1 = pick_forward_value(original_list, i)\n",
    "                val = val1/2\n",
    "                newl[i] = val\n",
    "            else:\n",
    "                continue\n",
    "        #### last value ####\n",
    "        elif (i == len(original_list)-1):\n",
    "            if original_list[i] == None: \n",
    "                val1 = pick_backward_value(original_list, i)\n",
    "                val = val1/2\n",
    "                newl[i] = val\n",
    "            else:\n",
    "                continue\n",
    "        #### inner values ####\n",
    "        else:\n",
    "            if original_list[i] == None:\n",
    "                # Save in the val variable the last computed value\n",
    "                # Hence we can use it without checking the list\n",
    "                val = (val + pick_forward_value(original_list, i))/2\n",
    "                newl[i] = val\n",
    "            else:\n",
    "                continue\n",
    "    return newl"
   ]
  },
  {
   "cell_type": "code",
   "execution_count": 153,
   "metadata": {},
   "outputs": [
    {
     "data": {
      "text/plain": [
       "[12.0, 18.0, 21.0, 24.0, 28.9]"
      ]
     },
     "execution_count": 153,
     "metadata": {},
     "output_type": "execute_result"
    }
   ],
   "source": [
    "import copy\n",
    "\n",
    "original_list = ['','', '', '24', '28.9']\n",
    "original_list = str_to_float(original_list)\n",
    "fill_list(original_list)"
   ]
  },
  {
   "cell_type": "code",
   "execution_count": 156,
   "metadata": {},
   "outputs": [
    {
     "data": {
      "text/plain": [
       "[2.5, 5.0, 6.0, 3.0]"
      ]
     },
     "execution_count": 156,
     "metadata": {},
     "output_type": "execute_result"
    }
   ],
   "source": [
    "fill_list(ary)"
   ]
  },
  {
   "cell_type": "code",
   "execution_count": null,
   "metadata": {},
   "outputs": [],
   "source": []
  }
 ],
 "metadata": {
  "interpreter": {
   "hash": "afad3e5d60d609398ecce3ba468213674dfc27eda2bcdfe27a1dfdc5eca24277"
  },
  "kernelspec": {
   "display_name": "Python 3.10.2 ('data_science')",
   "language": "python",
   "name": "python3"
  },
  "language_info": {
   "codemirror_mode": {
    "name": "ipython",
    "version": 3
   },
   "file_extension": ".py",
   "mimetype": "text/x-python",
   "name": "python",
   "nbconvert_exporter": "python",
   "pygments_lexer": "ipython3",
   "version": "3.10.2"
  },
  "orig_nbformat": 4
 },
 "nbformat": 4,
 "nbformat_minor": 2
}
