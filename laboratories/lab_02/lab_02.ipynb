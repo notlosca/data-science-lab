{
 "cells": [
  {
   "cell_type": "code",
   "execution_count": 2,
   "metadata": {},
   "outputs": [
    {
     "data": {
      "image/png": "[encoded data removed]",
      "text/plain": [
       "<Figure size 432x288 with 1 Axes>"
      ]
     },
     "metadata": {
      "needs_background": "light"
     },
     "output_type": "display_data"
    }
   ],
   "source": [
    "from random import gauss\n",
    "import matplotlib.pyplot as plt\n",
    "%matplotlib inline\n",
    "\n",
    "l = [gauss(0, 1) for _ in range(500)]\n",
    "plt.hist(l)\n",
    "plt.title('Gaussian distribution (mu=0, sigma=1)')\n",
    "plt.show()"
   ]
  },
  {
   "cell_type": "code",
   "execution_count": 9,
   "metadata": {},
   "outputs": [
    {
     "name": "stdout",
     "output_type": "stream",
     "text": [
      "--2022-04-08 22:25:22--  https://raw.githubusercontent.com/dbdmg/data-science-lab/master/datasets/GLT_filtered.csv\n",
      "Resolving raw.githubusercontent.com (raw.githubusercontent.com)... 185.199.108.133, 185.199.109.133, 185.199.110.133, ...\n",
      "Connecting to raw.githubusercontent.com (raw.githubusercontent.com)|185.199.108.133|:443... connected.\n",
      "HTTP request sent, awaiting response... 200 OK\n",
      "Length: 12720645 (12M) [text/plain]\n",
      "Saving to: ‘glt.csv’\n",
      "\n",
      "glt.csv             100%[===================>]  12,13M  38,8MB/s    in 0,3s    \n",
      "\n",
      "2022-04-08 22:25:22 (38,8 MB/s) - ‘glt.csv’ saved [12720645/12720645]\n",
      "\n"
     ]
    }
   ],
   "source": [
    "!wget https://raw.githubusercontent.com/dbdmg/data-science-lab/master/datasets/GLT_filtered.csv -O glt.csv"
   ]
  },
  {
   "cell_type": "code",
   "execution_count": 89,
   "metadata": {},
   "outputs": [],
   "source": [
    "import csv\n",
    "import numpy as np\n",
    "\n",
    "with open(\"glt.csv\", \"r\") as f:\n",
    "    lol = []\n",
    "    for cols in csv.reader(f):\n",
    "        lol.append(cols)\n",
    "    lol = np.array(lol)\n",
    "        "
   ]
  },
  {
   "cell_type": "code",
   "execution_count": 64,
   "metadata": {},
   "outputs": [
    {
     "data": {
      "text/plain": [
       "array(['26.704', '27.434', '', ..., '12.399', '4.7360000000000015',\n",
       "       '-0.8220000000000001'], dtype='<U34')"
      ]
     },
     "execution_count": 64,
     "metadata": {},
     "output_type": "execute_result"
    }
   ],
   "source": [
    "avg_temp = np.array(lol)[:, 1]\n",
    "avg_temp[1:]"
   ]
  },
  {
   "cell_type": "code",
   "execution_count": 90,
   "metadata": {},
   "outputs": [],
   "source": [
    "def str_to_float(l:list) -> list:\n",
    "    \"\"\"Return the same list but with float values\n",
    "\n",
    "    Args:\n",
    "        l (list): input list of str values\n",
    "\n",
    "    Returns:\n",
    "        list: output list filled with None and floats\n",
    "    \"\"\"\n",
    "    return [None if i == '' else float(i) for i in l]\n",
    "\n",
    "def pick_forward_value(li:list, index:int=0) -> float:\n",
    "    for i in range(index + 1, len(li)):\n",
    "        if li[i] == None:\n",
    "            continue\n",
    "        else:\n",
    "            return float(li[i])\n",
    "\n",
    "def pick_backward_value(li:list, index:int=-1) -> float:        \n",
    "    for i in range(index - 1 , 0 - 1, -1):\n",
    "        if li[i] == None:\n",
    "            continue\n",
    "        else:\n",
    "            return float(li[i])\n",
    "    return None\n",
    "\n",
    "import copy\n",
    "\n",
    "def fill_list(original_list:list) -> list:\n",
    "    # Transform the list if it has strings instead of floats\n",
    "    original_list = str_to_float(original_list)\n",
    "    \n",
    "    # Make a copy that we will fill\n",
    "    newl = copy.deepcopy(original_list)\n",
    "    \n",
    "    # Subsitute values\n",
    "    for i in range(len(original_list)):\n",
    "        #### initial value ####\n",
    "        if (i == 0):  \n",
    "            if (original_list[i] == None): \n",
    "                val1 = pick_forward_value(original_list, i)\n",
    "                val = val1/2\n",
    "                newl[i] = val\n",
    "            else:\n",
    "                val = original_list[i]\n",
    "                continue\n",
    "        #### last value ####\n",
    "        elif (i == len(original_list)-1):\n",
    "            if original_list[i] == None: \n",
    "                val1 = pick_backward_value(original_list, i)\n",
    "                val = val1/2\n",
    "                newl[i] = val\n",
    "            else:\n",
    "                newl[i] = original_list[i]\n",
    "                continue\n",
    "        #### inner values ####\n",
    "        else:\n",
    "            if original_list[i] == None:\n",
    "                # Save in the val variable the last computed value\n",
    "                # Hence we can use it without checking the list\n",
    "                val1 = pick_forward_value(original_list, i)\n",
    "                if val1 == None:\n",
    "                    val = (val + val)/2\n",
    "                else:\n",
    "                    val = (val + val1)/2\n",
    "                newl[i] = val\n",
    "            else:\n",
    "                continue\n",
    "    return newl"
   ]
  },
  {
   "cell_type": "code",
   "execution_count": 91,
   "metadata": {},
   "outputs": [],
   "source": [
    "# To take every city we can exploit the set function \n",
    "# (it doesn't take care of the order)\n",
    "cities = list(set(lol[1:,3])) \n",
    "# Since the cities are sorted alphabetically,\n",
    "# we have used the set function and then sorted\n",
    "# the outcoming list\n",
    "cities.sort() # sort alphabetically in place\n",
    "\n",
    "d = dict()\n",
    "# Fill the dictionary with keys as the name of city\n",
    "# and as values a tuple containing the range of indexes\n",
    "for city in cities:\n",
    "    index = 0\n",
    "    indexes = list()\n",
    "    for row in lol[1:,3]:\n",
    "        if row == city:    \n",
    "            indexes.append(index)\n",
    "            index += 1\n",
    "        else: \n",
    "            index += 1\n",
    "    d[city] = min(indexes), max(indexes)"
   ]
  },
  {
   "cell_type": "code",
   "execution_count": 93,
   "metadata": {},
   "outputs": [],
   "source": [
    "for city in cities:\n",
    "    tp = d[city] # tuple containing the range of indexes\n",
    "    start_index = tp[0] + 1 # + 1 to take into account the header\n",
    "    stop_index = tp[1] + 2 # + 1 for the header, the other + 1 is due to the fact that the slice doesn't include the stop index \n",
    "    # Fill the temperature and then set them\n",
    "    temp_filled = fill_list(lol[tp[0]+1:tp[1]+2][:,1])\n",
    "    lol[tp[0]+1:tp[1]+2][:,1] = temp_filled\n",
    "    # Do the same for the standard deviation\n",
    "    std_filled = fill_list(lol[tp[0]+1:tp[1]+2][:,2])\n",
    "    lol[tp[0]+1:tp[1]+2][:,2] = std_filled\n"
   ]
  },
  {
   "cell_type": "code",
   "execution_count": 94,
   "metadata": {},
   "outputs": [],
   "source": [
    "df = pd.DataFrame(lol[1:], columns=lol[0])"
   ]
  },
  {
   "cell_type": "code",
   "execution_count": 95,
   "metadata": {},
   "outputs": [
    {
     "name": "stdout",
     "output_type": "stream",
     "text": [
      "<class 'pandas.core.frame.DataFrame'>\n",
      "RangeIndex: 219575 entries, 0 to 219574\n",
      "Data columns (total 7 columns):\n",
      " #   Column                         Non-Null Count   Dtype \n",
      "---  ------                         --------------   ----- \n",
      " 0   Date                           219575 non-null  object\n",
      " 1   AverageTemperature             219575 non-null  object\n",
      " 2   AverageTemperatureUncertainty  219575 non-null  object\n",
      " 3   City                           219575 non-null  object\n",
      " 4   Country                        219575 non-null  object\n",
      " 5   Latitude                       219575 non-null  object\n",
      " 6   Longitude                      219575 non-null  object\n",
      "dtypes: object(7)\n",
      "memory usage: 11.7+ MB\n"
     ]
    }
   ],
   "source": [
    "df.info() # to check if everything is filled"
   ]
  },
  {
   "cell_type": "code",
   "execution_count": 111,
   "metadata": {},
   "outputs": [],
   "source": [
    "import pandas as pd\n",
    "from typing import Tuple\n",
    "\n",
    "def get_topN_temp(df = pd.DataFrame, city_name:str=None, N:int=0) -> Tuple:\n",
    "    mask = df['City'] == city_name\n",
    "    # Pick the last N values in the sorted list in ascendent order,\n",
    "    # then change the order\n",
    "    hot = sorted(df[mask]['AverageTemperature'])[-N:][::-1]\n",
    "    # Pick the first N values in the sorted list in ascendent order\n",
    "    cold = sorted(df[mask]['AverageTemperature'])[:N]\n",
    "    return hot, cold\n"
   ]
  },
  {
   "cell_type": "code",
   "execution_count": 112,
   "metadata": {},
   "outputs": [
    {
     "data": {
      "text/plain": [
       "(['29.923',\n",
       "  '29.596',\n",
       "  '29.477',\n",
       "  '29.471',\n",
       "  '29.405',\n",
       "  '29.345',\n",
       "  '29.288',\n",
       "  '29.278',\n",
       "  '29.262',\n",
       "  '29.246'],\n",
       " ['22.363000000000003',\n",
       "  '22.377',\n",
       "  '22.528',\n",
       "  '22.63000000000001',\n",
       "  '22.644',\n",
       "  '22.682',\n",
       "  '22.728',\n",
       "  '22.75',\n",
       "  '22.819000000000006',\n",
       "  '22.912'])"
      ]
     },
     "execution_count": 112,
     "metadata": {},
     "output_type": "execute_result"
    }
   ],
   "source": [
    "get_topN_temp(df, cities[0], N=10)"
   ]
  },
  {
   "cell_type": "code",
   "execution_count": 10,
   "metadata": {},
   "outputs": [
    {
     "name": "stdout",
     "output_type": "stream",
     "text": [
      "Abidjan 1968\n",
      "Addis Abeba 1956\n",
      "Ahmadabad 2352\n",
      "Aleppo 2352\n",
      "Alexandria 2352\n",
      "Ankara 2352\n",
      "Baghdad 2328\n",
      "Bangalore 2352\n",
      "Bangkok 2352\n",
      "Belo Horizonte 2172\n",
      "Berlin 2352\n",
      "Bogotá 2268\n",
      "Bombay 2352\n",
      "Brasília 2172\n",
      "Cairo 2352\n",
      "Calcutta 2352\n",
      "Cali 2256\n",
      "Cape Town 1872\n",
      "Casablanca 2352\n",
      "Changchun 2309\n",
      "Chengdu 2309\n",
      "Chicago 2352\n",
      "Chongqing 2076\n",
      "Dakar 1968\n",
      "Dalian 2204\n",
      "Dar Es Salaam 1956\n",
      "Delhi 2352\n",
      "Dhaka 2352\n",
      "Durban 1872\n",
      "Faisalabad 2352\n",
      "Fortaleza 2016\n",
      "Gizeh 2352\n",
      "Guangzhou 2076\n",
      "Harare 1956\n",
      "Harbin 2309\n",
      "Ho Chi Minh City 2256\n",
      "Hyderabad 2352\n",
      "Ibadan 1884\n",
      "Istanbul 2352\n",
      "Izmir 2352\n",
      "Jaipur 2352\n",
      "Jakarta 2256\n",
      "Jiddah 2040\n",
      "Jinan 2076\n",
      "Kabul 2160\n",
      "Kano 1884\n",
      "Kanpur 2352\n",
      "Karachi 2352\n",
      "Kiev 2352\n",
      "Kinshasa 1884\n",
      "Lagos 1968\n",
      "Lahore 2352\n",
      "Lakhnau 2352\n",
      "Lima 1582\n",
      "London 2352\n",
      "Los Angeles 1968\n",
      "Luanda 1884\n",
      "Madras 2352\n",
      "Madrid 2352\n",
      "Manila 2016\n",
      "Mashhad 2172\n",
      "Melbourne 2064\n",
      "Mexico 2136\n",
      "Mogadishu 1956\n",
      "Montreal 2352\n",
      "Moscow 2352\n",
      "Nagoya 2061\n",
      "Nagpur 2352\n",
      "Nairobi 1956\n",
      "Nanjing 2064\n",
      "New Delhi 2352\n",
      "New York 2352\n",
      "Paris 2352\n",
      "Peking 2309\n",
      "Pune 2352\n",
      "Rangoon 2352\n",
      "Rio De Janeiro 2172\n",
      "Riyadh 2040\n",
      "Rome 2352\n",
      "Saint Petersburg 2352\n",
      "Salvador 2172\n",
      "Santiago 1892\n",
      "Santo Domingo 2268\n",
      "Seoul 2088\n",
      "Shanghai 2064\n",
      "Shenyang 2204\n",
      "Singapore 2256\n",
      "Surabaya 2256\n",
      "Surat 2352\n",
      "Sydney 2064\n",
      "São Paulo 2172\n",
      "Taipei 2064\n",
      "Taiyuan 2309\n",
      "Tangshan 2309\n",
      "Tianjin 2309\n",
      "Tokyo 2016\n",
      "Toronto 2352\n",
      "Umm Durman 1848\n",
      "Wuhan 2064\n",
      "Xian 2309\n"
     ]
    }
   ],
   "source": [
    "cities = df['City'].unique()\n",
    "for city in cities:\n",
    "    print(city, (df['City'] == city).sum())"
   ]
  }
 ],
 "metadata": {
  "interpreter": {
   "hash": "afad3e5d60d609398ecce3ba468213674dfc27eda2bcdfe27a1dfdc5eca24277"
  },
  "kernelspec": {
   "display_name": "Python 3.10.2 ('data_science')",
   "language": "python",
   "name": "python3"
  },
  "language_info": {
   "codemirror_mode": {
    "name": "ipython",
    "version": 3
   },
   "file_extension": ".py",
   "mimetype": "text/x-python",
   "name": "python",
   "nbconvert_exporter": "python",
   "pygments_lexer": "ipython3",
   "version": "3.10.2"
  },
  "orig_nbformat": 4
 },
 "nbformat": 4,
 "nbformat_minor": 2
}
