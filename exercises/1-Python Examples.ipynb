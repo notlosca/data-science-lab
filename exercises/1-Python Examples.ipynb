{
 "cells": [
  {
   "cell_type": "markdown",
   "metadata": {},
   "source": [
    "# Python Examples\n"
   ]
  },
  {
   "cell_type": "markdown",
   "metadata": {},
   "source": [
    "## 0) Object ids\n"
   ]
  },
  {
   "cell_type": "code",
   "execution_count": 1,
   "metadata": {},
   "outputs": [
    {
     "name": "stdout",
     "output_type": "stream",
     "text": [
      "id(x): 4347341152\n",
      "id(y): 4347341152\n"
     ]
    }
   ],
   "source": [
    "x = 1\n",
    "y = 1\n",
    "print(\"id(x):\",id(x))\n",
    "print(\"id(y):\",id(y))"
   ]
  },
  {
   "cell_type": "markdown",
   "metadata": {},
   "source": [
    "## 1) Removing list duplicates"
   ]
  },
  {
   "cell_type": "code",
   "execution_count": 2,
   "metadata": {},
   "outputs": [],
   "source": [
    "def remove_list_duplicates(l:list):\n",
    "    \"\"\"Sort a list and remove its duplicates\n",
    "\n",
    "    Args:\n",
    "        l (list): list in which you need to remove duplicates\n",
    "    \"\"\"\n",
    "    l = sorted(l)\n",
    "    to_remove = [] # store indexes where we have a duplicate\n",
    "    for i in range(1,len(l)):\n",
    "        if l[i] == l[i-1]:\n",
    "            to_remove.append(i)\n",
    "    # this counter is used to take into account the deletion of the duplicate element.\n",
    "    # Since we have stored indexes, when we remove one element from the list, \n",
    "    # the new duplicate element will be shifted of one index\n",
    "    cnt = 0 \n",
    "    for index in to_remove:\n",
    "        index -= cnt\n",
    "        del l[index]\n",
    "        cnt += 1\n",
    "    return l"
   ]
  },
  {
   "cell_type": "code",
   "execution_count": 5,
   "metadata": {},
   "outputs": [
    {
     "name": "stdout",
     "output_type": "stream",
     "text": [
      "[0, 1, 2, 2, 3, 0, 1, 2, 5, 6, 7]\n",
      "[0, 0, 1, 1, 2, 2, 2, 3, 5, 6, 7]\n"
     ]
    },
    {
     "data": {
      "text/plain": [
       "[0, 1, 2, 3, 5, 6, 7]"
      ]
     },
     "execution_count": 5,
     "metadata": {},
     "output_type": "execute_result"
    }
   ],
   "source": [
    "l1 = [0,1,2,2,3,0,1,2,5,6,7]\n",
    "print(l1)\n",
    "print(sorted(l1))\n",
    "remove_list_duplicates(l1)"
   ]
  },
  {
   "cell_type": "code",
   "execution_count": 7,
   "metadata": {},
   "outputs": [
    {
     "data": {
      "text/plain": [
       "[0, 1, 2, 3, 5, 6, 7]"
      ]
     },
     "execution_count": 7,
     "metadata": {},
     "output_type": "execute_result"
    }
   ],
   "source": [
    "l1 = [0,1,2,2,3,0,1,2,5,6,7]\n",
    "list(set(l1)) # same result"
   ]
  },
  {
   "cell_type": "markdown",
   "metadata": {},
   "source": [
    "### NOTE:\n",
    "Sets are unordered. We can see it with such examples. __The order is not well defined during iterations__"
   ]
  },
  {
   "cell_type": "code",
   "execution_count": 14,
   "metadata": {},
   "outputs": [
    {
     "name": "stdout",
     "output_type": "stream",
     "text": [
      "set_a == set_b: True\n",
      "set_a: {1, 2, 3, 'order', 'original'}\n",
      "\titeration 0: 1\n",
      "\titeration 0: 2\n",
      "\titeration 0: 3\n",
      "\titeration 0: order\n",
      "\titeration 0: original\n",
      "set_b: {1, 2, 3, 'order', 'original'}\n",
      "\titeration 0: 1\n",
      "\titeration 0: 2\n",
      "\titeration 0: 3\n",
      "\titeration 0: order\n",
      "\titeration 0: original\n"
     ]
    }
   ],
   "source": [
    "set_a = {1,2,3, \"original\", \"order\"}\n",
    "set_b = {3,1,2, \"order\", \"original\"} # we can see that the print differs\n",
    "print(\"set_a == set_b:\", set_a == set_b)\n",
    "\n",
    "#### set_a ####\n",
    "print(f\"set_a: {set_a}\")\n",
    "it = 0\n",
    "for i in set_a:\n",
    "    print(f\"\\titeration {it}:\", i)\n",
    "#### set_a ####\n",
    "\n",
    "#### set_b ####\n",
    "print(f\"set_b: {set_b}\")\n",
    "it = 0\n",
    "for i in set_b:\n",
    "    print(f\"\\titeration {it}:\", i)\n",
    "#### set_b ####"
   ]
  },
  {
   "cell_type": "markdown",
   "metadata": {},
   "source": [
    "## 2) Euclidean distance between lists"
   ]
  },
  {
   "cell_type": "markdown",
   "metadata": {},
   "source": [
    "$$\n",
    "d(\\mathbb{p}, \\mathbb{q}) = \\sqrt{\\sum_i^n(p_i-q_i)^2}\n",
    "$$"
   ]
  },
  {
   "cell_type": "code",
   "execution_count": 1,
   "metadata": {},
   "outputs": [],
   "source": [
    "def eucl_distance(list1:list, list2:list) -> float:\n",
    "    \"\"\"Compute the Euclidean distance between 2 given lists of numbers\n",
    "\n",
    "    Args:\n",
    "        list1 (list): first list\n",
    "        list2 (list): second list\n",
    "\n",
    "    Returns:\n",
    "        float: Euclidean distance\n",
    "    \"\"\"\n",
    "    \n",
    "    for el1, el2 in zip(list1, list2):\n",
    "        if isinstance(el1, str) or isinstance(el2, str):\n",
    "            return \"Error, cannot compute Euclidean distance between strings\"\n",
    "    if len(list1) == len(list2):\n",
    "        flag = True\n",
    "        len_list = len(list1)\n",
    "        \n",
    "        dist = 0\n",
    "        \n",
    "        for i in range(len_list):\n",
    "            dist += (list1[i] - list2[i])**2\n",
    "\n",
    "        return dist**0.5\n",
    "    else:\n",
    "        print(f\"Error, len({list1}) != len({list2})\")"
   ]
  },
  {
   "cell_type": "code",
   "execution_count": 6,
   "metadata": {},
   "outputs": [],
   "source": [
    "import math\n",
    "def compact_eucl_distance(x:list, y:list) -> float:\n",
    "    dist = sum([(x_el-y_el)**2 for x_el, y_el in zip(x,y)])\n",
    "    return math.sqrt(dist)"
   ]
  },
  {
   "cell_type": "code",
   "execution_count": 8,
   "metadata": {},
   "outputs": [
    {
     "data": {
      "text/plain": [
       "3.0"
      ]
     },
     "execution_count": 8,
     "metadata": {},
     "output_type": "execute_result"
    }
   ],
   "source": [
    "x, y = [1,2,3], [2,4,5]\n",
    "a, b = [1,2,\"hello\"], [2,4, \"there\"]\n",
    "#a, b = [1,2,True], [2,4, False]\n",
    "\n",
    "eucl_distance(a,b)\n",
    "compact_eucl_distance(x,y)"
   ]
  },
  {
   "cell_type": "markdown",
   "metadata": {},
   "source": [
    "## 3) Classes and lambda functions: rule-based classifier\n",
    "Write a rule based classifier that allows classifying samples based on rules provided by the user.\n",
    "- Each **sample** to be classified is a **dictionary**.\n",
    "- **Rules** specify the output class that should be assigned to the sample based on its dictionary fields\n",
    "- The classifier can take as input **more than one rule**\n",
    "- It should also request with its constructor a **default class** that is assigned when none of the rules apply to the sample\n",
    "\n",
    "**Example of sample:**\n",
    "my_sample = {'temperature' : 20, 'humidity' : 0.8}\n",
    "\n",
    "**Example of rule:**\n",
    "if temperature > 5 and humidity > 0.7 then class = 'Rainy'\n",
    "\n",
    "**Apply the classifier:**\n",
    "my_classifer.classify(my_sample)\n"
   ]
  },
  {
   "cell_type": "code",
   "execution_count": 10,
   "metadata": {},
   "outputs": [],
   "source": [
    "class RuleClassifier():\n",
    "    \n",
    "    def __init__(self, weather:str):\n",
    "        self.weather = weather\n",
    "        \n",
    "    functions = []\n",
    "    labels = []\n",
    "    def add_rule(self, function, label:str):\n",
    "        self.functions.append(function)\n",
    "        self.labels.append(label)\n",
    "    \n",
    "    def classify(self, sample:dict):\n",
    "        __cnt = 0\n",
    "        for f in self.functions:\n",
    "            result = f(sample)\n",
    "            if result:\n",
    "                return self.labels[__cnt]\n",
    "            __cnt += 1      "
   ]
  },
  {
   "cell_type": "markdown",
   "metadata": {},
   "source": [
    "**Example of creation and execution of the classifier:**"
   ]
  },
  {
   "cell_type": "code",
   "execution_count": 11,
   "metadata": {},
   "outputs": [
    {
     "name": "stdout",
     "output_type": "stream",
     "text": [
      "None\n",
      "Rainy\n"
     ]
    }
   ],
   "source": [
    "# Creation\n",
    "rule_clf = RuleClassifier('Sunny')\n",
    "\n",
    "# Add rules\n",
    "rule_clf.add_rule(lambda x: x['temperature']>5 and x['humidity']>0.7, 'Rainy')\n",
    "rule_clf.add_rule(lambda x: x['temperature']<5 and x['humidity']>0.7, 'Snowy')\n",
    "rule_clf.add_rule(lambda x: x['temperature']>25 and x['humidity']>0.8, 'Foggy')\n",
    "\n",
    "# Perform classification\n",
    "print(rule_clf.classify({'temperature' : 30, 'humidity' : 0.4}))\n",
    "print(rule_clf.classify({'temperature' : 15, 'humidity' : 0.8}))"
   ]
  },
  {
   "cell_type": "markdown",
   "metadata": {},
   "source": [
    "## 4) Classes and exception handling: reading csv files\n",
    "Implement a class that reads a csv file with header and allows accessing data by column."
   ]
  },
  {
   "cell_type": "code",
   "execution_count": 62,
   "metadata": {},
   "outputs": [],
   "source": [
    "class Table:\n",
    "    def __init__(self, file_path):\n",
    "        # Step 1: {'ID': [], 'Name': [] ... }\n",
    "        # Step 2: {'ID': ['1', '2', '3'], 'Name': ['John', 'Alicia', 'Sam'] ... }\n",
    "        \n",
    "        with open(file_path, 'r') as f:\n",
    "            header = f.readline().strip().split(',')\n",
    "            \n",
    "            # Initialize the dictionary self.__columns\n",
    "            # Set the __columns dictionary where each key is an empty list\n",
    "            self.__columns = {k:[] for k in header}\n",
    "            \n",
    "            # Read lines\n",
    "            for line in f:\n",
    "                # Clean your line by removing white characters and \\n.\n",
    "                # Then split them based on the separator of the .csv file\n",
    "                data = line.strip().split(',')\n",
    "                \n",
    "                # Loop over the line (which is now a list)\n",
    "                # and append the corresponding value to the key field\n",
    "                for d in range(len(data)):\n",
    "                    self.__columns[header[d]].append(data[d])\n",
    "            \n",
    "    \n",
    "    def get_column(self, column_name):\n",
    "        return self.__columns[column_name]\n",
    "    \n",
    "    # My addition\n",
    "    def get_data(self):\n",
    "        return self.__columns\n",
    "        "
   ]
  },
  {
   "cell_type": "code",
   "execution_count": 58,
   "metadata": {},
   "outputs": [
    {
     "name": "stdout",
     "output_type": "stream",
     "text": [
      "['John', 'Alicia', 'Sam']\n"
     ]
    }
   ],
   "source": [
    "try:\n",
    "    table = Table('./TableExample.csv')\n",
    "    print(table.get_column('Name'))\n",
    "except:\n",
    "    print(\"Error while loading table\")"
   ]
  },
  {
   "cell_type": "code",
   "execution_count": 61,
   "metadata": {},
   "outputs": [
    {
     "name": "stdout",
     "output_type": "stream",
     "text": [
      "{'ID': ['1', '2', '3'], 'Name': ['John', 'Alicia', 'Sam'], 'Surname': ['Scarlet', 'White', 'Green'], 'Age': ['56', '78', '34']}\n"
     ]
    }
   ],
   "source": [
    "try:\n",
    "    table = Table('./TableExample.csv')\n",
    "    print(table.get_data())\n",
    "except:\n",
    "    print(\"Error while loading table\")"
   ]
  },
  {
   "cell_type": "markdown",
   "metadata": {},
   "source": [
    "---------\n",
    "## other approach"
   ]
  },
  {
   "cell_type": "code",
   "execution_count": 29,
   "metadata": {},
   "outputs": [],
   "source": [
    "file_path = './TableExample.csv'\n",
    "with open(file_path, 'r') as f:\n",
    "    header = f.readline().strip().split(',')\n",
    "    lists = []\n",
    "    for l in f:\n",
    "        line = l.strip().split(',')\n",
    "        lists.append({k:v for k,v in zip(header, line)})"
   ]
  },
  {
   "cell_type": "code",
   "execution_count": 33,
   "metadata": {},
   "outputs": [
    {
     "data": {
      "text/plain": [
       "{'ID': ['1', '2', '3'],\n",
       " 'Name': ['John', 'Alicia', 'Sam'],\n",
       " 'Surname': ['Scarlet', 'White', 'Green'],\n",
       " 'Age': ['56', '78', '34']}"
      ]
     },
     "execution_count": 33,
     "metadata": {},
     "output_type": "execute_result"
    }
   ],
   "source": [
    "keys = header\n",
    "final_dict = {}\n",
    "\n",
    "for key in keys:\n",
    "    temp_list = []\n",
    "    for sample in lists:\n",
    "        temp_list.append(sample[key])\n",
    "    final_dict[key] = temp_list\n",
    "\n",
    "final_dict\n"
   ]
  },
  {
   "cell_type": "markdown",
   "metadata": {},
   "source": [
    "---------"
   ]
  }
 ],
 "metadata": {
  "kernelspec": {
   "display_name": "Python 3",
   "language": "python",
   "name": "python3"
  },
  "language_info": {
   "codemirror_mode": {
    "name": "ipython",
    "version": 3
   },
   "file_extension": ".py",
   "mimetype": "text/x-python",
   "name": "python",
   "nbconvert_exporter": "python",
   "pygments_lexer": "ipython3",
   "version": "3.10.2"
  }
 },
 "nbformat": 4,
 "nbformat_minor": 2
}
