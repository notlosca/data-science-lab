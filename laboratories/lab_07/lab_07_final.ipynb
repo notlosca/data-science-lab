{
 "cells": [
  {
   "cell_type": "code",
   "execution_count": 1,
   "metadata": {},
   "outputs": [],
   "source": [
    "import os\n",
    "import scipy.io.wavfile as spwav\n",
    "import numpy as np\n",
    "import pandas as pd\n",
    "\n",
    "def min_max_avg(ary: np.array) -> tuple:\n",
    "    \"\"\"\n",
    "    Extract minimum, maximum, and compute the average of the array\n",
    "\n",
    "    Args:\n",
    "        ary (np.array): input array\n",
    "\n",
    "    Returns:\n",
    "        tuple: tuple of (min, max, avg)\n",
    "    \"\"\"\n",
    "    return (np.min(ary), np.max(ary), np.mean(ary))\n",
    "\n",
    "\n",
    "def create_dict_dataset(path:str, is_eval:bool=False) -> tuple:\n",
    "    \"\"\"\n",
    "    function used to read the dataset. It creates a dictionary in\n",
    "    the following form:\n",
    "    id: {label, array, min_max_avg}\n",
    "\n",
    "    Args:\n",
    "        path (str): path used to read the dataset\n",
    "        is_eval (bool, optional): boolean flag to set to True\n",
    "        if the dataset you want to read is the evaluation one.\n",
    "        Defaults to False.\n",
    "\n",
    "    Returns:\n",
    "        tuple: dataset in dictionary form, list of arrays' shape (num of samples), list of arrays\n",
    "    \"\"\"\n",
    "    samples = os.listdir(path)\n",
    "    d = dict()\n",
    "    frequency = spwav.read(path + samples[0])[0]\n",
    "    lengths = []\n",
    "    mma_list = [] # min_max_avg list\n",
    "    arys = []\n",
    "    for sample in samples:\n",
    "        if is_eval:\n",
    "            id = int(sample.split('.')[0])\n",
    "        else:\n",
    "            id = int(sample.split('_')[0])\n",
    "        ary = spwav.read(path + sample)[1]\n",
    "        time_length = ary.shape\n",
    "        arys.append(ary)\n",
    "        lengths.append(time_length)\n",
    "        mma_list.append(min_max_avg(ary))\n",
    "        if is_eval:\n",
    "            d_temp = {'ary': ary,\n",
    "                    'min_max_avg':min_max_avg(ary),\n",
    "                    'time': round(time_length[0]/frequency, 2)} # till -4 since it has the .wav extension\n",
    "        else:\n",
    "            d_temp = {'label': int(sample.split('_')[1][:-4]),\n",
    "                    'ary': ary,\n",
    "                    'min_max_avg':min_max_avg(ary),\n",
    "                    'time': round(time_length[0]/frequency, 2)} # till -4 since it has the .wav extension\n",
    "        d[id] = d_temp \n",
    "    return d, lengths, arys\n",
    "\n",
    "def padding(ary: np.array, target_len:int, padding_element:int=0) -> np.array:\n",
    "    \"\"\"\n",
    "    Pad an array with the given length and the given element\n",
    "\n",
    "    Args:\n",
    "        ary (np.array): input array to pad\n",
    "        target_len (int): length to pad the array\n",
    "        padding_element (int, optional): element used to pad. Defaults to 0.\n",
    "\n",
    "    Returns:\n",
    "        np.array: padded array\n",
    "    \"\"\"\n",
    "    return np.pad(ary, (0, target_len), 'constant',  constant_values=padding_element)\n",
    "\n",
    "def pad_arrays(arys:list, max_length:int, value=0,) -> list:\n",
    "    \"\"\"\n",
    "    Function that padd all the arrays to the given max length\n",
    "\n",
    "    Args:\n",
    "        arys (list): list of arrays to pad\n",
    "        max_length (int): target length of the array\n",
    "        value (int, optional): value used to pad. Values can be 'mean' or generic values. Defaults to 0.\n",
    "\n",
    "    Returns:\n",
    "        list: list of padded arrays\n",
    "    \"\"\"\n",
    "    new_arys = []\n",
    "    for a in arys:\n",
    "        width_to_pad = max_length-len(a)\n",
    "                \n",
    "        if value == 'mean':\n",
    "            new_ar = padding(a, width_to_pad, np.mean(a))\n",
    "        else:\n",
    "            new_ar = padding(a, width_to_pad, value)\n",
    "    \n",
    "        new_arys.append(new_ar)\n",
    "    return new_arys\n",
    "\n",
    "## arrivato al punto in cui devo vedere se mettere o meno new_mma_list. \n",
    "# Creare funzione per creare il dataframe.\n",
    "\n",
    "def compute_mma_list(arys:list) -> list:\n",
    "    \"\"\"\n",
    "    Function that will compute min, max, and mean of each array in a given list\n",
    "\n",
    "    Args:\n",
    "        arys (list): list of arrays\n",
    "\n",
    "    Returns:\n",
    "        list: list of tuples of min, max, and average. \n",
    "        One entry for each array in arys\n",
    "    \"\"\"\n",
    "    mma_list = []\n",
    "    for a in arys:\n",
    "        mma_list.append(min_max_avg(a))\n",
    "    return mma_list\n",
    "\n",
    "def create_df(d:dict, arys:list, avg_threshold=-5) -> pd.DataFrame:\n",
    "    mma_list = compute_mma_list(arys)\n",
    "    df = pd.DataFrame.from_dict(d).T\n",
    "    df.ary = arys\n",
    "    df.min_max_avg = mma_list\n",
    "    df.sort_index(axis=0, inplace=True)\n",
    "    avg = []\n",
    "    for tup in df.min_max_avg:\n",
    "        avg.append(tup[-1])\n",
    "    df['avg'] = avg\n",
    "    # noise removal, we remove arrays with mean value below -5. \n",
    "    # I've seen that even if I pad with 0, the overall mean is strongly below -5,\n",
    "    # but I know I should do it in a more general way\n",
    "    mask = df['avg'] > avg_threshold\n",
    "    return df[mask]\n",
    "\n",
    "def simple_moving_average(list_of_arys:list) -> np.array:\n",
    "    list_of_arys = list(list_of_arys)\n",
    "    ary = np.zeros(shape=(len(list_of_arys)))\n",
    "    for id in range(len(list_of_arys)):\n",
    "        num_values = len(list_of_arys[id])\n",
    "        tot = np.sum(list_of_arys[id])\n",
    "        ary[id] = tot/num_values\n",
    "    return ary\n",
    "\n",
    "def cumulative_moving_average(list_of_arys:list) -> np.array:\n",
    "    temp = [(np.sum(i), len(i)) for i in list_of_arys]\n",
    "    mean_variable = 0\n",
    "    values_cnt = 0\n",
    "    out_list = []\n",
    "    \n",
    "    for i in range(len(temp)):\n",
    "        sum, l = temp[i]\n",
    "        if i == 0:\n",
    "            mean_variable = sum/l\n",
    "            values_cnt += l\n",
    "            out_list.append(mean_variable)\n",
    "        else:\n",
    "            mean_variable = (sum + values_cnt*mean_variable)/(l + values_cnt)\n",
    "            values_cnt += l\n",
    "            out_list.append(mean_variable)\n",
    "\n",
    "\n",
    "    return np.array(out_list)\n",
    "\n",
    "def bucket(df:pd.DataFrame, num_buckets:int=100, type_of_feature:str='sma', is_eval:bool=False):\n",
    "    another_dict = dict()\n",
    "\n",
    "    for id, array in zip(df.ary.index, df.ary):\n",
    "        split_ary = np.array_split(array, num_buckets)\n",
    "        cnt_feature = 0\n",
    "        features = dict()\n",
    "        for subary in split_ary:\n",
    "            features[f'feature_{cnt_feature}'] = subary\n",
    "            cnt_feature += 1\n",
    "        another_dict[id] = features\n",
    "    \n",
    "    if type_of_feature == 'sma':\n",
    "        # Simple moving average\n",
    "        sma_dict = {}\n",
    "        for key, item in another_dict.items():\n",
    "            simple_mean = simple_moving_average(item.values())\n",
    "            sma_dict[key] = {f'feature_{i}':m for i,m in enumerate(simple_mean)}\n",
    "        bucket_df = pd.DataFrame.from_dict(sma_dict).T\n",
    "        \n",
    "    elif type_of_feature == 'cma':\n",
    "        # Cumulative moving average\n",
    "        cum_avg_dict = dict()\n",
    "        for key, item in another_dict.items():\n",
    "            mean = cumulative_moving_average(item.values())        \n",
    "            cum_avg_dict[key] = {f'feature_{i}': m for i,m in enumerate(mean)}\n",
    "        bucket_df = pd.DataFrame.from_dict(cum_avg_dict).T\n",
    "    if is_eval: \n",
    "        return bucket_df    \n",
    "    \n",
    "    bucket_df['label'] = df.label\n",
    "    return bucket_df"
   ]
  },
  {
   "cell_type": "markdown",
   "metadata": {},
   "source": [
    "# Preprocessing"
   ]
  },
  {
   "cell_type": "code",
   "execution_count": 2,
   "metadata": {},
   "outputs": [],
   "source": [
    "# train dataset\n",
    "dev, train_lengths, train_arys = create_dict_dataset('./free_spoken_digit/dev/')\n",
    "dev_max_length = max(train_lengths)[0]\n",
    "\n",
    "# eval dataset\n",
    "eval, eval_lengths, eval_arys = create_dict_dataset('./free_spoken_digit/eval/', is_eval= True)\n",
    "eval_max_length = max(eval_lengths)[0]\n",
    "\n",
    "#check the maximum length between train and eval, to have homogeneous padding\n",
    "if eval_max_length > dev_max_length: \n",
    "    max_length = eval_max_length\n",
    "else:\n",
    "    max_length = dev_max_length\n",
    "    \n",
    "#### train ####\n",
    "train_new_arys = pad_arrays(train_arys, max_length, 0)\n",
    "train_df = create_df(dev, train_new_arys, avg_threshold=-5)\n",
    "bucket_train_df = bucket(train_df, 1000, type_of_feature='sma')\n",
    "\n",
    "#### eval #####\n",
    "eval_new_arys = pad_arrays(eval_arys, eval_max_length, 0) # must be coherent with train!\n",
    "eval_df = create_df(eval, eval_new_arys, avg_threshold=-5)\n",
    "bucket_eval_df = bucket(eval_df, 1000, type_of_feature='sma', is_eval=True) # again, must be coherent with train\n",
    "\n"
   ]
  },
  {
   "cell_type": "code",
   "execution_count": 3,
   "metadata": {},
   "outputs": [
    {
     "data": {
      "text/html": [
       "<div>\n",
       "<style scoped>\n",
       "    .dataframe tbody tr th:only-of-type {\n",
       "        vertical-align: middle;\n",
       "    }\n",
       "\n",
       "    .dataframe tbody tr th {\n",
       "        vertical-align: top;\n",
       "    }\n",
       "\n",
       "    .dataframe thead th {\n",
       "        text-align: right;\n",
       "    }\n",
       "</style>\n",
       "<table border=\"1\" class=\"dataframe\">\n",
       "  <thead>\n",
       "    <tr style=\"text-align: right;\">\n",
       "      <th></th>\n",
       "      <th>feature_0</th>\n",
       "      <th>feature_1</th>\n",
       "      <th>feature_2</th>\n",
       "      <th>feature_3</th>\n",
       "      <th>feature_4</th>\n",
       "      <th>feature_5</th>\n",
       "      <th>feature_6</th>\n",
       "      <th>feature_7</th>\n",
       "      <th>feature_8</th>\n",
       "      <th>feature_9</th>\n",
       "      <th>...</th>\n",
       "      <th>feature_991</th>\n",
       "      <th>feature_992</th>\n",
       "      <th>feature_993</th>\n",
       "      <th>feature_994</th>\n",
       "      <th>feature_995</th>\n",
       "      <th>feature_996</th>\n",
       "      <th>feature_997</th>\n",
       "      <th>feature_998</th>\n",
       "      <th>feature_999</th>\n",
       "      <th>label</th>\n",
       "    </tr>\n",
       "  </thead>\n",
       "  <tbody>\n",
       "    <tr>\n",
       "      <th>0</th>\n",
       "      <td>6.894737</td>\n",
       "      <td>-7.157895</td>\n",
       "      <td>10.789474</td>\n",
       "      <td>14.210526</td>\n",
       "      <td>22.473684</td>\n",
       "      <td>-38.421053</td>\n",
       "      <td>2.684211</td>\n",
       "      <td>-50.368421</td>\n",
       "      <td>146.421053</td>\n",
       "      <td>-535.368421</td>\n",
       "      <td>...</td>\n",
       "      <td>0.0</td>\n",
       "      <td>0.0</td>\n",
       "      <td>0.0</td>\n",
       "      <td>0.0</td>\n",
       "      <td>0.0</td>\n",
       "      <td>0.0</td>\n",
       "      <td>0.0</td>\n",
       "      <td>0.0</td>\n",
       "      <td>0.0</td>\n",
       "      <td>4</td>\n",
       "    </tr>\n",
       "    <tr>\n",
       "      <th>1</th>\n",
       "      <td>-0.210526</td>\n",
       "      <td>-0.736842</td>\n",
       "      <td>-1.105263</td>\n",
       "      <td>0.578947</td>\n",
       "      <td>-1.473684</td>\n",
       "      <td>-2.789474</td>\n",
       "      <td>2.000000</td>\n",
       "      <td>-0.473684</td>\n",
       "      <td>-1.105263</td>\n",
       "      <td>-0.578947</td>\n",
       "      <td>...</td>\n",
       "      <td>0.0</td>\n",
       "      <td>0.0</td>\n",
       "      <td>0.0</td>\n",
       "      <td>0.0</td>\n",
       "      <td>0.0</td>\n",
       "      <td>0.0</td>\n",
       "      <td>0.0</td>\n",
       "      <td>0.0</td>\n",
       "      <td>0.0</td>\n",
       "      <td>7</td>\n",
       "    </tr>\n",
       "    <tr>\n",
       "      <th>2</th>\n",
       "      <td>1.789474</td>\n",
       "      <td>-4.315789</td>\n",
       "      <td>1.842105</td>\n",
       "      <td>-8.578947</td>\n",
       "      <td>0.894737</td>\n",
       "      <td>-5.526316</td>\n",
       "      <td>-2.578947</td>\n",
       "      <td>3.421053</td>\n",
       "      <td>-1.842105</td>\n",
       "      <td>0.315789</td>\n",
       "      <td>...</td>\n",
       "      <td>0.0</td>\n",
       "      <td>0.0</td>\n",
       "      <td>0.0</td>\n",
       "      <td>0.0</td>\n",
       "      <td>0.0</td>\n",
       "      <td>0.0</td>\n",
       "      <td>0.0</td>\n",
       "      <td>0.0</td>\n",
       "      <td>0.0</td>\n",
       "      <td>5</td>\n",
       "    </tr>\n",
       "    <tr>\n",
       "      <th>4</th>\n",
       "      <td>0.894737</td>\n",
       "      <td>17.421053</td>\n",
       "      <td>25.578947</td>\n",
       "      <td>-26.105263</td>\n",
       "      <td>-20.157895</td>\n",
       "      <td>-4.631579</td>\n",
       "      <td>-17.578947</td>\n",
       "      <td>1.684211</td>\n",
       "      <td>6.789474</td>\n",
       "      <td>3.789474</td>\n",
       "      <td>...</td>\n",
       "      <td>0.0</td>\n",
       "      <td>0.0</td>\n",
       "      <td>0.0</td>\n",
       "      <td>0.0</td>\n",
       "      <td>0.0</td>\n",
       "      <td>0.0</td>\n",
       "      <td>0.0</td>\n",
       "      <td>0.0</td>\n",
       "      <td>0.0</td>\n",
       "      <td>3</td>\n",
       "    </tr>\n",
       "    <tr>\n",
       "      <th>6</th>\n",
       "      <td>9.473684</td>\n",
       "      <td>-42.947368</td>\n",
       "      <td>65.157895</td>\n",
       "      <td>-21.736842</td>\n",
       "      <td>-38.631579</td>\n",
       "      <td>165.526316</td>\n",
       "      <td>-298.631579</td>\n",
       "      <td>158.421053</td>\n",
       "      <td>83.578947</td>\n",
       "      <td>-193.052632</td>\n",
       "      <td>...</td>\n",
       "      <td>0.0</td>\n",
       "      <td>0.0</td>\n",
       "      <td>0.0</td>\n",
       "      <td>0.0</td>\n",
       "      <td>0.0</td>\n",
       "      <td>0.0</td>\n",
       "      <td>0.0</td>\n",
       "      <td>0.0</td>\n",
       "      <td>0.0</td>\n",
       "      <td>1</td>\n",
       "    </tr>\n",
       "  </tbody>\n",
       "</table>\n",
       "<p>5 rows × 1001 columns</p>\n",
       "</div>"
      ],
      "text/plain": [
       "   feature_0  feature_1  feature_2  feature_3  feature_4   feature_5  \\\n",
       "0   6.894737  -7.157895  10.789474  14.210526  22.473684  -38.421053   \n",
       "1  -0.210526  -0.736842  -1.105263   0.578947  -1.473684   -2.789474   \n",
       "2   1.789474  -4.315789   1.842105  -8.578947   0.894737   -5.526316   \n",
       "4   0.894737  17.421053  25.578947 -26.105263 -20.157895   -4.631579   \n",
       "6   9.473684 -42.947368  65.157895 -21.736842 -38.631579  165.526316   \n",
       "\n",
       "    feature_6   feature_7   feature_8   feature_9  ...  feature_991  \\\n",
       "0    2.684211  -50.368421  146.421053 -535.368421  ...          0.0   \n",
       "1    2.000000   -0.473684   -1.105263   -0.578947  ...          0.0   \n",
       "2   -2.578947    3.421053   -1.842105    0.315789  ...          0.0   \n",
       "4  -17.578947    1.684211    6.789474    3.789474  ...          0.0   \n",
       "6 -298.631579  158.421053   83.578947 -193.052632  ...          0.0   \n",
       "\n",
       "   feature_992  feature_993  feature_994  feature_995  feature_996  \\\n",
       "0          0.0          0.0          0.0          0.0          0.0   \n",
       "1          0.0          0.0          0.0          0.0          0.0   \n",
       "2          0.0          0.0          0.0          0.0          0.0   \n",
       "4          0.0          0.0          0.0          0.0          0.0   \n",
       "6          0.0          0.0          0.0          0.0          0.0   \n",
       "\n",
       "   feature_997  feature_998  feature_999  label  \n",
       "0          0.0          0.0          0.0      4  \n",
       "1          0.0          0.0          0.0      7  \n",
       "2          0.0          0.0          0.0      5  \n",
       "4          0.0          0.0          0.0      3  \n",
       "6          0.0          0.0          0.0      1  \n",
       "\n",
       "[5 rows x 1001 columns]"
      ]
     },
     "execution_count": 3,
     "metadata": {},
     "output_type": "execute_result"
    }
   ],
   "source": [
    "bucket_train_df.head()"
   ]
  },
  {
   "cell_type": "code",
   "execution_count": 4,
   "metadata": {},
   "outputs": [
    {
     "data": {
      "text/html": [
       "<div>\n",
       "<style scoped>\n",
       "    .dataframe tbody tr th:only-of-type {\n",
       "        vertical-align: middle;\n",
       "    }\n",
       "\n",
       "    .dataframe tbody tr th {\n",
       "        vertical-align: top;\n",
       "    }\n",
       "\n",
       "    .dataframe thead th {\n",
       "        text-align: right;\n",
       "    }\n",
       "</style>\n",
       "<table border=\"1\" class=\"dataframe\">\n",
       "  <thead>\n",
       "    <tr style=\"text-align: right;\">\n",
       "      <th></th>\n",
       "      <th>feature_0</th>\n",
       "      <th>feature_1</th>\n",
       "      <th>feature_2</th>\n",
       "      <th>feature_3</th>\n",
       "      <th>feature_4</th>\n",
       "      <th>feature_5</th>\n",
       "      <th>feature_6</th>\n",
       "      <th>feature_7</th>\n",
       "      <th>feature_8</th>\n",
       "      <th>feature_9</th>\n",
       "      <th>...</th>\n",
       "      <th>feature_990</th>\n",
       "      <th>feature_991</th>\n",
       "      <th>feature_992</th>\n",
       "      <th>feature_993</th>\n",
       "      <th>feature_994</th>\n",
       "      <th>feature_995</th>\n",
       "      <th>feature_996</th>\n",
       "      <th>feature_997</th>\n",
       "      <th>feature_998</th>\n",
       "      <th>feature_999</th>\n",
       "    </tr>\n",
       "  </thead>\n",
       "  <tbody>\n",
       "    <tr>\n",
       "      <th>1</th>\n",
       "      <td>9.736842</td>\n",
       "      <td>-48.631579</td>\n",
       "      <td>50.368421</td>\n",
       "      <td>24.789474</td>\n",
       "      <td>-130.736842</td>\n",
       "      <td>154.052632</td>\n",
       "      <td>-31.157895</td>\n",
       "      <td>-123.105263</td>\n",
       "      <td>150.578947</td>\n",
       "      <td>-2.000000</td>\n",
       "      <td>...</td>\n",
       "      <td>0.0</td>\n",
       "      <td>0.0</td>\n",
       "      <td>0.0</td>\n",
       "      <td>0.0</td>\n",
       "      <td>0.0</td>\n",
       "      <td>0.0</td>\n",
       "      <td>0.0</td>\n",
       "      <td>0.0</td>\n",
       "      <td>0.0</td>\n",
       "      <td>0.0</td>\n",
       "    </tr>\n",
       "    <tr>\n",
       "      <th>2</th>\n",
       "      <td>-1.526316</td>\n",
       "      <td>-10.210526</td>\n",
       "      <td>-16.947368</td>\n",
       "      <td>137.947368</td>\n",
       "      <td>-97.210526</td>\n",
       "      <td>16.157895</td>\n",
       "      <td>-28.736842</td>\n",
       "      <td>-7.526316</td>\n",
       "      <td>-10.000000</td>\n",
       "      <td>21.315789</td>\n",
       "      <td>...</td>\n",
       "      <td>0.0</td>\n",
       "      <td>0.0</td>\n",
       "      <td>0.0</td>\n",
       "      <td>0.0</td>\n",
       "      <td>0.0</td>\n",
       "      <td>0.0</td>\n",
       "      <td>0.0</td>\n",
       "      <td>0.0</td>\n",
       "      <td>0.0</td>\n",
       "      <td>0.0</td>\n",
       "    </tr>\n",
       "    <tr>\n",
       "      <th>3</th>\n",
       "      <td>6.105263</td>\n",
       "      <td>6.631579</td>\n",
       "      <td>-13.842105</td>\n",
       "      <td>1.368421</td>\n",
       "      <td>14.526316</td>\n",
       "      <td>-7.736842</td>\n",
       "      <td>-24.315789</td>\n",
       "      <td>32.526316</td>\n",
       "      <td>-0.473684</td>\n",
       "      <td>-31.263158</td>\n",
       "      <td>...</td>\n",
       "      <td>0.0</td>\n",
       "      <td>0.0</td>\n",
       "      <td>0.0</td>\n",
       "      <td>0.0</td>\n",
       "      <td>0.0</td>\n",
       "      <td>0.0</td>\n",
       "      <td>0.0</td>\n",
       "      <td>0.0</td>\n",
       "      <td>0.0</td>\n",
       "      <td>0.0</td>\n",
       "    </tr>\n",
       "    <tr>\n",
       "      <th>4</th>\n",
       "      <td>1.421053</td>\n",
       "      <td>-1.421053</td>\n",
       "      <td>2.157895</td>\n",
       "      <td>-3.842105</td>\n",
       "      <td>-0.368421</td>\n",
       "      <td>-1.578947</td>\n",
       "      <td>-1.157895</td>\n",
       "      <td>-4.578947</td>\n",
       "      <td>3.894737</td>\n",
       "      <td>-0.631579</td>\n",
       "      <td>...</td>\n",
       "      <td>0.0</td>\n",
       "      <td>0.0</td>\n",
       "      <td>0.0</td>\n",
       "      <td>0.0</td>\n",
       "      <td>0.0</td>\n",
       "      <td>0.0</td>\n",
       "      <td>0.0</td>\n",
       "      <td>0.0</td>\n",
       "      <td>0.0</td>\n",
       "      <td>0.0</td>\n",
       "    </tr>\n",
       "    <tr>\n",
       "      <th>5</th>\n",
       "      <td>9.526316</td>\n",
       "      <td>-6.947368</td>\n",
       "      <td>-15.947368</td>\n",
       "      <td>25.947368</td>\n",
       "      <td>-5.473684</td>\n",
       "      <td>-20.526316</td>\n",
       "      <td>150.157895</td>\n",
       "      <td>79.736842</td>\n",
       "      <td>-262.894737</td>\n",
       "      <td>114.736842</td>\n",
       "      <td>...</td>\n",
       "      <td>0.0</td>\n",
       "      <td>0.0</td>\n",
       "      <td>0.0</td>\n",
       "      <td>0.0</td>\n",
       "      <td>0.0</td>\n",
       "      <td>0.0</td>\n",
       "      <td>0.0</td>\n",
       "      <td>0.0</td>\n",
       "      <td>0.0</td>\n",
       "      <td>0.0</td>\n",
       "    </tr>\n",
       "  </tbody>\n",
       "</table>\n",
       "<p>5 rows × 1000 columns</p>\n",
       "</div>"
      ],
      "text/plain": [
       "   feature_0  feature_1  feature_2   feature_3   feature_4   feature_5  \\\n",
       "1   9.736842 -48.631579  50.368421   24.789474 -130.736842  154.052632   \n",
       "2  -1.526316 -10.210526 -16.947368  137.947368  -97.210526   16.157895   \n",
       "3   6.105263   6.631579 -13.842105    1.368421   14.526316   -7.736842   \n",
       "4   1.421053  -1.421053   2.157895   -3.842105   -0.368421   -1.578947   \n",
       "5   9.526316  -6.947368 -15.947368   25.947368   -5.473684  -20.526316   \n",
       "\n",
       "    feature_6   feature_7   feature_8   feature_9  ...  feature_990  \\\n",
       "1  -31.157895 -123.105263  150.578947   -2.000000  ...          0.0   \n",
       "2  -28.736842   -7.526316  -10.000000   21.315789  ...          0.0   \n",
       "3  -24.315789   32.526316   -0.473684  -31.263158  ...          0.0   \n",
       "4   -1.157895   -4.578947    3.894737   -0.631579  ...          0.0   \n",
       "5  150.157895   79.736842 -262.894737  114.736842  ...          0.0   \n",
       "\n",
       "   feature_991  feature_992  feature_993  feature_994  feature_995  \\\n",
       "1          0.0          0.0          0.0          0.0          0.0   \n",
       "2          0.0          0.0          0.0          0.0          0.0   \n",
       "3          0.0          0.0          0.0          0.0          0.0   \n",
       "4          0.0          0.0          0.0          0.0          0.0   \n",
       "5          0.0          0.0          0.0          0.0          0.0   \n",
       "\n",
       "   feature_996  feature_997  feature_998  feature_999  \n",
       "1          0.0          0.0          0.0          0.0  \n",
       "2          0.0          0.0          0.0          0.0  \n",
       "3          0.0          0.0          0.0          0.0  \n",
       "4          0.0          0.0          0.0          0.0  \n",
       "5          0.0          0.0          0.0          0.0  \n",
       "\n",
       "[5 rows x 1000 columns]"
      ]
     },
     "execution_count": 4,
     "metadata": {},
     "output_type": "execute_result"
    }
   ],
   "source": [
    "bucket_eval_df.head()"
   ]
  },
  {
   "cell_type": "markdown",
   "metadata": {},
   "source": [
    "# Classifiers\n",
    "We will use macro F1 score as metric. The F1 score is:\n",
    "$$F1_{score} = 2\\cdot\\frac{Precision\\cdot Recall}{Precision + Recall}$$\n",
    "where\n",
    "$$Precision = \\frac{TP}{TP + FP}$$\n",
    "$$Recall = \\frac{TP}{TP + FN}$$\n",
    "\n",
    "Worst value of F1 score is 0, while the best one is 1."
   ]
  },
  {
   "cell_type": "code",
   "execution_count": null,
   "metadata": {},
   "outputs": [],
   "source": [
    "from sklearn.model_selection import train_test_split, ParameterGrid\n",
    "from sklearn.tree import DecisionTreeClassifier\n",
    "from sklearn.ensemble import RandomForestClassifier\n",
    "from sklearn.neighbors import KNeighborsClassifier\n",
    "from sklearn.metrics import f1_score\n",
    "\n",
    "np.random.seed(0) #to make experiments reproducible\n",
    "\n",
    "X_train, X_test, y_train, y_test = train_test_split(bucket_train_df[bucket_train_df.columns[:-1]], bucket_train_df[bucket_train_df.columns[-1]], test_size=.2)\n",
    "\n",
    "y_train = y_train.astype('int')\n",
    "y_test = y_test.astype('int')\n"
   ]
  },
  {
   "cell_type": "code",
   "execution_count": 101,
   "metadata": {},
   "outputs": [
    {
     "data": {
      "text/plain": [
       "0.20931129986500788"
      ]
     },
     "execution_count": 101,
     "metadata": {},
     "output_type": "execute_result"
    }
   ],
   "source": [
    "clf = DecisionTreeClassifier().fit(X_train, y_train)\n",
    "preds = clf.predict(X_test)\n",
    "f1_score(y_test, preds, average='macro')"
   ]
  },
  {
   "cell_type": "code",
   "execution_count": 147,
   "metadata": {},
   "outputs": [
    {
     "data": {
      "text/plain": [
       "0.39850737721475016"
      ]
     },
     "execution_count": 147,
     "metadata": {},
     "output_type": "execute_result"
    }
   ],
   "source": [
    "rf = RandomForestClassifier(n_estimators=100, max_features='sqrt', max_depth=30).fit(X_train, y_train)\n",
    "preds = rf.predict(X_test)\n",
    "f1_score(y_test, preds, average='macro')"
   ]
  },
  {
   "cell_type": "code",
   "execution_count": 119,
   "metadata": {},
   "outputs": [
    {
     "data": {
      "text/plain": [
       "0.15383813941560903"
      ]
     },
     "execution_count": 119,
     "metadata": {},
     "output_type": "execute_result"
    }
   ],
   "source": [
    "knn = KNeighborsClassifier(n_neighbors=7).fit(X_train, y_train)\n",
    "preds = knn.predict(X_test)\n",
    "f1_score(y_test, preds, average='macro')"
   ]
  },
  {
   "cell_type": "code",
   "execution_count": 127,
   "metadata": {},
   "outputs": [
    {
     "data": {
      "text/plain": [
       "0.1543745991823065"
      ]
     },
     "execution_count": 127,
     "metadata": {},
     "output_type": "execute_result"
    }
   ],
   "source": [
    "from sklearn.naive_bayes import GaussianNB\n",
    "from sklearn.preprocessing import StandardScaler\n",
    "#scaler = StandardScaler().fit(X_train)\n",
    "#X_train = scaler.transform(X_train)\n",
    "gnb = GaussianNB().fit(X_train, y_train)\n",
    "preds = gnb.predict(X_test)\n",
    "f1_score(y_test, preds, average='macro')"
   ]
  },
  {
   "cell_type": "code",
   "execution_count": 137,
   "metadata": {},
   "outputs": [
    {
     "data": {
      "text/plain": [
       "0.15765029059521102"
      ]
     },
     "execution_count": 137,
     "metadata": {},
     "output_type": "execute_result"
    }
   ],
   "source": [
    "from sklearn.pipeline import make_pipeline\n",
    "from sklearn.preprocessing import StandardScaler\n",
    "from sklearn.svm import NuSVC\n",
    "\n",
    "svm_clf = make_pipeline(StandardScaler(), NuSVC(degree=1))\n",
    "svm_clf.fit(X_train, y_train)\n",
    "preds = svm_clf.predict(X_test)\n",
    "f1_score(y_test, preds, average='macro')\n"
   ]
  },
  {
   "cell_type": "code",
   "execution_count": 143,
   "metadata": {},
   "outputs": [
    {
     "data": {
      "text/plain": [
       "0.12737773985155904"
      ]
     },
     "execution_count": 143,
     "metadata": {},
     "output_type": "execute_result"
    }
   ],
   "source": [
    "# Neural Network, MLP\n",
    "from sklearn.neural_network import MLPClassifier\n",
    "mlp = MLPClassifier(max_iter=300).fit(X_train, y_train)\n",
    "preds = mlp.predict(X_test)\n",
    "f1_score(y_test, preds, average='macro')"
   ]
  },
  {
   "cell_type": "markdown",
   "metadata": {},
   "source": [
    "---------------"
   ]
  },
  {
   "cell_type": "markdown",
   "metadata": {},
   "source": [
    "Indeed, results are not satisfactory. We should think to another kind of processing. We should think of frequency domain processing."
   ]
  },
  {
   "cell_type": "code",
   "execution_count": 8,
   "metadata": {},
   "outputs": [],
   "source": [
    "dev_samples = os.listdir('./free_spoken_digit/dev/')"
   ]
  },
  {
   "cell_type": "code",
   "execution_count": 38,
   "metadata": {},
   "outputs": [],
   "source": [
    "from scipy.io import wavfile\n",
    "from scipy import signal\n",
    "\n",
    "sample_rate, samples = wavfile.read('./free_spoken_digit/dev/' + dev_samples[10])\n",
    "frequencies, times, spectrogram = signal.spectrogram(samples, sample_rate)\n"
   ]
  },
  {
   "cell_type": "code",
   "execution_count": 73,
   "metadata": {},
   "outputs": [
    {
     "data": {
      "text/plain": [
       "Text(0, 0.5, 'Frequency (Hz)')"
      ]
     },
     "execution_count": 73,
     "metadata": {},
     "output_type": "execute_result"
    },
    {
     "data": {
      "image/png": "[encoded data removed]",
      "text/plain": [
       "<Figure size 864x720 with 1 Axes>"
      ]
     },
     "metadata": {
      "needs_background": "light"
     },
     "output_type": "display_data"
    }
   ],
   "source": [
    "import matplotlib.pyplot as plt\n",
    "plt.figure(figsize=(12,10))\n",
    "plt.specgram(x = samples, Fs = sample_rate, cmap='viridis') #x = array of samples, Fs = sample rate\n",
    "plt.title('Normal spectrogram')\n",
    "plt.xlabel('Time(s)')\n",
    "plt.ylabel('Frequency (Hz)')"
   ]
  },
  {
   "cell_type": "code",
   "execution_count": 47,
   "metadata": {},
   "outputs": [
    {
     "data": {
      "text/plain": [
       "Text(0, 0.5, 'Amplitude')"
      ]
     },
     "execution_count": 47,
     "metadata": {},
     "output_type": "execute_result"
    },
    {
     "data": {
      "image/png": "[encoded data removed]",
      "text/plain": [
       "<Figure size 864x720 with 1 Axes>"
      ]
     },
     "metadata": {
      "needs_background": "light"
     },
     "output_type": "display_data"
    }
   ],
   "source": [
    "times_axis = np.linspace(0, samples.shape[0]/sample_rate, num=len(samples))\n",
    "plt.figure(figsize=(12,10))\n",
    "plt.plot(times_axis, samples)\n",
    "plt.title('Normal wavelength')\n",
    "plt.xlabel('Time (s)')\n",
    "plt.ylabel('Amplitude')"
   ]
  },
  {
   "cell_type": "markdown",
   "metadata": {},
   "source": [
    "Let's pad the array"
   ]
  },
  {
   "cell_type": "code",
   "execution_count": 80,
   "metadata": {},
   "outputs": [],
   "source": [
    "padded_sample = pad_arrays([samples], max_length, 0)[0]"
   ]
  },
  {
   "cell_type": "code",
   "execution_count": 82,
   "metadata": {},
   "outputs": [
    {
     "data": {
      "text/plain": [
       "Text(0, 0.5, 'Frequency (Hz)')"
      ]
     },
     "execution_count": 82,
     "metadata": {},
     "output_type": "execute_result"
    },
    {
     "data": {
      "image/png": "[encoded data removed]",
      "text/plain": [
       "<Figure size 864x720 with 1 Axes>"
      ]
     },
     "metadata": {
      "needs_background": "light"
     },
     "output_type": "display_data"
    }
   ],
   "source": [
    "plt.figure(figsize=(12,10))\n",
    "plt.specgram(x = padded_sample, Fs = sample_rate, cmap='viridis') #x = array of samples, Fs = sample rate\n",
    "plt.title('Padded spectrogram')\n",
    "plt.xlabel('Time(s)')\n",
    "plt.ylabel('Frequency (Hz)')"
   ]
  },
  {
   "cell_type": "code",
   "execution_count": 64,
   "metadata": {},
   "outputs": [
    {
     "data": {
      "text/plain": [
       "Text(0, 0.5, 'Amplitude')"
      ]
     },
     "execution_count": 64,
     "metadata": {},
     "output_type": "execute_result"
    },
    {
     "data": {
      "image/png": "[encoded data removed]",
      "text/plain": [
       "<Figure size 864x720 with 1 Axes>"
      ]
     },
     "metadata": {
      "needs_background": "light"
     },
     "output_type": "display_data"
    }
   ],
   "source": [
    "# plot wavelength\n",
    "times_axis = np.linspace(0, padded_sample.shape[0]/sample_rate, num=max_length)\n",
    "plt.figure(figsize=(12,10))\n",
    "plt.plot(times_axis, padded_sample)\n",
    "plt.title('Padded wavelength')\n",
    "plt.xlabel('Time (s)')\n",
    "plt.ylabel('Amplitude')"
   ]
  },
  {
   "cell_type": "markdown",
   "metadata": {},
   "source": [
    "Do I really need to pad? If I want to divide into N x M blocks the spectrogram, I can do it in the same manner for each array. What I mean is, I can give as input how many N and how many M I want, and then divide the array as wanted. In such a manner I shall have NxM blocks for each sample. From them, I can extract mean and std deviation.\n",
    "\n",
    "Dimension of frequencies don't change over samples. Thus we have a fixed dimension. What changes is the dimension of times."
   ]
  },
  {
   "cell_type": "code",
   "execution_count": 244,
   "metadata": {},
   "outputs": [],
   "source": [
    "def divide_matrix(ary:np.array, num_columns:int, num_rows:int):    \n",
    "    \n",
    "    if (num_columns > ary.shape[1] or num_rows > ary.shape[0]):\n",
    "        return 'Error, the requested number of columns or rows exceed dimensions!'\n",
    "    \n",
    "    first = np.array_split(ary, num_rows, axis=0) # num rows\n",
    "    second = []\n",
    "    for array in first:\n",
    "        second.append(np.array_split(array, num_columns, axis=1)) # num columns\n",
    "    flattened_list = flatten(second)\n",
    "    return flattened_list\n",
    "\n",
    "def flatten(l:list):\n",
    "    flattened_list = []\n",
    "    for item in l:\n",
    "        for i in item:\n",
    "            flattened_list.append(i)\n",
    "    return flattened_list\n",
    "    \n",
    "def compute_feature(list_of_arrays:list) -> dict:\n",
    "    d = dict()\n",
    "    for id in range(len(list_of_arrays)):\n",
    "        d[f'mean_feature_{id}'] = np.mean(list_of_arrays[id])\n",
    "        d[f'std_feature_{id}'] = np.std(list_of_arrays[id])\n",
    "    return d\n",
    "\n",
    "def create_dict_dataset(path:str, is_eval:bool=False) -> dict:\n",
    "    \"\"\"\n",
    "    function used to read the dataset. It creates a dictionary in\n",
    "    the following form:\n",
    "    id: {label, frequencies, times, spectrogram}.\n",
    "    If is_eval == True, no label.\n",
    "\n",
    "    Args:\n",
    "        path (str): path used to read the dataset\n",
    "        is_eval (bool, optional): boolean flag to set to True\n",
    "        if the dataset you want to read is the evaluation one.\n",
    "        Defaults to False.\n",
    "\n",
    "    Returns:\n",
    "        dict: dataset in dictionary form\n",
    "    \"\"\"\n",
    "    all_samples = os.listdir(path)\n",
    "    d = dict()\n",
    "    for sample in all_samples:\n",
    "        if is_eval:\n",
    "            id = int(sample.split('.')[0])\n",
    "        else:\n",
    "            id = int(sample.split('_')[0])\n",
    "        sample_rate, samples = spwav.read(path + sample)\n",
    "        frequencies, times, spectrogram = signal.spectrogram(samples, sample_rate)\n",
    "        if is_eval:\n",
    "            d_temp = {'frequencies': frequencies,\n",
    "                      'times': times,\n",
    "                      'spectrogram': spectrogram} \n",
    "        else:\n",
    "            d_temp = {'label': int(sample.split('_')[1][:-4]), # till -4 since it has the .wav extension\n",
    "                    'frequencies': frequencies,\n",
    "                      'times': times,\n",
    "                      'spectrogram': spectrogram} \n",
    "        d[id] = d_temp \n",
    "    return d"
   ]
  },
  {
   "cell_type": "code",
   "execution_count": 272,
   "metadata": {},
   "outputs": [],
   "source": [
    "d = create_dict_dataset('./free_spoken_digit/dev/')\n",
    "n = 5 # num rows and num columns\n",
    "new_d = {}\n",
    "for id, item in d.items():\n",
    "    try:\n",
    "        temp_d = compute_feature(flatten(divide_matrix(item['spectrogram'], num_rows=n, num_columns=n)))\n",
    "        temp_d['label'] = item['label']\n",
    "        new_d[id] = temp_d\n",
    "    except:\n",
    "        continue"
   ]
  },
  {
   "cell_type": "code",
   "execution_count": 265,
   "metadata": {},
   "outputs": [
    {
     "data": {
      "text/plain": [
       "1498"
      ]
     },
     "execution_count": 265,
     "metadata": {},
     "output_type": "execute_result"
    }
   ],
   "source": [
    "len(new_d) #ne abbiamo persi 2 in battaglia"
   ]
  },
  {
   "cell_type": "code",
   "execution_count": 256,
   "metadata": {},
   "outputs": [
    {
     "name": "stdout",
     "output_type": "stream",
     "text": [
      "1418\n",
      "330\n"
     ]
    }
   ],
   "source": [
    "features = dict()\n",
    "for key in new_d.keys():\n",
    "    try:\n",
    "        features[key] = compute_feature(new_d[key][1])\n",
    "    except:\n",
    "        continue"
   ]
  },
  {
   "cell_type": "markdown",
   "metadata": {},
   "source": [
    "problemi con 1418 e 330, hanno come time solo 4 e nella funzione restituisco un errore. Faccio continue, ma ne perderò 2. Non è da escludere che incrementando ne perda altri. Bisogna correggere. Padding? Togliere l'errore dalla funzione e via?\n",
    "\n",
    "Capiamo"
   ]
  },
  {
   "cell_type": "code",
   "execution_count": 262,
   "metadata": {},
   "outputs": [
    {
     "data": {
      "text/plain": [
       "(129, 4)"
      ]
     },
     "execution_count": 262,
     "metadata": {},
     "output_type": "execute_result"
    }
   ],
   "source": [
    "d[1418]['spectrogram'].shape"
   ]
  },
  {
   "cell_type": "code",
   "execution_count": 269,
   "metadata": {},
   "outputs": [],
   "source": [
    "df = pd.DataFrame.from_dict(new_d).T\n",
    "df.sort_index(inplace=True)\n",
    "#df.rename(columns={0:'label', 1:'divided_ary'}, inplace=True)"
   ]
  },
  {
   "cell_type": "code",
   "execution_count": 270,
   "metadata": {},
   "outputs": [
    {
     "data": {
      "text/html": [
       "<div>\n",
       "<style scoped>\n",
       "    .dataframe tbody tr th:only-of-type {\n",
       "        vertical-align: middle;\n",
       "    }\n",
       "\n",
       "    .dataframe tbody tr th {\n",
       "        vertical-align: top;\n",
       "    }\n",
       "\n",
       "    .dataframe thead th {\n",
       "        text-align: right;\n",
       "    }\n",
       "</style>\n",
       "<table border=\"1\" class=\"dataframe\">\n",
       "  <thead>\n",
       "    <tr style=\"text-align: right;\">\n",
       "      <th></th>\n",
       "      <th>mean_feature_0</th>\n",
       "      <th>std_feature_0</th>\n",
       "      <th>mean_feature_1</th>\n",
       "      <th>std_feature_1</th>\n",
       "      <th>mean_feature_2</th>\n",
       "      <th>std_feature_2</th>\n",
       "      <th>mean_feature_3</th>\n",
       "      <th>std_feature_3</th>\n",
       "      <th>mean_feature_4</th>\n",
       "      <th>std_feature_4</th>\n",
       "      <th>...</th>\n",
       "      <th>std_feature_640</th>\n",
       "      <th>mean_feature_641</th>\n",
       "      <th>std_feature_641</th>\n",
       "      <th>mean_feature_642</th>\n",
       "      <th>std_feature_642</th>\n",
       "      <th>mean_feature_643</th>\n",
       "      <th>std_feature_643</th>\n",
       "      <th>mean_feature_644</th>\n",
       "      <th>std_feature_644</th>\n",
       "      <th>label</th>\n",
       "    </tr>\n",
       "  </thead>\n",
       "  <tbody>\n",
       "    <tr>\n",
       "      <th>0</th>\n",
       "      <td>8.056207</td>\n",
       "      <td>10.325981</td>\n",
       "      <td>16.511713</td>\n",
       "      <td>4.751960</td>\n",
       "      <td>36.918652</td>\n",
       "      <td>22.398470</td>\n",
       "      <td>87.634644</td>\n",
       "      <td>37.356968</td>\n",
       "      <td>140.528915</td>\n",
       "      <td>65.092728</td>\n",
       "      <td>...</td>\n",
       "      <td>0.001405</td>\n",
       "      <td>0.003404</td>\n",
       "      <td>0.000699</td>\n",
       "      <td>0.004053</td>\n",
       "      <td>0.000733</td>\n",
       "      <td>0.008566</td>\n",
       "      <td>0.007249</td>\n",
       "      <td>0.000562</td>\n",
       "      <td>0.000502</td>\n",
       "      <td>4.0</td>\n",
       "    </tr>\n",
       "    <tr>\n",
       "      <th>1</th>\n",
       "      <td>1.262534</td>\n",
       "      <td>1.131343</td>\n",
       "      <td>5.050905</td>\n",
       "      <td>7.107840</td>\n",
       "      <td>14.990707</td>\n",
       "      <td>21.143711</td>\n",
       "      <td>35.031445</td>\n",
       "      <td>49.321140</td>\n",
       "      <td>263.943817</td>\n",
       "      <td>372.094269</td>\n",
       "      <td>...</td>\n",
       "      <td>0.003969</td>\n",
       "      <td>0.008911</td>\n",
       "      <td>0.007955</td>\n",
       "      <td>0.004264</td>\n",
       "      <td>0.000059</td>\n",
       "      <td>0.001590</td>\n",
       "      <td>0.001288</td>\n",
       "      <td>0.002384</td>\n",
       "      <td>0.002336</td>\n",
       "      <td>7.0</td>\n",
       "    </tr>\n",
       "    <tr>\n",
       "      <th>2</th>\n",
       "      <td>20.923159</td>\n",
       "      <td>19.235100</td>\n",
       "      <td>1.144893</td>\n",
       "      <td>1.014744</td>\n",
       "      <td>8.378154</td>\n",
       "      <td>6.052547</td>\n",
       "      <td>35.554825</td>\n",
       "      <td>26.420006</td>\n",
       "      <td>284.330292</td>\n",
       "      <td>310.303436</td>\n",
       "      <td>...</td>\n",
       "      <td>0.012286</td>\n",
       "      <td>0.004504</td>\n",
       "      <td>0.002492</td>\n",
       "      <td>0.003594</td>\n",
       "      <td>0.000555</td>\n",
       "      <td>0.003530</td>\n",
       "      <td>0.002900</td>\n",
       "      <td>0.001397</td>\n",
       "      <td>0.001390</td>\n",
       "      <td>5.0</td>\n",
       "    </tr>\n",
       "    <tr>\n",
       "      <th>3</th>\n",
       "      <td>0.321685</td>\n",
       "      <td>0.363578</td>\n",
       "      <td>2.396488</td>\n",
       "      <td>2.231541</td>\n",
       "      <td>1.757551</td>\n",
       "      <td>1.440403</td>\n",
       "      <td>5.742432</td>\n",
       "      <td>4.398920</td>\n",
       "      <td>5.791383</td>\n",
       "      <td>4.123041</td>\n",
       "      <td>...</td>\n",
       "      <td>9.673529</td>\n",
       "      <td>4.896389</td>\n",
       "      <td>2.438909</td>\n",
       "      <td>14.379004</td>\n",
       "      <td>9.166743</td>\n",
       "      <td>11.915939</td>\n",
       "      <td>5.297869</td>\n",
       "      <td>3.405663</td>\n",
       "      <td>3.252888</td>\n",
       "      <td>2.0</td>\n",
       "    </tr>\n",
       "    <tr>\n",
       "      <th>4</th>\n",
       "      <td>0.318653</td>\n",
       "      <td>0.312621</td>\n",
       "      <td>0.322919</td>\n",
       "      <td>0.181024</td>\n",
       "      <td>0.319849</td>\n",
       "      <td>0.105676</td>\n",
       "      <td>0.792899</td>\n",
       "      <td>0.633740</td>\n",
       "      <td>1.859853</td>\n",
       "      <td>0.665934</td>\n",
       "      <td>...</td>\n",
       "      <td>0.000000</td>\n",
       "      <td>0.000649</td>\n",
       "      <td>0.000000</td>\n",
       "      <td>0.002230</td>\n",
       "      <td>0.000000</td>\n",
       "      <td>0.004784</td>\n",
       "      <td>0.000000</td>\n",
       "      <td>0.002311</td>\n",
       "      <td>0.000000</td>\n",
       "      <td>3.0</td>\n",
       "    </tr>\n",
       "  </tbody>\n",
       "</table>\n",
       "<p>5 rows × 1291 columns</p>\n",
       "</div>"
      ],
      "text/plain": [
       "   mean_feature_0  std_feature_0  mean_feature_1  std_feature_1  \\\n",
       "0        8.056207      10.325981       16.511713       4.751960   \n",
       "1        1.262534       1.131343        5.050905       7.107840   \n",
       "2       20.923159      19.235100        1.144893       1.014744   \n",
       "3        0.321685       0.363578        2.396488       2.231541   \n",
       "4        0.318653       0.312621        0.322919       0.181024   \n",
       "\n",
       "   mean_feature_2  std_feature_2  mean_feature_3  std_feature_3  \\\n",
       "0       36.918652      22.398470       87.634644      37.356968   \n",
       "1       14.990707      21.143711       35.031445      49.321140   \n",
       "2        8.378154       6.052547       35.554825      26.420006   \n",
       "3        1.757551       1.440403        5.742432       4.398920   \n",
       "4        0.319849       0.105676        0.792899       0.633740   \n",
       "\n",
       "   mean_feature_4  std_feature_4  ...  std_feature_640  mean_feature_641  \\\n",
       "0      140.528915      65.092728  ...         0.001405          0.003404   \n",
       "1      263.943817     372.094269  ...         0.003969          0.008911   \n",
       "2      284.330292     310.303436  ...         0.012286          0.004504   \n",
       "3        5.791383       4.123041  ...         9.673529          4.896389   \n",
       "4        1.859853       0.665934  ...         0.000000          0.000649   \n",
       "\n",
       "   std_feature_641  mean_feature_642  std_feature_642  mean_feature_643  \\\n",
       "0         0.000699          0.004053         0.000733          0.008566   \n",
       "1         0.007955          0.004264         0.000059          0.001590   \n",
       "2         0.002492          0.003594         0.000555          0.003530   \n",
       "3         2.438909         14.379004         9.166743         11.915939   \n",
       "4         0.000000          0.002230         0.000000          0.004784   \n",
       "\n",
       "   std_feature_643  mean_feature_644  std_feature_644  label  \n",
       "0         0.007249          0.000562         0.000502    4.0  \n",
       "1         0.001288          0.002384         0.002336    7.0  \n",
       "2         0.002900          0.001397         0.001390    5.0  \n",
       "3         5.297869          3.405663         3.252888    2.0  \n",
       "4         0.000000          0.002311         0.000000    3.0  \n",
       "\n",
       "[5 rows x 1291 columns]"
      ]
     },
     "execution_count": 270,
     "metadata": {},
     "output_type": "execute_result"
    }
   ],
   "source": [
    "df.head()"
   ]
  },
  {
   "cell_type": "code",
   "execution_count": 271,
   "metadata": {},
   "outputs": [
    {
     "data": {
      "text/plain": [
       "0.9477180985540707"
      ]
     },
     "execution_count": 271,
     "metadata": {},
     "output_type": "execute_result"
    }
   ],
   "source": [
    "from sklearn.model_selection import train_test_split, ParameterGrid\n",
    "from sklearn.tree import DecisionTreeClassifier\n",
    "from sklearn.ensemble import RandomForestClassifier\n",
    "from sklearn.neighbors import KNeighborsClassifier\n",
    "from sklearn.metrics import f1_score\n",
    "\n",
    "np.random.seed(0) #to make experiments reproducible\n",
    "\n",
    "X_train, X_test, y_train, y_test = train_test_split(df[df.columns[:-1]], df[df.columns[-1]], test_size=.2)\n",
    "\n",
    "y_train = y_train.astype('int')\n",
    "y_test = y_test.astype('int')\n",
    "\n",
    "rf = RandomForestClassifier(n_estimators=100, max_features='sqrt', max_depth=30).fit(X_train, y_train)\n",
    "preds = rf.predict(X_test)\n",
    "f1_score(y_test, preds, average='macro')"
   ]
  },
  {
   "cell_type": "markdown",
   "metadata": {},
   "source": [
    "LET'S GOOOOOOOOOO"
   ]
  },
  {
   "cell_type": "markdown",
   "metadata": {},
   "source": [
    "Let's find best parameters. We start with n (number of rows and number of columns)"
   ]
  },
  {
   "cell_type": "code",
   "execution_count": 280,
   "metadata": {},
   "outputs": [],
   "source": [
    "def start(path:str, n:int) -> pd.DataFrame:\n",
    "    \"\"\"Generate the dictionary of the dataset.\n",
    "    The dictionary contains features and label\n",
    "\n",
    "    Args:\n",
    "        path (str): path to dataset\n",
    "        n (int): hyperparameter used as number of rows and number of columns\n",
    "\n",
    "    Returns:\n",
    "        pd.DataFrame: dataframe of the dataset\n",
    "    \"\"\"\n",
    "    d = create_dict_dataset(path)\n",
    "    new_d = {}\n",
    "    for id, item in d.items():\n",
    "        try:\n",
    "            temp_d = compute_feature(flatten(divide_matrix(item['spectrogram'], num_rows=n, num_columns=n)))\n",
    "            temp_d['label'] = item['label']\n",
    "            new_d[id] = temp_d\n",
    "        except:\n",
    "            continue\n",
    "    df = pd.DataFrame.from_dict(new_d).T\n",
    "    df.sort_index(inplace=True)\n",
    "    return df"
   ]
  },
  {
   "cell_type": "code",
   "execution_count": 278,
   "metadata": {},
   "outputs": [
    {
     "data": {
      "text/plain": [
       "[1, 3, 5, 7, 9, 11, 13, 15, 17, 19, 21, 23, 25, 27, 29, 31, 33, 35, 37, 39]"
      ]
     },
     "execution_count": 278,
     "metadata": {},
     "output_type": "execute_result"
    }
   ],
   "source": [
    "list(range(1,40,2))"
   ]
  },
  {
   "cell_type": "code",
   "execution_count": 297,
   "metadata": {},
   "outputs": [],
   "source": [
    "from sklearn.model_selection import train_test_split, ParameterGrid\n",
    "from sklearn.ensemble import RandomForestClassifier\n",
    "from sklearn.pipeline import make_pipeline\n",
    "from sklearn.preprocessing import StandardScaler\n",
    "from sklearn.svm import SVC\n",
    "from sklearn.metrics import f1_score\n",
    "\n",
    "path = './free_spoken_digit/dev/'\n",
    "n_s = list(range(1,15,2)) # used n, 2 is the step\n",
    "f1_scores_rf = []\n",
    "f1_scores_svc = []\n",
    "\n",
    "for n in n_s:\n",
    "    df = start(path, n)\n",
    "    np.random.seed(0) #to make experiments reproducible\n",
    "    try:\n",
    "        X_train, X_test, y_train, y_test = train_test_split(df[df.columns[:-1]], df[df.columns[-1]], test_size=.2)\n",
    "\n",
    "        y_train = y_train.astype('int')\n",
    "        y_test = y_test.astype('int')\n",
    "        rf = RandomForestClassifier().fit(X_train, y_train)\n",
    "        svc = make_pipeline(StandardScaler(), SVC()).fit(X_train, y_train)\n",
    "\n",
    "        preds_rf = rf.predict(X_test)\n",
    "        preds_svc = svc.predict(X_test)\n",
    "        score_rf = f1_score(y_test, preds_rf, average='macro')\n",
    "        score_svc = f1_score(y_test, preds_svc, average='macro')\n",
    "        f1_scores_rf.append((n, score_rf))\n",
    "        f1_scores_svc.append((n, score_svc))\n",
    "    except:\n",
    "        f1_scores_rf.append((n, np.NaN))        \n",
    "        f1_scores_svc.append((n, np.NaN))        \n",
    "    continue\n"
   ]
  },
  {
   "cell_type": "code",
   "execution_count": 299,
   "metadata": {},
   "outputs": [
    {
     "data": {
      "text/plain": [
       "Text(0, 0.5, 'F1 score')"
      ]
     },
     "execution_count": 299,
     "metadata": {},
     "output_type": "execute_result"
    },
    {
     "data": {
      "image/png": "[encoded data removed]",
      "text/plain": [
       "<Figure size 864x720 with 1 Axes>"
      ]
     },
     "metadata": {
      "needs_background": "light"
     },
     "output_type": "display_data"
    }
   ],
   "source": [
    "plt.figure(figsize=(12,10))\n",
    "plt.plot([i[0] for i in f1_scores_rf], [i[1] for i in f1_scores_rf], label='Random Forest')\n",
    "plt.plot([i[0] for i in f1_scores_svc], [i[1] for i in f1_scores_svc], label='SVM')\n",
    "plt.legend()\n",
    "plt.xlabel('n')\n",
    "plt.ylabel('F1 score')"
   ]
  },
  {
   "cell_type": "code",
   "execution_count": 292,
   "metadata": {},
   "outputs": [
    {
     "data": {
      "text/plain": [
       "[(1, 0.9066818285156348),\n",
       " (3, 0.953733470334916),\n",
       " (5, 0.9477180985540707),\n",
       " (7, 0.9237246358614198),\n",
       " (9, 0.9151374366910139),\n",
       " (11, 0.8936865978192883),\n",
       " (13, 0.9042198370105347)]"
      ]
     },
     "execution_count": 292,
     "metadata": {},
     "output_type": "execute_result"
    }
   ],
   "source": [
    "f1_scores = [i[1] for i in f1_scores]"
   ]
  },
  {
   "cell_type": "code",
   "execution_count": null,
   "metadata": {},
   "outputs": [],
   "source": []
  }
 ],
 "metadata": {
  "interpreter": {
   "hash": "afad3e5d60d609398ecce3ba468213674dfc27eda2bcdfe27a1dfdc5eca24277"
  },
  "kernelspec": {
   "display_name": "Python 3.10.2 ('data_science')",
   "language": "python",
   "name": "python3"
  },
  "language_info": {
   "codemirror_mode": {
    "name": "ipython",
    "version": 3
   },
   "file_extension": ".py",
   "mimetype": "text/x-python",
   "name": "python",
   "nbconvert_exporter": "python",
   "pygments_lexer": "ipython3",
   "version": "3.10.2"
  },
  "orig_nbformat": 4
 },
 "nbformat": 4,
 "nbformat_minor": 2
}
