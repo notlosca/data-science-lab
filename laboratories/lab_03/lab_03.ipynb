{
 "cells": [
  {
   "cell_type": "markdown",
   "metadata": {},
   "source": [
    "# Association rules - 3rd laboratory\n",
    "\n",
    "- `pandas` and [`mlxtend`](http://rasbt.github.io/mlxtend/)\n",
    "- Apriori algorithm and FP-Growth "
   ]
  },
  {
   "cell_type": "markdown",
   "metadata": {},
   "source": [
    "-------\n",
    "## Online Retail Data Set"
   ]
  },
  {
   "cell_type": "code",
   "execution_count": 2,
   "metadata": {},
   "outputs": [
    {
     "name": "stdout",
     "output_type": "stream",
     "text": [
      "--2022-04-15 09:56:31--  https://github.com/dbdmg/data-science-lab/raw/master/datasets/online_retail.csv\n",
      "Resolving github.com (github.com)... 140.82.121.3\n",
      "Connecting to github.com (github.com)|140.82.121.3|:443... connected.\n",
      "HTTP request sent, awaiting response... 302 Found\n",
      "Location: https://raw.githubusercontent.com/dbdmg/data-science-lab/master/datasets/online_retail.csv [following]\n",
      "--2022-04-15 09:56:31--  https://raw.githubusercontent.com/dbdmg/data-science-lab/master/datasets/online_retail.csv\n",
      "Resolving raw.githubusercontent.com (raw.githubusercontent.com)... 185.199.108.133, 185.199.110.133, 185.199.111.133, ...\n",
      "Connecting to raw.githubusercontent.com (raw.githubusercontent.com)|185.199.108.133|:443... connected.\n",
      "HTTP request sent, awaiting response... 200 OK\n",
      "Length: 45580638 (43M) [text/plain]\n",
      "Saving to: ‘ords.csv’\n",
      "\n",
      "ords.csv            100%[===================>]  43,47M  25,9MB/s    in 1,7s    \n",
      "\n",
      "2022-04-15 09:56:33 (25,9 MB/s) - ‘ords.csv’ saved [45580638/45580638]\n",
      "\n"
     ]
    }
   ],
   "source": [
    "!wget https://github.com/dbdmg/data-science-lab/raw/master/datasets/online_retail.csv -O ords.csv"
   ]
  },
  {
   "cell_type": "code",
   "execution_count": 1,
   "metadata": {},
   "outputs": [],
   "source": [
    "import numpy as np\n",
    "import pandas as pd"
   ]
  },
  {
   "cell_type": "code",
   "execution_count": 2,
   "metadata": {},
   "outputs": [],
   "source": [
    "import csv\n",
    "\n",
    "def read_csv(file_name:str) -> list:\n",
    "    \"\"\"Read and return a list of list of the input csv file\n",
    "\n",
    "    Args:\n",
    "        file_name (str): input CSV file\n",
    "\n",
    "    Returns:\n",
    "        list: list of list of the input file, one list for each line\n",
    "        in the csv file\n",
    "    \"\"\"\n",
    "    with open(file_name, \"r\") as f:\n",
    "        lol = []\n",
    "        for cols in csv.reader(f):\n",
    "            lol.append(cols)\n",
    "    return lol"
   ]
  },
  {
   "cell_type": "code",
   "execution_count": 3,
   "metadata": {},
   "outputs": [],
   "source": [
    "ords_lol = np.array(read_csv('ords.csv'))"
   ]
  },
  {
   "cell_type": "code",
   "execution_count": 4,
   "metadata": {},
   "outputs": [],
   "source": [
    "def indexes_to_delete(ary:np.array) -> list:\n",
    "    \"\"\"Return a list containing the indexes \n",
    "    that belong to a cancelled transaction\n",
    "\n",
    "    Args:\n",
    "        ary (np.array): input array\n",
    "\n",
    "    Returns:\n",
    "        list: output list containing indexes\n",
    "    \"\"\"\n",
    "    indexes_to_delete = []\n",
    "    for transaction_id in range(ary.shape[0] - 1):\n",
    "        if ary[transaction_id,0][0] == 'C':\n",
    "            indexes_to_delete.append(transaction_id)\n",
    "        else:\n",
    "            continue    \n",
    "    return indexes_to_delete\n",
    "\n",
    "\n",
    "ids_to_delete = indexes_to_delete(ords_lol)\n"
   ]
  },
  {
   "cell_type": "code",
   "execution_count": 5,
   "metadata": {},
   "outputs": [],
   "source": [
    "filtered_ords = np.delete(ords_lol, ids_to_delete, axis=0)\n",
    "ids_to_delete = None"
   ]
  },
  {
   "cell_type": "code",
   "execution_count": 6,
   "metadata": {},
   "outputs": [
    {
     "data": {
      "text/plain": [
       "[]"
      ]
     },
     "execution_count": 6,
     "metadata": {},
     "output_type": "execute_result"
    }
   ],
   "source": [
    "indexes_to_delete(filtered_ords) # return empty list"
   ]
  },
  {
   "cell_type": "code",
   "execution_count": 32,
   "metadata": {},
   "outputs": [],
   "source": [
    "invoices = sorted(set(filtered_ords[:,0]))\n",
    "\n",
    "transactions = {id:[] for id in invoices}\n",
    "\n",
    "for t in filtered_ords[1:]:\n",
    "    id = t[0]\n",
    "    element = t[2]\n",
    "    transactions[id].append(element)    \n",
    "    "
   ]
  },
  {
   "cell_type": "code",
   "execution_count": null,
   "metadata": {},
   "outputs": [],
   "source": [
    "transactions.values()"
   ]
  },
  {
   "cell_type": "code",
   "execution_count": 39,
   "metadata": {},
   "outputs": [],
   "source": [
    "number_of_itemsets = len(transactions.values()) \n",
    "set_of_items = sorted(set(filtered_ords[1:,2]))\n",
    "matrix = np.zeros(shape=(number_of_itemsets, len(set_of_items)))"
   ]
  },
  {
   "cell_type": "code",
   "execution_count": 50,
   "metadata": {},
   "outputs": [],
   "source": [
    "arys = [] #list of arrays, 1 array for each transaction\n",
    "for t in transactions.values():  \n",
    "    ary = np.zeros(len(set_of_items))\n",
    "    for transaction_item in t:\n",
    "        id = 0\n",
    "        for item in set_of_items:\n",
    "            if transaction_item == item:\n",
    "                ary[id] = 1\n",
    "                id += 1\n",
    "            else:\n",
    "                id += 1\n",
    "                continue\n",
    "    arys.append(ary)"
   ]
  },
  {
   "cell_type": "code",
   "execution_count": 49,
   "metadata": {},
   "outputs": [
    {
     "data": {
      "text/plain": [
       "4208"
      ]
     },
     "execution_count": 49,
     "metadata": {},
     "output_type": "execute_result"
    }
   ],
   "source": [
    "len(set_of_items)"
   ]
  },
  {
   "cell_type": "code",
   "execution_count": 53,
   "metadata": {},
   "outputs": [
    {
     "data": {
      "text/plain": [
       "7.0"
      ]
     },
     "execution_count": 53,
     "metadata": {},
     "output_type": "execute_result"
    }
   ],
   "source": [
    "arys[0].sum()"
   ]
  },
  {
   "cell_type": "code",
   "execution_count": 56,
   "metadata": {},
   "outputs": [
    {
     "data": {
      "text/plain": [
       "['WHITE HANGING HEART T-LIGHT HOLDER',\n",
       " 'WHITE METAL LANTERN',\n",
       " 'CREAM CUPID HEARTS COAT HANGER',\n",
       " 'KNITTED UNION FLAG HOT WATER BOTTLE',\n",
       " 'RED WOOLLY HOTTIE WHITE HEART.',\n",
       " 'SET 7 BABUSHKA NESTING BOXES',\n",
       " 'GLASS STAR FROSTED T-LIGHT HOLDER']"
      ]
     },
     "execution_count": 56,
     "metadata": {},
     "output_type": "execute_result"
    }
   ],
   "source": [
    "list(transactions.values())[0]"
   ]
  },
  {
   "cell_type": "code",
   "execution_count": 58,
   "metadata": {},
   "outputs": [],
   "source": [
    "arys = np.array(arys)"
   ]
  },
  {
   "cell_type": "code",
   "execution_count": 61,
   "metadata": {},
   "outputs": [],
   "source": [
    "df = pd.DataFrame(data = arys, columns=set_of_items)"
   ]
  },
  {
   "cell_type": "code",
   "execution_count": 63,
   "metadata": {},
   "outputs": [
    {
     "data": {
      "text/html": [
       "<div>\n",
       "<style scoped>\n",
       "    .dataframe tbody tr th:only-of-type {\n",
       "        vertical-align: middle;\n",
       "    }\n",
       "\n",
       "    .dataframe tbody tr th {\n",
       "        vertical-align: top;\n",
       "    }\n",
       "\n",
       "    .dataframe thead th {\n",
       "        text-align: right;\n",
       "    }\n",
       "</style>\n",
       "<table border=\"1\" class=\"dataframe\">\n",
       "  <thead>\n",
       "    <tr style=\"text-align: right;\">\n",
       "      <th></th>\n",
       "      <th></th>\n",
       "      <th>4 PURPLE FLOCK DINNER CANDLES</th>\n",
       "      <th>50'S CHRISTMAS GIFT BAG LARGE</th>\n",
       "      <th>DOLLY GIRL BEAKER</th>\n",
       "      <th>I LOVE LONDON MINI BACKPACK</th>\n",
       "      <th>I LOVE LONDON MINI RUCKSACK</th>\n",
       "      <th>NINE DRAWER OFFICE TIDY</th>\n",
       "      <th>OVAL WALL MIRROR DIAMANTE</th>\n",
       "      <th>RED SPOT GIFT BAG LARGE</th>\n",
       "      <th>SET 2 TEA TOWELS I LOVE LONDON</th>\n",
       "      <th>...</th>\n",
       "      <th>wrongly coded 20713</th>\n",
       "      <th>wrongly coded 23343</th>\n",
       "      <th>wrongly coded-23343</th>\n",
       "      <th>wrongly marked</th>\n",
       "      <th>wrongly marked 23343</th>\n",
       "      <th>wrongly marked carton 22804</th>\n",
       "      <th>wrongly marked. 23343 in box</th>\n",
       "      <th>wrongly sold (22719) barcode</th>\n",
       "      <th>wrongly sold as sets</th>\n",
       "      <th>wrongly sold sets</th>\n",
       "    </tr>\n",
       "  </thead>\n",
       "  <tbody>\n",
       "    <tr>\n",
       "      <th>0</th>\n",
       "      <td>0.0</td>\n",
       "      <td>0.0</td>\n",
       "      <td>0.0</td>\n",
       "      <td>0.0</td>\n",
       "      <td>0.0</td>\n",
       "      <td>0.0</td>\n",
       "      <td>0.0</td>\n",
       "      <td>0.0</td>\n",
       "      <td>0.0</td>\n",
       "      <td>0.0</td>\n",
       "      <td>...</td>\n",
       "      <td>0.0</td>\n",
       "      <td>0.0</td>\n",
       "      <td>0.0</td>\n",
       "      <td>0.0</td>\n",
       "      <td>0.0</td>\n",
       "      <td>0.0</td>\n",
       "      <td>0.0</td>\n",
       "      <td>0.0</td>\n",
       "      <td>0.0</td>\n",
       "      <td>0.0</td>\n",
       "    </tr>\n",
       "    <tr>\n",
       "      <th>1</th>\n",
       "      <td>0.0</td>\n",
       "      <td>0.0</td>\n",
       "      <td>0.0</td>\n",
       "      <td>0.0</td>\n",
       "      <td>0.0</td>\n",
       "      <td>0.0</td>\n",
       "      <td>0.0</td>\n",
       "      <td>0.0</td>\n",
       "      <td>0.0</td>\n",
       "      <td>0.0</td>\n",
       "      <td>...</td>\n",
       "      <td>0.0</td>\n",
       "      <td>0.0</td>\n",
       "      <td>0.0</td>\n",
       "      <td>0.0</td>\n",
       "      <td>0.0</td>\n",
       "      <td>0.0</td>\n",
       "      <td>0.0</td>\n",
       "      <td>0.0</td>\n",
       "      <td>0.0</td>\n",
       "      <td>0.0</td>\n",
       "    </tr>\n",
       "    <tr>\n",
       "      <th>2</th>\n",
       "      <td>0.0</td>\n",
       "      <td>0.0</td>\n",
       "      <td>0.0</td>\n",
       "      <td>0.0</td>\n",
       "      <td>0.0</td>\n",
       "      <td>0.0</td>\n",
       "      <td>0.0</td>\n",
       "      <td>0.0</td>\n",
       "      <td>0.0</td>\n",
       "      <td>0.0</td>\n",
       "      <td>...</td>\n",
       "      <td>0.0</td>\n",
       "      <td>0.0</td>\n",
       "      <td>0.0</td>\n",
       "      <td>0.0</td>\n",
       "      <td>0.0</td>\n",
       "      <td>0.0</td>\n",
       "      <td>0.0</td>\n",
       "      <td>0.0</td>\n",
       "      <td>0.0</td>\n",
       "      <td>0.0</td>\n",
       "    </tr>\n",
       "    <tr>\n",
       "      <th>3</th>\n",
       "      <td>0.0</td>\n",
       "      <td>0.0</td>\n",
       "      <td>0.0</td>\n",
       "      <td>0.0</td>\n",
       "      <td>0.0</td>\n",
       "      <td>0.0</td>\n",
       "      <td>0.0</td>\n",
       "      <td>0.0</td>\n",
       "      <td>0.0</td>\n",
       "      <td>0.0</td>\n",
       "      <td>...</td>\n",
       "      <td>0.0</td>\n",
       "      <td>0.0</td>\n",
       "      <td>0.0</td>\n",
       "      <td>0.0</td>\n",
       "      <td>0.0</td>\n",
       "      <td>0.0</td>\n",
       "      <td>0.0</td>\n",
       "      <td>0.0</td>\n",
       "      <td>0.0</td>\n",
       "      <td>0.0</td>\n",
       "    </tr>\n",
       "    <tr>\n",
       "      <th>4</th>\n",
       "      <td>0.0</td>\n",
       "      <td>0.0</td>\n",
       "      <td>0.0</td>\n",
       "      <td>0.0</td>\n",
       "      <td>0.0</td>\n",
       "      <td>0.0</td>\n",
       "      <td>0.0</td>\n",
       "      <td>0.0</td>\n",
       "      <td>0.0</td>\n",
       "      <td>0.0</td>\n",
       "      <td>...</td>\n",
       "      <td>0.0</td>\n",
       "      <td>0.0</td>\n",
       "      <td>0.0</td>\n",
       "      <td>0.0</td>\n",
       "      <td>0.0</td>\n",
       "      <td>0.0</td>\n",
       "      <td>0.0</td>\n",
       "      <td>0.0</td>\n",
       "      <td>0.0</td>\n",
       "      <td>0.0</td>\n",
       "    </tr>\n",
       "  </tbody>\n",
       "</table>\n",
       "<p>5 rows × 4208 columns</p>\n",
       "</div>"
      ],
      "text/plain": [
       "         4 PURPLE FLOCK DINNER CANDLES   50'S CHRISTMAS GIFT BAG LARGE  \\\n",
       "0  0.0                             0.0                             0.0   \n",
       "1  0.0                             0.0                             0.0   \n",
       "2  0.0                             0.0                             0.0   \n",
       "3  0.0                             0.0                             0.0   \n",
       "4  0.0                             0.0                             0.0   \n",
       "\n",
       "    DOLLY GIRL BEAKER   I LOVE LONDON MINI BACKPACK  \\\n",
       "0                 0.0                           0.0   \n",
       "1                 0.0                           0.0   \n",
       "2                 0.0                           0.0   \n",
       "3                 0.0                           0.0   \n",
       "4                 0.0                           0.0   \n",
       "\n",
       "    I LOVE LONDON MINI RUCKSACK   NINE DRAWER OFFICE TIDY  \\\n",
       "0                           0.0                       0.0   \n",
       "1                           0.0                       0.0   \n",
       "2                           0.0                       0.0   \n",
       "3                           0.0                       0.0   \n",
       "4                           0.0                       0.0   \n",
       "\n",
       "    OVAL WALL MIRROR DIAMANTE    RED SPOT GIFT BAG LARGE  \\\n",
       "0                          0.0                       0.0   \n",
       "1                          0.0                       0.0   \n",
       "2                          0.0                       0.0   \n",
       "3                          0.0                       0.0   \n",
       "4                          0.0                       0.0   \n",
       "\n",
       "    SET 2 TEA TOWELS I LOVE LONDON   ...  wrongly coded 20713  \\\n",
       "0                               0.0  ...                  0.0   \n",
       "1                               0.0  ...                  0.0   \n",
       "2                               0.0  ...                  0.0   \n",
       "3                               0.0  ...                  0.0   \n",
       "4                               0.0  ...                  0.0   \n",
       "\n",
       "   wrongly coded 23343  wrongly coded-23343  wrongly marked  \\\n",
       "0                  0.0                  0.0             0.0   \n",
       "1                  0.0                  0.0             0.0   \n",
       "2                  0.0                  0.0             0.0   \n",
       "3                  0.0                  0.0             0.0   \n",
       "4                  0.0                  0.0             0.0   \n",
       "\n",
       "   wrongly marked 23343  wrongly marked carton 22804  \\\n",
       "0                   0.0                          0.0   \n",
       "1                   0.0                          0.0   \n",
       "2                   0.0                          0.0   \n",
       "3                   0.0                          0.0   \n",
       "4                   0.0                          0.0   \n",
       "\n",
       "   wrongly marked. 23343 in box  wrongly sold (22719) barcode  \\\n",
       "0                           0.0                           0.0   \n",
       "1                           0.0                           0.0   \n",
       "2                           0.0                           0.0   \n",
       "3                           0.0                           0.0   \n",
       "4                           0.0                           0.0   \n",
       "\n",
       "   wrongly sold as sets  wrongly sold sets  \n",
       "0                   0.0                0.0  \n",
       "1                   0.0                0.0  \n",
       "2                   0.0                0.0  \n",
       "3                   0.0                0.0  \n",
       "4                   0.0                0.0  \n",
       "\n",
       "[5 rows x 4208 columns]"
      ]
     },
     "execution_count": 63,
     "metadata": {},
     "output_type": "execute_result"
    }
   ],
   "source": [
    "df.head()"
   ]
  },
  {
   "cell_type": "code",
   "execution_count": null,
   "metadata": {},
   "outputs": [],
   "source": []
  }
 ],
 "metadata": {
  "interpreter": {
   "hash": "afad3e5d60d609398ecce3ba468213674dfc27eda2bcdfe27a1dfdc5eca24277"
  },
  "kernelspec": {
   "display_name": "Python 3.10.2 ('data_science')",
   "language": "python",
   "name": "python3"
  },
  "language_info": {
   "codemirror_mode": {
    "name": "ipython",
    "version": 3
   },
   "file_extension": ".py",
   "mimetype": "text/x-python",
   "name": "python",
   "nbconvert_exporter": "python",
   "pygments_lexer": "ipython3",
   "version": "3.10.2"
  },
  "orig_nbformat": 4
 },
 "nbformat": 4,
 "nbformat_minor": 2
}
