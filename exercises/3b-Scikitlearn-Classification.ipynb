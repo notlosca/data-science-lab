{
 "cells": [
  {
   "cell_type": "code",
   "execution_count": 1,
   "metadata": {},
   "outputs": [],
   "source": [
    "%matplotlib inline\n",
    "import matplotlib.pyplot as plt\n",
    "import numpy as np\n",
    "import pandas as pd\n",
    "import seaborn as sns\n",
    "\n",
    "from sklearn.model_selection import train_test_split\n",
    "from sklearn.naive_bayes import GaussianNB\n",
    "seed = 1234"
   ]
  },
  {
   "cell_type": "markdown",
   "metadata": {},
   "source": [
    "# 1. Classification and hold-out\n",
    "## 1.1 Load 'abalone' dataset "
   ]
  },
  {
   "cell_type": "markdown",
   "metadata": {},
   "source": [
    "The following are the attribute names, attribute types, the measurement units and a brief description.\n",
    "\n",
    "Your goal is to predict the sex of the abalone, based on the rest of the available information.\n",
    "\n",
    "```\n",
    "Name / Data Type / Measurement Unit / Description\n",
    "-----------------------------\n",
    "Length / continuous / mm / Longest shell measurement\n",
    "Diameter / continuous / mm / perpendicular to length\n",
    "Height / continuous / mm / with meat in shell\n",
    "Whole weight / continuous / grams / whole abalone\n",
    "Shucked weight / continuous / grams / weight of meat\n",
    "Viscera weight / continuous / grams / gut weight (after bleeding)\n",
    "Shell weight / continuous / grams / after being dried\n",
    "Rings / integer / -- / +1.5 gives the age in years \n",
    "Sex / nominal / -- / 2: M, 0: F, and 1: I (infant)\n",
    "```"
   ]
  },
  {
   "cell_type": "code",
   "execution_count": 13,
   "metadata": {},
   "outputs": [
    {
     "data": {
      "text/plain": [
       "1    1342\n",
       "0    1306\n",
       "2     416\n",
       "Name: sex, dtype: int64"
      ]
     },
     "execution_count": 13,
     "metadata": {},
     "output_type": "execute_result"
    }
   ],
   "source": [
    "# Load labels\n",
    "df = pd.read_csv(\"abalone.csv\", sep=\" \", header=None, names=[\"length\", \"diameter\", \"height\", \"w_weight\", \"s_weight\", \"v_weight\", \"sh_weight\", \"rings\", \"sex\"])\n",
    "X = df.loc[:,\"length\":\"rings\"]\n",
    "y_truth = df.iloc[:,-1]\n",
    "\n",
    "# check if there are NaN values\n",
    "X.isna().sum() \n",
    "\n",
    "# Count items for each class\n",
    "# We will count the number of samples belonging to each class.\n",
    "# We can exploit the target column\n",
    "items_for_class = y_truth.value_counts()"
   ]
  },
  {
   "cell_type": "markdown",
   "metadata": {},
   "source": [
    "## 1.2 Create train and test splits\n",
    "- Use the train_test_split() method"
   ]
  },
  {
   "cell_type": "code",
   "execution_count": 14,
   "metadata": {},
   "outputs": [],
   "source": [
    "# Separate data into training and test set\n",
    "# Default test_size = 0.25\n",
    "X_train, X_test, y_train, y_test = train_test_split(X, y_truth, test_size=.2, random_state=seed)\n"
   ]
  },
  {
   "cell_type": "markdown",
   "metadata": {},
   "source": [
    "## 1.3 Train classifier and make predictions\n",
    "- Use Gaussian Naive Bayes classifier\n",
    "- Random state to make results repeatable"
   ]
  },
  {
   "cell_type": "code",
   "execution_count": 27,
   "metadata": {},
   "outputs": [
    {
     "data": {
      "text/plain": [
       "array([1, 0, 0, 1, 0, 0, 1, 0, 0, 0, 0, 1, 1, 0, 0, 1, 0, 1, 2, 0, 1, 0,\n",
       "       1, 0, 1, 1, 0, 1, 0, 0, 1, 0, 0, 1, 0, 0, 1, 1, 0, 0, 1, 1, 0, 1,\n",
       "       0, 1, 1, 1, 0, 1, 1, 0, 0, 1, 1, 0, 0, 1, 1, 0, 1, 0, 0, 0, 1, 0,\n",
       "       0, 1, 1, 0, 0, 0, 1, 0, 0, 0, 0, 0, 1, 0, 0, 0, 1, 0, 0, 1, 1, 0,\n",
       "       1, 0, 0, 1, 0, 1, 1, 1, 0, 1, 0, 1, 1, 0, 2, 0, 0, 1, 1, 0, 0, 0,\n",
       "       1, 1, 1, 0, 0, 0, 1, 1, 0, 0, 0, 1, 0, 0, 1, 1, 1, 1, 0, 1, 1, 1,\n",
       "       0, 0, 0, 1, 1, 0, 0, 1, 1, 1, 0, 1, 0, 1, 0, 0, 1, 0, 0, 1, 1, 1,\n",
       "       0, 1, 0, 1, 1, 1, 1, 0, 0, 0, 0, 0, 1, 0, 1, 1, 1, 1, 1, 1, 0, 1,\n",
       "       1, 1, 0, 0, 1, 0, 1, 0, 1, 0, 0, 0, 1, 1, 0, 0, 0, 0, 1, 1, 1, 0,\n",
       "       0, 1, 1, 1, 0, 0, 1, 0, 0, 0, 1, 0, 1, 0, 1, 1, 0, 1, 1, 0, 1, 1,\n",
       "       1, 1, 0, 2, 1, 0, 0, 0, 0, 0, 0, 0, 1, 0, 1, 0, 0, 0, 0, 0, 0, 0,\n",
       "       0, 0, 0, 1, 1, 0, 0, 1, 1, 1, 1, 1, 1, 1, 0, 1, 0, 0, 0, 1, 0, 0,\n",
       "       1, 1, 0, 1, 0, 1, 1, 0, 1, 1, 0, 0, 1, 1, 1, 1, 1, 0, 1, 0, 0, 1,\n",
       "       0, 1, 0, 1, 1, 0, 0, 0, 1, 1, 1, 0, 1, 0, 0, 1, 1, 0, 1, 0, 0, 0,\n",
       "       1, 0, 0, 1, 0, 1, 0, 0, 1, 1, 1, 1, 1, 1, 1, 1, 0, 0, 1, 1, 1, 1,\n",
       "       1, 1, 1, 0, 0, 1, 1, 0, 1, 1, 1, 0, 0, 1, 1, 1, 2, 1, 1, 1, 0, 0,\n",
       "       1, 0, 0, 1, 0, 1, 1, 0, 1, 0, 1, 1, 1, 0, 1, 0, 0, 1, 0, 1, 0, 1,\n",
       "       1, 0, 0, 0, 1, 0, 1, 1, 1, 1, 1, 0, 0, 1, 0, 0, 1, 1, 1, 1, 0, 0,\n",
       "       1, 1, 1, 0, 1, 1, 0, 1, 2, 1, 1, 0, 1, 1, 0, 0, 0, 0, 0, 1, 1, 1,\n",
       "       1, 1, 1, 1, 0, 0, 1, 1, 1, 1, 1, 1, 0, 0, 1, 1, 0, 0, 1, 0, 1, 1,\n",
       "       0, 0, 1, 0, 1, 0, 0, 1, 1, 1, 1, 0, 0, 1, 1, 0, 0, 0, 1, 2, 1, 0,\n",
       "       2, 1, 1, 2, 1, 1, 0, 1, 1, 0, 0, 1, 1, 1, 1, 0, 1, 0, 1, 1, 1, 1,\n",
       "       1, 0, 1, 0, 1, 1, 1, 0, 0, 0, 0, 0, 1, 2, 0, 1, 0, 1, 2, 2, 1, 1,\n",
       "       1, 1, 1, 0, 1, 0, 1, 0, 0, 1, 1, 0, 1, 1, 0, 1, 0, 1, 0, 0, 0, 0,\n",
       "       1, 1, 0, 0, 1, 1, 1, 1, 0, 1, 0, 1, 0, 0, 1, 0, 0, 0, 0, 1, 0, 0,\n",
       "       1, 1, 1, 1, 1, 0, 1, 1, 1, 0, 0, 0, 1, 1, 1, 0, 1, 1, 0, 1, 1, 0,\n",
       "       1, 1, 1, 0, 1, 1, 1, 1, 0, 1, 1, 1, 1, 0, 0, 0, 1, 1, 1, 0, 0, 1,\n",
       "       1, 1, 0, 1, 1, 0, 1, 1, 1, 1, 1, 1, 0, 1, 1, 1, 1, 1, 1])"
      ]
     },
     "execution_count": 27,
     "metadata": {},
     "output_type": "execute_result"
    }
   ],
   "source": [
    "clf = GaussianNB().fit(X_train, y_train)\n",
    "\n",
    "y_test_pred = clf.predict(X_test)\n",
    "\n",
    "#y_test_pred"
   ]
  },
  {
   "cell_type": "markdown",
   "metadata": {},
   "source": [
    "## 1.4 Evaluate the results\n",
    "- Evaluation using accuracy score"
   ]
  },
  {
   "cell_type": "code",
   "execution_count": 29,
   "metadata": {
    "scrolled": true
   },
   "outputs": [
    {
     "name": "stdout",
     "output_type": "stream",
     "text": [
      "Accuracy = 0.69\n"
     ]
    }
   ],
   "source": [
    "from sklearn.metrics import accuracy_score, precision_recall_fscore_support, confusion_matrix\n",
    "\n",
    "# Compute accuracy\n",
    "acc = accuracy_score(y_true=y_test, y_pred=y_test_pred)\n",
    "print(f\"Accuracy = {acc:.2f}\")"
   ]
  },
  {
   "cell_type": "markdown",
   "metadata": {},
   "source": [
    "- **Accuracy** seems good, but if we look at the scores separately for each class..."
   ]
  },
  {
   "cell_type": "code",
   "execution_count": 47,
   "metadata": {
    "scrolled": false
   },
   "outputs": [
    {
     "name": "stdout",
     "output_type": "stream",
     "text": [
      "\n",
      "Class 0:\n",
      "number of items: 262\n",
      "p = 0.70\n",
      "r = 0.73\n",
      "f1 = 0.72\n",
      "\n",
      "Class 1:\n",
      "number of items: 272\n",
      "p = 0.70\n",
      "r = 0.85\n",
      "f1 = 0.77\n",
      "\n",
      "Class 2:\n",
      "number of items: 79\n",
      "p = 0.00\n",
      "r = 0.00\n",
      "f1 = 0.00\n",
      "\n",
      "F1, macro-average: 0.49\n"
     ]
    }
   ],
   "source": [
    "# Precision, recall, f1, support: for each class\n",
    "p, r, f1, support = precision_recall_fscore_support(y_test, y_test_pred)\n",
    "\n",
    "# p.shape[0] is the number of classes\n",
    "for c in range(p.shape[0]): \n",
    "    print(f\"\\nClass {c}:\")\n",
    "    print(f\"number of items: {support[c]}\")\n",
    "    print(f\"p = {p[c]:.2f}\")\n",
    "    print(f\"r = {r[c]:.2f}\")\n",
    "    print(f\"f1 = {f1[c]:.2f}\")\n",
    "\n",
    "# Macro average f1\n",
    "macro_f1 = f1.mean()\n",
    "    \n",
    "# This score is important when you have class imbalancing\n",
    "print(f\"\\nF1, macro-average: {macro_f1:.2f}\")"
   ]
  },
  {
   "cell_type": "markdown",
   "metadata": {},
   "source": [
    "- Accuracy was good because of class imbalancing\n",
    "- The **minority class** (c2) has a very low recall\n",
    "- Indeed, the **macro-averaged** F1 is quite low.\n",
    "\n",
    "### Let's verify this with a confusion matrix:"
   ]
  },
  {
   "cell_type": "code",
   "execution_count": 48,
   "metadata": {
    "scrolled": false
   },
   "outputs": [],
   "source": [
    "# Build the confusion matrix\n",
    "conf_mat = confusion_matrix(y_test, y_test_pred)"
   ]
  },
  {
   "cell_type": "code",
   "execution_count": 55,
   "metadata": {},
   "outputs": [
    {
     "data": {
      "image/png": "[encoded data removed]",
      "text/plain": [
       "<Figure size 432x288 with 2 Axes>"
      ]
     },
     "metadata": {
      "needs_background": "light"
     },
     "output_type": "display_data"
    }
   ],
   "source": [
    "# Plot the result\n",
    "label_names = np.arange(p.shape[0])\n",
    "conf_mat_df = pd.DataFrame(conf_mat, index = label_names, columns = label_names)\n",
    "conf_mat_df.index.name = 'Actual'\n",
    "conf_mat_df.columns.name = 'Predicted'\n",
    "sns.heatmap(conf_mat_df, annot=True, cmap='GnBu', \n",
    "            annot_kws={\"size\": 16}, fmt='g', cbar=True)\n",
    "plt.show()"
   ]
  },
  {
   "cell_type": "markdown",
   "metadata": {},
   "source": [
    "Let's use the micro average"
   ]
  },
  {
   "cell_type": "code",
   "execution_count": 44,
   "metadata": {},
   "outputs": [
    {
     "name": "stdout",
     "output_type": "stream",
     "text": [
      "p = 0.69\n",
      "r = 0.69\n",
      "f1 = 0.69\n",
      "support = None\n"
     ]
    }
   ],
   "source": [
    "# Precision, recall, f1, support: for each class\n",
    "p, r, f1, support = precision_recall_fscore_support(y_test, y_test_pred, average='micro')\n",
    "\n",
    "print(f\"p = {p:.2f}\")\n",
    "print(f\"r = {r:.2f}\")\n",
    "print(f\"f1 = {f1:.2f}\")\n",
    "print(f\"support = {support}\")"
   ]
  },
  {
   "cell_type": "markdown",
   "metadata": {},
   "source": [
    "# 2. Cross-Validation\n",
    "##  2.1 With kfold.split()"
   ]
  },
  {
   "cell_type": "code",
   "execution_count": 80,
   "metadata": {},
   "outputs": [
    {
     "name": "stdout",
     "output_type": "stream",
     "text": [
      "Scores for each kfold iteration.\n",
      "Iteration 0. \n",
      "\tmacro-f1 = 0.501\n",
      "Iteration 1. \n",
      "\tmacro-f1 = 0.531\n",
      "Iteration 2. \n",
      "\tmacro-f1 = 0.480\n",
      "Iteration 3. \n",
      "\tmacro-f1 = 0.513\n",
      "Iteration 4. \n",
      "\tmacro-f1 = 0.528\n"
     ]
    }
   ],
   "source": [
    "from sklearn.model_selection import KFold\n",
    "# K-Fold with 5 splits\n",
    "kfold = KFold(n_splits=5, shuffle=True)\n",
    "\n",
    "print(\"Scores for each kfold iteration.\")\n",
    "i = 0\n",
    "for train_indices, test_indices in kfold.split(X, y_truth):\n",
    "    # Prepare splits\n",
    "    X_train = X.loc[train_indices]\n",
    "    y_train = y_truth.loc[train_indices]\n",
    "    X_test = X.loc[test_indices]\n",
    "    y_test = y_truth.loc[test_indices]\n",
    "    \n",
    "    # Train and evaluate\n",
    "    clf = GaussianNB()\n",
    "    clf.fit(X_train, y_train)\n",
    "    y_test_pred = clf.predict(X_test)\n",
    "    \n",
    "    # Compute macro average f1\n",
    "    _, _, f1, _ = precision_recall_fscore_support(y_test, y_test_pred)\n",
    "    macro_f1 = f1.mean()\n",
    "    \n",
    "    print(f\"Iteration {i}. \\n\\tmacro-f1 = {macro_f1:.3f}\")\n",
    "    i+=1"
   ]
  },
  {
   "cell_type": "markdown",
   "metadata": {},
   "source": [
    "## 2.2 With cross_val_score()\n",
    "- Use scoring = 'f1_macro'"
   ]
  },
  {
   "cell_type": "code",
   "execution_count": 65,
   "metadata": {},
   "outputs": [],
   "source": [
    "from sklearn.model_selection import cross_val_score"
   ]
  },
  {
   "cell_type": "code",
   "execution_count": 75,
   "metadata": {},
   "outputs": [
    {
     "data": {
      "text/plain": [
       "array([0.50716433, 0.49471464, 0.50663244, 0.52182634, 0.51496524])"
      ]
     },
     "execution_count": 75,
     "metadata": {},
     "output_type": "execute_result"
    }
   ],
   "source": [
    "clf = GaussianNB()\n",
    "f1_cv = cross_val_score(estimator=clf, X=X, y=y_truth, cv=5, scoring=\"f1_macro\")\n",
    "f1_cv"
   ]
  },
  {
   "cell_type": "code",
   "execution_count": 76,
   "metadata": {},
   "outputs": [
    {
     "name": "stdout",
     "output_type": "stream",
     "text": [
      "Macro-f1 for each iteration: [0.50716433 0.49471464 0.50663244 0.52182634 0.51496524]\n",
      "Macro-f1 (statistics): 0.51 (+/- 0.02)\n"
     ]
    }
   ],
   "source": [
    "print(f\"Macro-f1 for each iteration: {f1_cv}\")\n",
    "mean_macro_f1 = f1_cv.mean()\n",
    "std_macro_f1 = f1_cv.std() * 2\n",
    "print(f\"Macro-f1 (statistics): {mean_macro_f1:.2f} (+/- {std_macro_f1:.2f})\")"
   ]
  },
  {
   "cell_type": "markdown",
   "metadata": {},
   "source": [
    "## 2.3 Leave-One-Out and scoring: cross_val_predict()\n",
    "\n",
    "- The previous approach (average of F1 for each iteration) cannot be used with leave one out. \n",
    "    - Iteration 0: y_test = [1] -> F1?\n",
    "    - Iteration 1: y_test = [0] -> F1?\n",
    "    - ...\n",
    "    - Iteration 2: y_test = [1] -> F1?\n",
    "- When test set has only 1 sample, F1, precision and recall cannot be properly computed.\n",
    "- The following solution trains N models with leave one out, fits them on test data to obtain the vector y_pred (each model predicts 1 single value inside y_pred). Finally, it computes a single score by comparing y_pred with y_truth"
   ]
  },
  {
   "cell_type": "code",
   "execution_count": 77,
   "metadata": {},
   "outputs": [
    {
     "name": "stdout",
     "output_type": "stream",
     "text": [
      "F1, for each class: [0.71562952 0.76223533 0.04968944]\n",
      "Macro-f1 = 0.51\n"
     ]
    }
   ],
   "source": [
    "from sklearn.model_selection import cross_val_predict\n",
    "from sklearn.model_selection import LeaveOneOut\n",
    "\n",
    "clf = GaussianNB()\n",
    "y_pred = cross_val_predict(clf, X, y_truth, cv=LeaveOneOut())\n",
    "_, _, f1_loo, _ = precision_recall_fscore_support(y_truth, y_pred)\n",
    "macro_f1_loo = f1_loo.mean()\n",
    "print(f\"F1, for each class: {f1_loo}\")\n",
    "print(f\"Macro-f1 = {macro_f1_loo:.2f}\")"
   ]
  }
 ],
 "metadata": {
  "kernelspec": {
   "display_name": "Python 3",
   "language": "python",
   "name": "python3"
  },
  "language_info": {
   "codemirror_mode": {
    "name": "ipython",
    "version": 3
   },
   "file_extension": ".py",
   "mimetype": "text/x-python",
   "name": "python",
   "nbconvert_exporter": "python",
   "pygments_lexer": "ipython3",
   "version": "3.10.2"
  }
 },
 "nbformat": 4,
 "nbformat_minor": 2
}
