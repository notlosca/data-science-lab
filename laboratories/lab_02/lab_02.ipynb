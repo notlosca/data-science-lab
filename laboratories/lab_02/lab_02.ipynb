{
 "cells": [
  {
   "cell_type": "code",
   "execution_count": 2,
   "metadata": {},
   "outputs": [
    {
     "data": {
      "image/png": "[encoded data removed]",
      "text/plain": [
       "<Figure size 432x288 with 1 Axes>"
      ]
     },
     "metadata": {
      "needs_background": "light"
     },
     "output_type": "display_data"
    }
   ],
   "source": [
    "from random import gauss\n",
    "import matplotlib.pyplot as plt\n",
    "%matplotlib inline\n",
    "\n",
    "l = [gauss(0, 1) for _ in range(500)]\n",
    "plt.hist(l)\n",
    "plt.title('Gaussian distribution (mu=0, sigma=1)')\n",
    "plt.show()"
   ]
  },
  {
   "cell_type": "markdown",
   "metadata": {},
   "source": [
    "---------\n",
    "# GLT"
   ]
  },
  {
   "cell_type": "code",
   "execution_count": 9,
   "metadata": {},
   "outputs": [
    {
     "name": "stdout",
     "output_type": "stream",
     "text": [
      "--2022-04-08 22:25:22--  https://raw.githubusercontent.com/dbdmg/data-science-lab/master/datasets/GLT_filtered.csv\n",
      "Resolving raw.githubusercontent.com (raw.githubusercontent.com)... 185.199.108.133, 185.199.109.133, 185.199.110.133, ...\n",
      "Connecting to raw.githubusercontent.com (raw.githubusercontent.com)|185.199.108.133|:443... connected.\n",
      "HTTP request sent, awaiting response... 200 OK\n",
      "Length: 12720645 (12M) [text/plain]\n",
      "Saving to: ‘glt.csv’\n",
      "\n",
      "glt.csv             100%[===================>]  12,13M  38,8MB/s    in 0,3s    \n",
      "\n",
      "2022-04-08 22:25:22 (38,8 MB/s) - ‘glt.csv’ saved [12720645/12720645]\n",
      "\n"
     ]
    }
   ],
   "source": [
    "!wget https://raw.githubusercontent.com/dbdmg/data-science-lab/master/datasets/GLT_filtered.csv -O glt.csv"
   ]
  },
  {
   "cell_type": "code",
   "execution_count": 7,
   "metadata": {},
   "outputs": [],
   "source": [
    "import csv\n",
    "import numpy as np\n",
    "import pandas as pd"
   ]
  },
  {
   "cell_type": "code",
   "execution_count": 1,
   "metadata": {},
   "outputs": [],
   "source": [
    "with open(\"glt.csv\", \"r\") as f:\n",
    "    lol = []\n",
    "    for cols in csv.reader(f):\n",
    "        lol.append(cols)\n",
    "    lol = np.array(lol)\n",
    "        "
   ]
  },
  {
   "cell_type": "code",
   "execution_count": 64,
   "metadata": {},
   "outputs": [
    {
     "data": {
      "text/plain": [
       "array(['26.704', '27.434', '', ..., '12.399', '4.7360000000000015',\n",
       "       '-0.8220000000000001'], dtype='<U34')"
      ]
     },
     "execution_count": 64,
     "metadata": {},
     "output_type": "execute_result"
    }
   ],
   "source": [
    "avg_temp = np.array(lol)[:, 1]\n",
    "avg_temp[1:]"
   ]
  },
  {
   "cell_type": "code",
   "execution_count": 2,
   "metadata": {},
   "outputs": [],
   "source": [
    "def str_to_float(l:list) -> list:\n",
    "    \"\"\"Return the same list but with float values\n",
    "\n",
    "    Args:\n",
    "        l (list): input list of str values\n",
    "\n",
    "    Returns:\n",
    "        list: output list filled with None and floats\n",
    "    \"\"\"\n",
    "    return [None if i == '' else float(i) for i in l]\n",
    "\n",
    "def pick_forward_value(li:list, index:int=0) -> float:\n",
    "    for i in range(index + 1, len(li)):\n",
    "        if li[i] == None:\n",
    "            continue\n",
    "        else:\n",
    "            return float(li[i])\n",
    "\n",
    "def pick_backward_value(li:list, index:int=-1) -> float:        \n",
    "    for i in range(index - 1 , 0 - 1, -1):\n",
    "        if li[i] == None:\n",
    "            continue\n",
    "        else:\n",
    "            return float(li[i])\n",
    "    return None\n",
    "\n",
    "import copy\n",
    "\n",
    "def fill_list(original_list:list) -> list:\n",
    "    # Transform the list if it has strings instead of floats\n",
    "    original_list = str_to_float(original_list)\n",
    "    \n",
    "    # Make a copy that we will fill\n",
    "    newl = copy.deepcopy(original_list)\n",
    "    \n",
    "    # Subsitute values\n",
    "    for i in range(len(original_list)):\n",
    "        #### initial value ####\n",
    "        if (i == 0):  \n",
    "            if (original_list[i] == None): \n",
    "                val1 = pick_forward_value(original_list, i)\n",
    "                val = val1/2\n",
    "                newl[i] = val\n",
    "            else:\n",
    "                val = original_list[i]\n",
    "                continue\n",
    "        #### last value ####\n",
    "        elif (i == len(original_list)-1):\n",
    "            if original_list[i] == None: \n",
    "                val1 = pick_backward_value(original_list, i)\n",
    "                val = val1/2\n",
    "                newl[i] = val\n",
    "            else:\n",
    "                newl[i] = original_list[i]\n",
    "                continue\n",
    "        #### inner values ####\n",
    "        else:\n",
    "            if original_list[i] == None:\n",
    "                # Save in the val variable the last computed value\n",
    "                # Hence we can use it without checking the list\n",
    "                val1 = pick_forward_value(original_list, i)\n",
    "                if val1 == None:\n",
    "                    val = (val + val)/2\n",
    "                else:\n",
    "                    val = (val + val1)/2\n",
    "                newl[i] = val\n",
    "            else:\n",
    "                continue\n",
    "    return newl"
   ]
  },
  {
   "cell_type": "code",
   "execution_count": 3,
   "metadata": {},
   "outputs": [],
   "source": [
    "# To take every city we can exploit the set function \n",
    "# (it doesn't take care of the order)\n",
    "cities = list(set(lol[1:,3])) \n",
    "# Since the cities are sorted alphabetically,\n",
    "# we have used the set function and then sorted\n",
    "# the outcoming list\n",
    "cities.sort() # sort alphabetically in place\n",
    "\n",
    "d = dict()\n",
    "# Fill the dictionary with keys as the name of city\n",
    "# and as values a tuple containing the range of indexes\n",
    "for city in cities:\n",
    "    index = 0\n",
    "    indexes = list()\n",
    "    for row in lol[1:,3]:\n",
    "        if row == city:    \n",
    "            indexes.append(index)\n",
    "            index += 1\n",
    "        else: \n",
    "            index += 1\n",
    "    d[city] = min(indexes), max(indexes)"
   ]
  },
  {
   "cell_type": "code",
   "execution_count": 4,
   "metadata": {},
   "outputs": [],
   "source": [
    "for city in cities:\n",
    "    tp = d[city] # tuple containing the range of indexes\n",
    "    start_index = tp[0] + 1 # + 1 to take into account the header\n",
    "    stop_index = tp[1] + 2 # + 1 for the header, the other + 1 is due to the fact that the slice doesn't include the stop index \n",
    "    # Fill the temperature and then set them\n",
    "    temp_filled = fill_list(lol[tp[0]+1:tp[1]+2][:,1])\n",
    "    lol[tp[0]+1:tp[1]+2][:,1] = temp_filled\n",
    "    # Do the same for the standard deviation\n",
    "    std_filled = fill_list(lol[tp[0]+1:tp[1]+2][:,2])\n",
    "    lol[tp[0]+1:tp[1]+2][:,2] = std_filled\n"
   ]
  },
  {
   "cell_type": "code",
   "execution_count": 8,
   "metadata": {},
   "outputs": [],
   "source": [
    "df = pd.DataFrame(lol[1:], columns=lol[0])"
   ]
  },
  {
   "cell_type": "code",
   "execution_count": 9,
   "metadata": {},
   "outputs": [
    {
     "name": "stdout",
     "output_type": "stream",
     "text": [
      "<class 'pandas.core.frame.DataFrame'>\n",
      "RangeIndex: 219575 entries, 0 to 219574\n",
      "Data columns (total 7 columns):\n",
      " #   Column                         Non-Null Count   Dtype \n",
      "---  ------                         --------------   ----- \n",
      " 0   Date                           219575 non-null  object\n",
      " 1   AverageTemperature             219575 non-null  object\n",
      " 2   AverageTemperatureUncertainty  219575 non-null  object\n",
      " 3   City                           219575 non-null  object\n",
      " 4   Country                        219575 non-null  object\n",
      " 5   Latitude                       219575 non-null  object\n",
      " 6   Longitude                      219575 non-null  object\n",
      "dtypes: object(7)\n",
      "memory usage: 11.7+ MB\n"
     ]
    }
   ],
   "source": [
    "df.info() # to check if everything is filled"
   ]
  },
  {
   "cell_type": "code",
   "execution_count": 10,
   "metadata": {},
   "outputs": [],
   "source": [
    "from typing import Tuple\n",
    "\n",
    "def get_topN_temp(df = pd.DataFrame, city_name:str=None, N:int=0) -> Tuple:\n",
    "    mask = df['City'] == city_name\n",
    "    # Pick the last N values in the sorted list in ascendent order,\n",
    "    # then change the order\n",
    "    hot = sorted(df[mask]['AverageTemperature'])[-N:][::-1]\n",
    "    # Pick the first N values in the sorted list in ascendent order\n",
    "    cold = sorted(df[mask]['AverageTemperature'])[:N]\n",
    "    return hot, cold\n"
   ]
  },
  {
   "cell_type": "code",
   "execution_count": 13,
   "metadata": {},
   "outputs": [
    {
     "name": "stdout",
     "output_type": "stream",
     "text": [
      "Top 3 temperatures of Abidjan:\n",
      "\tHot\t['29.923', '29.596', '29.477']\n",
      "\tCold\t['22.363000000000003', '22.377', '22.528']\n",
      "Top 3 temperatures of Addis Abeba:\n",
      "\tHot\t['21.223000000000006', '21.156', '20.826']\n",
      "\tCold\t['14.527999999999999', '14.913', '14.98']\n",
      "Top 3 temperatures of Ahmadabad:\n",
      "\tHot\t['35.41900000000001', '34.703', '34.486000000000004']\n",
      "\tCold\t['17.041', '17.305', '17.32']\n",
      "Top 3 temperatures of Aleppo:\n",
      "\tHot\t['9.98', '9.971', '9.967']\n",
      "\tCold\t['1.0860000000000003', '1.1369999999999996', '1.4639999999999995']\n",
      "Top 3 temperatures of Alexandria:\n",
      "\tHot\t['28.805999999999997', '28.613000000000003', '28.463']\n",
      "\tCold\t['11.253', '11.343', '11.49']\n",
      "Top 3 temperatures of Ankara:\n",
      "\tHot\t['9.989', '9.987', '9.985']\n",
      "\tCold\t['-0.028000000000000025', '-0.03300000000000014', '-0.03400000000000003']\n",
      "Top 3 temperatures of Baghdad:\n",
      "\tHot\t['9.992', '9.988', '9.978']\n",
      "\tCold\t['10.028', '10.035', '10.058']\n",
      "Top 3 temperatures of Bangalore:\n",
      "\tHot\t['29.688000000000002', '29.218000000000004', '29.113000000000003']\n",
      "\tCold\t['20.257', '20.664', '20.773000000000003']\n",
      "Top 3 temperatures of Bangkok:\n",
      "\tHot\t['88.00699999999999', '87.9548', '87.83959999999999']\n",
      "\tCold\t['71.4092', '71.4686', '72.05539999999999']\n",
      "Top 3 temperatures of Belo Horizonte:\n",
      "\tHot\t['25.22600000000001', '25.164', '25.032']\n",
      "\tCold\t['15.92', '15.932', '16.205']\n",
      "Top 3 temperatures of Berlin:\n",
      "\tHot\t['9.998949485274789', '9.996543953862249', '9.971']\n",
      "\tCold\t['-0.017000000000000126', '-0.04499999999999993', '-0.07099999999999995']\n",
      "Top 3 temperatures of Bogotá:\n",
      "\tHot\t['22.50800000000001', '22.452', '22.318']\n",
      "\tCold\t['17.932000000000006', '18.002000000000006', '18.017']\n",
      "Top 3 temperatures of Bombay:\n",
      "\tHot\t['30.682', '30.659000000000002', '30.122']\n",
      "\tCold\t['21.858', '21.977', '22.126']\n",
      "Top 3 temperatures of Brasília:\n",
      "\tHot\t['25.933000000000003', '25.785', '25.671999999999997']\n",
      "\tCold\t['10.987', '16.122500000000002', '17.208000000000002']\n",
      "Top 3 temperatures of Cairo:\n",
      "\tHot\t['30.767', '30.596999999999998', '30.263']\n",
      "\tCold\t['10.079500000000001', '10.326', '10.402999999999999']\n",
      "Top 3 temperatures of Calcutta:\n",
      "\tHot\t['32.815', '32.468', '32.318000000000005']\n",
      "\tCold\t['15.253000000000002', '15.983000000000002', '16.471']\n",
      "Top 3 temperatures of Cali:\n",
      "\tHot\t['24.475', '24.472', '24.273000000000003']\n",
      "\tCold\t['19.808', '19.854000000000006', '19.868']\n",
      "Top 3 temperatures of Cape Town:\n",
      "\tHot\t['9.997', '22.084', '22.066']\n",
      "\tCold\t['10.091000000000001', '10.255999999999998', '10.35']\n",
      "Top 3 temperatures of Casablanca:\n",
      "\tHot\t['9.998', '9.996', '9.99']\n",
      "\tCold\t['10.002999999999998', '10.01', '10.02']\n",
      "Top 3 temperatures of Changchun:\n",
      "\tHot\t['9.997723306462326', '9.888923260487223', '9.853']\n",
      "\tCold\t['-0.02300000000000013', '-0.16582265763544868', '-0.19799999999999995']\n",
      "Top 3 temperatures of Chengdu:\n",
      "\tHot\t['9.98677440117346', '9.982', '9.943']\n",
      "\tCold\t['-0.05399999999999999', '-0.10399999999999998', '-0.11199999999999999']\n",
      "Top 3 temperatures of Chicago:\n",
      "\tHot\t['9.968', '9.953304116493717', '9.941978473523363']\n",
      "\tCold\t['-0.008000000000000007', '-0.008000000000000007', '-0.016999999999999904']\n",
      "Top 3 temperatures of Chongqing:\n",
      "\tHot\t['9.847999999999999', '9.836', '9.774']\n",
      "\tCold\t['10.031077741836794', '10.058', '10.077']\n",
      "Top 3 temperatures of Dakar:\n",
      "\tHot\t['29.228', '29.216', '29.144000000000002']\n",
      "\tCold\t['18.768', '18.889', '19.02']\n",
      "Top 3 temperatures of Dalian:\n",
      "\tHot\t['9.969', '9.953', '9.951']\n",
      "\tCold\t['-0.04300000000000015', '-0.06000000000000005', '-0.06335807469766586']\n",
      "Top 3 temperatures of Dar Es Salaam:\n",
      "\tHot\t['29.131', '29.124', '29.114']\n",
      "\tCold\t['22.371', '22.398000000000003', '22.611']\n",
      "Top 3 temperatures of Delhi:\n",
      "\tHot\t['36.291', '36.005', '35.988']\n",
      "\tCold\t['11.627', '11.847999999999999', '12.088']\n",
      "Top 3 temperatures of Dhaka:\n",
      "\tHot\t['30.669', '30.634', '30.573']\n",
      "\tCold\t['15.148', '15.667000000000002', '16.198']\n",
      "Top 3 temperatures of Durban:\n",
      "\tHot\t['25.111', '24.934', '24.865']\n",
      "\tCold\t['15.507', '16.31', '16.319000000000006']\n",
      "Top 3 temperatures of Faisalabad:\n",
      "\tHot\t['9.864', '9.343', '36.21100000000001']\n",
      "\tCold\t['10.03', '10.202', '10.219']\n",
      "Top 3 temperatures of Fortaleza:\n",
      "\tHot\t['29.986', '29.813', '29.775']\n",
      "\tCold\t['24.334', '24.392', '24.442']\n",
      "Top 3 temperatures of Gizeh:\n",
      "\tHot\t['30.767', '30.263', '30.087']\n",
      "\tCold\t['10.079500000000001', '10.326', '10.402999999999999']\n",
      "Top 3 temperatures of Guangzhou:\n",
      "\tHot\t['9.868', '9.704', '9.37']\n",
      "\tCold\t['10.006', '10.088', '10.257']\n",
      "Top 3 temperatures of Harare:\n",
      "\tHot\t['25.82800000000001', '25.565', '25.549']\n",
      "\tCold\t['11.0965', '13.380999999999998', '13.732']\n",
      "Top 3 temperatures of Harbin:\n",
      "\tHot\t['9.975', '9.95625', '9.87247105561545']\n",
      "\tCold\t['-0.04055022096721306', '-0.1067137461859593', '-0.34699999999999953']\n",
      "Top 3 temperatures of Ho Chi Minh City:\n",
      "\tHot\t['30.701999999999998', '30.216', '30.024']\n",
      "\tCold\t['22.986', '23.846999999999998', '23.968000000000004']\n",
      "Top 3 temperatures of Hyderabad:\n",
      "\tHot\t['34.671', '34.657', '34.591']\n",
      "\tCold\t['12.155', '19.576', '20.061']\n",
      "Top 3 temperatures of Ibadan:\n",
      "\tHot\t['30.313', '30.19', '30.12']\n",
      "\tCold\t['21.904', '22.36', '22.377']\n",
      "Top 3 temperatures of Istanbul:\n",
      "\tHot\t['9.971', '9.952', '9.952']\n",
      "\tCold\t['0.10599999999999987', '0.25', '0.335']\n",
      "Top 3 temperatures of Izmir:\n",
      "\tHot\t['9.988', '9.966000000000001', '9.935']\n",
      "\tCold\t['10.003250000000001', '10.014', '10.016']\n",
      "Top 3 temperatures of Jaipur:\n",
      "\tHot\t['36.477', '36.076', '36.031']\n",
      "\tCold\t['13.048', '13.158', '13.325']\n",
      "Top 3 temperatures of Jakarta:\n",
      "\tHot\t['28.756', '28.49', '28.378']\n",
      "\tCold\t['24.493000000000002', '24.61', '24.615']\n",
      "Top 3 temperatures of Jiddah:\n",
      "\tHot\t['34.292', '34.133', '33.632']\n",
      "\tCold\t['19.603', '20.787', '20.859']\n",
      "Top 3 temperatures of Jinan:\n",
      "\tHot\t['9.987220433035642', '9.952937681291708', '9.843']\n",
      "\tCold\t['-0.017000000000000015', '-0.03099999999999992', '-0.058999999999999934']\n",
      "Top 3 temperatures of Kabul:\n",
      "\tHot\t['9.973056576599916', '9.972000000000001', '9.967']\n",
      "\tCold\t['-0.0040000000000000036', '-0.055999999999999835', '-0.055999999999999835']\n",
      "Top 3 temperatures of Kano:\n",
      "\tHot\t['33.068000000000005', '32.852000000000004', '32.843']\n",
      "\tCold\t['18.474', '18.68', '18.717']\n",
      "Top 3 temperatures of Kanpur:\n",
      "\tHot\t['35.61799999999999', '35.376', '35.21400000000001']\n",
      "\tCold\t['11.871', '11.907', '12.39']\n",
      "Top 3 temperatures of Karachi:\n",
      "\tHot\t['33.153', '33.062', '33.001']\n",
      "\tCold\t['14.867', '15.032', '15.558000000000002']\n",
      "Top 3 temperatures of Kiev:\n",
      "\tHot\t['9.998', '9.976', '9.853']\n",
      "\tCold\t['-0.0020000000000000018', '-0.04499999999999993', '-0.09499999999999977']\n",
      "Top 3 temperatures of Kinshasa:\n",
      "\tHot\t['26.426', '26.341', '26.32']\n",
      "\tCold\t['20.355', '20.362', '20.442999999999998']\n",
      "Top 3 temperatures of Lagos:\n",
      "\tHot\t['29.031999999999996', '29.03', '28.929']\n",
      "\tCold\t['13.2075', '19.18475', '22.630375']\n",
      "Top 3 temperatures of Lahore:\n",
      "\tHot\t['9.936', '9.864', '9.343']\n",
      "\tCold\t['10.202', '10.219', '10.261']\n",
      "Top 3 temperatures of Lakhnau:\n",
      "\tHot\t['8.5605', '35.61799999999999', '35.376']\n",
      "\tCold\t['10.92875', '11.871', '11.907']\n",
      "Top 3 temperatures of Lima:\n",
      "\tHot\t['24.01', '23.809', '23.211']\n",
      "\tCold\t['12.075', '12.079', '12.099']\n",
      "Top 3 temperatures of London:\n",
      "\tHot\t['9.994', '9.991', '9.981']\n",
      "\tCold\t['-0.0049999999999998926', '-0.024000000000000014', '-0.0810000000000004']\n",
      "Top 3 temperatures of Los Angeles:\n",
      "\tHot\t['9.998', '9.991', '9.965']\n",
      "\tCold\t['10.002', '10.007', '10.015035483329815']\n",
      "Top 3 temperatures of Luanda:\n",
      "\tHot\t['27.207', '27.176', '27.173000000000002']\n",
      "\tCold\t['18.727', '18.745', '18.815']\n",
      "Top 3 temperatures of Madras:\n",
      "\tHot\t['34.249', '34.22', '34.034']\n",
      "\tCold\t['21.596', '22.511', '22.599']\n",
      "Top 3 temperatures of Madrid:\n",
      "\tHot\t['9.997503020469885', '9.984863962058773', '9.956701869743263']\n",
      "\tCold\t['-0.19099999999999984', '0.028999999999999918', '0.1110000000000002']\n",
      "Top 3 temperatures of Manila:\n",
      "\tHot\t['30.201', '30.147', '30.011']\n",
      "\tCold\t['22.753', '22.794', '22.825']\n",
      "Top 3 temperatures of Mashhad:\n",
      "\tHot\t['9.996', '9.99243495012284', '9.948']\n",
      "\tCold\t['-0.026000000000000002', '-0.07400000000000001', '-0.08499999999999996']\n",
      "Top 3 temperatures of Melbourne:\n",
      "\tHot\t['9.994', '9.989999999999998', '9.98460100328995']\n",
      "\tCold\t['10.02', '10.024', '10.036205567646505']\n",
      "Top 3 temperatures of Mexico:\n",
      "\tHot\t['9.933', '9.896', '9.871']\n",
      "\tCold\t['10.027999999999999', '10.252', '10.273']\n",
      "Top 3 temperatures of Mogadishu:\n",
      "\tHot\t['30.256', '30.238000000000003', '30.201']\n",
      "\tCold\t['13.59', '20.1945', '23.496750000000002']\n",
      "Top 3 temperatures of Montreal:\n",
      "\tHot\t['9.991', '9.975', '9.957']\n",
      "\tCold\t['-0.015999999999999903', '-0.029363281250000428', '-0.04534116596704063']\n",
      "Top 3 temperatures of Moscow:\n",
      "\tHot\t['9.997724633030742', '9.996', '9.987']\n",
      "\tCold\t['-0.04899999999999949', '-0.05300000000000017', '-0.06445100402832038']\n",
      "Top 3 temperatures of Nagoya:\n",
      "\tHot\t['9.975', '9.958', '9.925']\n",
      "\tCold\t['1.423', '1.5039999999999996', '1.638']\n",
      "Top 3 temperatures of Nagpur:\n",
      "\tHot\t['35.98000000000001', '35.896', '35.86400000000001']\n",
      "\tCold\t['15.880999999999998', '16.551', '16.641']\n",
      "Top 3 temperatures of Nairobi:\n",
      "\tHot\t['19.445999999999998', '19.431', '19.235']\n",
      "\tCold\t['13.304', '13.33', '13.374']\n",
      "Top 3 temperatures of Nanjing:\n",
      "\tHot\t['9.989', '9.983', '9.95']\n",
      "\tCold\t['-0.4160000000000004', '-0.6499999999999999', '-0.6789999999999998']\n",
      "Top 3 temperatures of New Delhi:\n",
      "\tHot\t['36.33900000000001', '36.291', '36.005']\n",
      "\tCold\t['11.627', '11.847999999999999', '12.088']\n",
      "Top 3 temperatures of New York:\n",
      "\tHot\t['9.995', '9.991', '9.976']\n",
      "\tCold\t['-0.014000000000000012', '-0.04100000000000037', '-0.04700000000000015']\n",
      "Top 3 temperatures of Paris:\n",
      "\tHot\t['9.999720000055683', '9.993', '9.98495310298537']\n",
      "\tCold\t['-0.0389999999999997', '-0.09199999999999964', '-0.12199999999999987']\n",
      "Top 3 temperatures of Peking:\n",
      "\tHot\t['9.876', '9.844', '9.738841061746509']\n",
      "\tCold\t['-0.03100000000000014', '-0.09600000000000007', '-0.15599999999999992']\n",
      "Top 3 temperatures of Pune:\n",
      "\tHot\t['31.7', '31.61', '31.047']\n",
      "\tCold\t['17.598000000000006', '18.066000000000006', '18.294']\n",
      "Top 3 temperatures of Rangoon:\n",
      "\tHot\t['31.96', '31.735', '31.601']\n",
      "\tCold\t['21.164', '21.368', '21.723000000000006']\n",
      "Top 3 temperatures of Rio De Janeiro:\n",
      "\tHot\t['28.849000000000004', '28.561', '28.164']\n",
      "\tCold\t['18.483', '19.065', '19.177']\n",
      "Top 3 temperatures of Riyadh:\n",
      "\tHot\t['37.859', '37.755', '37.551']\n",
      "\tCold\t['10.496', '10.736', '11.097000000000001']\n",
      "Top 3 temperatures of Rome:\n",
      "\tHot\t['9.989', '9.913', '9.889861817445693']\n",
      "\tCold\t['-0.0680000000000005', '-0.1589999999999998', '-0.2749999999999999']\n",
      "Top 3 temperatures of Saint Petersburg:\n",
      "\tHot\t['9.961', '9.95', '9.94']\n",
      "\tCold\t['-0.001000000000000334', '-0.010000000000000007', '-0.010000000000000677']\n",
      "Top 3 temperatures of Salvador:\n",
      "\tHot\t['28.285', '28.125999999999998', '28.022']\n",
      "\tCold\t['21.005', '21.506', '21.570999999999998']\n",
      "Top 3 temperatures of Santiago:\n",
      "\tHot\t['9.995', '9.991', '9.986999999999998']\n",
      "\tCold\t['-0.0010000000000000009', '-0.007000000000000006', '-0.010000000000000007']\n",
      "Top 3 temperatures of Santo Domingo:\n",
      "\tHot\t['29.012', '28.903000000000002', '28.823']\n",
      "\tCold\t['11.873', '20.049', '22.224']\n",
      "Top 3 temperatures of Seoul:\n",
      "\tHot\t['9.995', '9.991', '9.985320721453224']\n",
      "\tCold\t['-0.004000000000000115', '-0.010000000000000007', '-0.024067382812499982']\n",
      "Top 3 temperatures of Shanghai:\n",
      "\tHot\t['9.995', '9.995', '9.91']\n",
      "\tCold\t['-0.049999999999999815', '0.2250000000000001', '0.3250000000000002']\n",
      "Top 3 temperatures of Shenyang:\n",
      "\tHot\t['9.99', '9.99', '9.97']\n",
      "\tCold\t['-0.013690813654196887', '-0.017', '-0.018999999999999958']\n",
      "Top 3 temperatures of Singapore:\n",
      "\tHot\t['28.88000000000001', '28.82200000000001', '28.625']\n",
      "\tCold\t['24.032', '24.123', '24.184']\n",
      "Top 3 temperatures of Surabaya:\n",
      "\tHot\t['29.608', '29.509', '29.395']\n",
      "\tCold\t['24.662', '24.683000000000003', '24.684']\n",
      "Top 3 temperatures of Surat:\n",
      "\tHot\t['34.211', '33.875', '33.47']\n",
      "\tCold\t['17.803', '17.820999999999994', '17.998']\n",
      "Top 3 temperatures of Sydney:\n",
      "\tHot\t['22.041999999999998', '22.028', '21.857']\n",
      "\tCold\t['10.0985', '12.004', '12.214']\n",
      "Top 3 temperatures of São Paulo:\n",
      "\tHot\t['25.215', '25.115', '24.949']\n",
      "\tCold\t['13.787', '14.103000000000002', '14.122']\n",
      "Top 3 temperatures of Taipei:\n",
      "\tHot\t['29.506', '29.433000000000003', '29.275']\n",
      "\tCold\t['12.841', '13.062999999999999', '13.231999999999998']\n",
      "Top 3 temperatures of Taiyuan:\n",
      "\tHot\t['9.999', '9.991', '9.99']\n",
      "\tCold\t['-0.0040000000000000036', '-0.03200000000000003', '-0.04500000000000004']\n",
      "Top 3 temperatures of Tangshan:\n",
      "\tHot\t['9.968', '9.956', '9.922838000450849']\n",
      "\tCold\t['-0.009000000000000008', '-0.04900000000000005', '-0.05300000000000017']\n",
      "Top 3 temperatures of Tianjin:\n",
      "\tHot\t['9.943612874409357', '9.876', '9.802417927897572']\n",
      "\tCold\t['-0.03100000000000014', '-0.09400000000000007', '-0.15599999999999992']\n",
      "Top 3 temperatures of Tokyo:\n",
      "\tHot\t['9.999', '9.998', '9.986']\n",
      "\tCold\t['-0.010000000000000007', '-0.015000000000000124', '-0.016999999999999904']\n",
      "Top 3 temperatures of Toronto:\n",
      "\tHot\t['9.969', '9.947', '9.942']\n",
      "\tCold\t['-0.0129999999999999', '-0.033999999999999815', '-0.04400000000000004']\n",
      "Top 3 temperatures of Umm Durman:\n",
      "\tHot\t['35.7', '35.658', '35.597']\n",
      "\tCold\t['18.508', '19.899', '20.045']\n",
      "Top 3 temperatures of Wuhan:\n",
      "\tHot\t['9.992', '9.989999999999998', '9.979']\n",
      "\tCold\t['-0.30500000000000016', '0.1889999999999996', '0.7140000000000001']\n",
      "Top 3 temperatures of Xian:\n",
      "\tHot\t['9.907', '9.788', '9.787']\n",
      "\tCold\t['-0.009000000000000008', '-0.024000000000000132', '-0.04799999999999993']\n"
     ]
    }
   ],
   "source": [
    "N = 3\n",
    "for city in cities:\n",
    "    hot, cold = get_topN_temp(df, city, N=N)\n",
    "    print(f'Top {N} temperatures of {city}:')\n",
    "    print(f'\\tHot\\t{hot}')\n",
    "    print(f'\\tCold\\t{cold}')"
   ]
  },
  {
   "cell_type": "code",
   "execution_count": 41,
   "metadata": {},
   "outputs": [
    {
     "data": {
      "image/png": "[encoded data removed]",
      "text/plain": [
       "<Figure size 432x288 with 1 Axes>"
      ]
     },
     "metadata": {
      "needs_background": "light"
     },
     "output_type": "display_data"
    }
   ],
   "source": [
    "import matplotlib.pyplot as plt\n",
    "%matplotlib inline\n",
    "\n",
    "rome = df['City'] == 'Rome'\n",
    "bangkok = df['City'] == 'Bangkok'\n",
    "rome_temp = df[rome]['AverageTemperature']\n",
    "bangkok_temp = df[bangkok]['AverageTemperature']\n",
    "plt.hist(str_to_float(list(rome_temp)), bins=10, label='Rome')\n",
    "plt.hist(str_to_float(list(bangkok_temp)), bins=10, label='Bangkok')\n",
    "#plt.xticks(())\n",
    "plt.legend()\n",
    "plt.show()"
   ]
  },
  {
   "cell_type": "code",
   "execution_count": 29,
   "metadata": {},
   "outputs": [],
   "source": [
    "def fahreneit_to_celsius(fahr_val:float) -> float:\n",
    "    celsius = (fahr_val - 32)/1.8\n",
    "    return celsius\n",
    "\n",
    "def celsius_to_fahreneit(cels_val:float) -> float:\n",
    "    fahreneit = 1.8*cels_val + 32\n",
    "    return fahreneit"
   ]
  },
  {
   "cell_type": "code",
   "execution_count": 31,
   "metadata": {},
   "outputs": [],
   "source": [
    "bangkok_celsius = []\n",
    "for temp in bangkok_temp:\n",
    "    cels = fahreneit_to_celsius(float(temp))\n",
    "    bangkok_celsius.append(cels)"
   ]
  },
  {
   "cell_type": "code",
   "execution_count": 45,
   "metadata": {},
   "outputs": [
    {
     "data": {
      "image/png": "[encoded data removed]",
      "text/plain": [
       "<Figure size 432x288 with 1 Axes>"
      ]
     },
     "metadata": {
      "needs_background": "light"
     },
     "output_type": "display_data"
    }
   ],
   "source": [
    "plt.hist(str_to_float(list(rome_temp)), bins=10, label='Rome')\n",
    "plt.hist(str_to_float(list(bangkok_temp)), bins=10, label='Bangkok Fahreneit')\n",
    "plt.hist(list(bangkok_celsius), bins=10, label='Bangkok Celsius')\n",
    "#plt.xticks(())\n",
    "plt.legend()\n",
    "plt.show()"
   ]
  },
  {
   "cell_type": "markdown",
   "metadata": {},
   "source": [
    "-----------------\n",
    "# IMDb"
   ]
  },
  {
   "cell_type": "code",
   "execution_count": 46,
   "metadata": {},
   "outputs": [
    {
     "name": "stdout",
     "output_type": "stream",
     "text": [
      "--2022-04-14 11:43:04--  https://raw.githubusercontent.com/dbdmg/data-science-lab/master/datasets/aclimdb_reviews_train.txt\n",
      "Resolving raw.githubusercontent.com (raw.githubusercontent.com)... 185.199.108.133, 185.199.109.133, 185.199.110.133, ...\n",
      "Connecting to raw.githubusercontent.com (raw.githubusercontent.com)|185.199.108.133|:443... connected.\n",
      "HTTP request sent, awaiting response... 200 OK\n",
      "Length: 33322169 (32M) [text/plain]\n",
      "Saving to: ‘imdb.csv’\n",
      "\n",
      "imdb.csv            100%[===================>]  31,78M  28,1MB/s    in 1,1s    \n",
      "\n",
      "2022-04-14 11:43:07 (28,1 MB/s) - ‘imdb.csv’ saved [33322169/33322169]\n",
      "\n"
     ]
    }
   ],
   "source": [
    "!wget https://raw.githubusercontent.com/dbdmg/data-science-lab/master/datasets/aclimdb_reviews_train.txt -O imdb.csv"
   ]
  },
  {
   "cell_type": "code",
   "execution_count": 47,
   "metadata": {},
   "outputs": [],
   "source": [
    "import csv\n",
    "\n",
    "with open(\"imdb.csv\", \"r\") as f:\n",
    "    imdb = []\n",
    "    for cols in csv.reader(f):\n",
    "        imdb.append(cols)\n",
    "    imdb = np.array(imdb)"
   ]
  },
  {
   "cell_type": "code",
   "execution_count": null,
   "metadata": {},
   "outputs": [],
   "source": [
    "imdb[1:]"
   ]
  },
  {
   "cell_type": "code",
   "execution_count": 50,
   "metadata": {},
   "outputs": [],
   "source": [
    "import string\n",
    "def tokenize(docs):\n",
    "    \"\"\"Compute the tokens for each document.\n",
    "    Input: a list of strings. Each item is a document to tokenize.\n",
    "    Output: a list of lists. Each item is a list containing the tokens of the\n",
    "    relative document.\n",
    "    \"\"\"\n",
    "    tokens = []\n",
    "    for doc in docs:\n",
    "        for punct in string.punctuation:\n",
    "            doc = doc.replace(punct, \" \")\n",
    "        split_doc = [ token.lower() for token in doc.split(\" \") if token ]\n",
    "        tokens.append(split_doc)\n",
    "    return tokens"
   ]
  },
  {
   "cell_type": "code",
   "execution_count": 58,
   "metadata": {},
   "outputs": [],
   "source": [
    "tokenized_reviews = tokenize(imdb[1:,0])\n",
    "num_documents = len(tokenized_reviews)"
   ]
  },
  {
   "cell_type": "code",
   "execution_count": 74,
   "metadata": {},
   "outputs": [],
   "source": [
    "tot_list = []\n",
    "for i in tokenized_reviews:\n",
    "    tot_list+=i"
   ]
  },
  {
   "cell_type": "code",
   "execution_count": 77,
   "metadata": {},
   "outputs": [],
   "source": [
    "tot_list = sorted(set(tot_list)) # list containing all tokens 1 time each"
   ]
  },
  {
   "cell_type": "code",
   "execution_count": 65,
   "metadata": {},
   "outputs": [],
   "source": [
    "def term_frequency(doc:list) -> dict:\n",
    "    terms = sorted(set(doc))\n",
    "    dictionary = dict()\n",
    "    for term in terms:\n",
    "        cnt = 0\n",
    "        for token in doc:\n",
    "            if term == token:\n",
    "                cnt += 1\n",
    "            else:\n",
    "                continue\n",
    "        dictionary[term] = cnt\n",
    "    return dictionary"
   ]
  },
  {
   "cell_type": "code",
   "execution_count": 169,
   "metadata": {},
   "outputs": [],
   "source": [
    "# Build term frequency of each document\n",
    "doc_id = 0\n",
    "term_freq = dict()\n",
    "for document in tokenized_reviews:    \n",
    "    term_freq[doc_id] = term_frequency(document)\n",
    "    doc_id += 1"
   ]
  },
  {
   "cell_type": "code",
   "execution_count": 136,
   "metadata": {},
   "outputs": [],
   "source": [
    "''' Mine, inefficient.\n",
    "def doc_frequency(term:string, list_of_documents:list) -> Tuple:\n",
    "    cnt = 0\n",
    "    for document in list_of_documents:\n",
    "        if term in document:\n",
    "            cnt += 1\n",
    "        else:\n",
    "            continue\n",
    "    return (term, cnt)\n",
    "'''"
   ]
  },
  {
   "cell_type": "code",
   "execution_count": 170,
   "metadata": {},
   "outputs": [],
   "source": [
    "import math\n",
    "\n",
    "def doc_frequency(list_of_documents:dict, inverse:bool=False) -> dict:\n",
    "    doc_freq = dict()\n",
    "    for document in list_of_documents.values():\n",
    "        for token, tf in document.items():\n",
    "            doc_freq[token] = doc_freq.get(token, 0) + 1 # 0 is the default value\n",
    "    if inverse:\n",
    "        n = len(list_of_documents)\n",
    "        return {token: math.log(n/df) for token, df in doc_freq.items()}\n",
    "    return doc_freq"
   ]
  },
  {
   "cell_type": "code",
   "execution_count": 171,
   "metadata": {},
   "outputs": [],
   "source": [
    "idf = doc_frequency(term_freq, inverse=True)"
   ]
  },
  {
   "cell_type": "code",
   "execution_count": 143,
   "metadata": {},
   "outputs": [
    {
     "data": {
      "text/plain": [
       "[('the', 0.008314469604085238),\n",
       " ('a', 0.03351541933781697),\n",
       " ('and', 0.03401190259170586),\n",
       " ('of', 0.05226218466281087),\n",
       " ('to', 0.06293979977387414)]"
      ]
     },
     "execution_count": 143,
     "metadata": {},
     "output_type": "execute_result"
    }
   ],
   "source": [
    "N = 5\n",
    "sorted(idf.items(), key=lambda x: x[1])[:N] # low values when the term appears in many (almost all) documents"
   ]
  },
  {
   "cell_type": "code",
   "execution_count": 189,
   "metadata": {},
   "outputs": [],
   "source": [
    "def compute_tfidf(tokenized_reviews:list) -> list[dict]:\n",
    "    doc_id = 0\n",
    "    term_freq = dict()\n",
    "    for document in tokenized_reviews:    \n",
    "        term_freq[doc_id] = term_frequency(document)\n",
    "        doc_id += 1\n",
    "\n",
    "    idf = doc_frequency(term_freq, inverse=True)\n",
    "    \n",
    "    list_of_dict = list()\n",
    "    for document_id, document in term_freq.items():\n",
    "        tf_idf = {}\n",
    "        for token, tf in document.items():\n",
    "            tf_idf[token] = tf*idf[token]\n",
    "        list_of_dict.append(tf_idf)\n",
    "    \n",
    "    return list_of_dict\n"
   ]
  },
  {
   "cell_type": "code",
   "execution_count": 190,
   "metadata": {},
   "outputs": [],
   "source": [
    "tf_idf_1 = compute_tfidf(tokenized_reviews)"
   ]
  },
  {
   "cell_type": "code",
   "execution_count": null,
   "metadata": {},
   "outputs": [],
   "source": [
    "tf_idf_1[0]"
   ]
  },
  {
   "cell_type": "code",
   "execution_count": 194,
   "metadata": {},
   "outputs": [
    {
     "data": {
      "text/plain": [
       "array(['1', '0', '1', ..., '0', '1', '0'], dtype='<U13704')"
      ]
     },
     "execution_count": 194,
     "metadata": {},
     "output_type": "execute_result"
    }
   ],
   "source": [
    "imdb[1:,1]"
   ]
  },
  {
   "cell_type": "code",
   "execution_count": 202,
   "metadata": {},
   "outputs": [],
   "source": [
    "def extract_positive_negative_indexes(list_of_rev:list) -> tuple:\n",
    "    \"\"\"Extract indexes concerning\n",
    "    positive and negative sentiment\n",
    "\n",
    "    Args:\n",
    "        list_of_rev (list): input list containing 2 labels\n",
    "        '1' for positive sentiment,\n",
    "        '0' for negative sentiment\n",
    "\n",
    "    Returns:\n",
    "        tuple: return the tuple containing positive list and\n",
    "        negative list\n",
    "    \"\"\"\n",
    "    \n",
    "    index = 0\n",
    "    positive = []\n",
    "    negative = []\n",
    "    for i in list_of_rev:\n",
    "        if i == '1':\n",
    "            positive.append(index)\n",
    "            index += 1\n",
    "        else:\n",
    "            negative.append(index)\n",
    "            index += 1\n",
    "    return positive, negative"
   ]
  },
  {
   "cell_type": "code",
   "execution_count": 203,
   "metadata": {},
   "outputs": [],
   "source": [
    "positive, negative = extract_positive_negative_indexes(imdb[1:,1])"
   ]
  },
  {
   "cell_type": "code",
   "execution_count": null,
   "metadata": {},
   "outputs": [],
   "source": [
    "tf_idf_1[positive[0]]"
   ]
  },
  {
   "cell_type": "code",
   "execution_count": null,
   "metadata": {},
   "outputs": [],
   "source": [
    "tf_idf_1[negative[0]]"
   ]
  },
  {
   "cell_type": "code",
   "execution_count": 206,
   "metadata": {},
   "outputs": [],
   "source": [
    "def norm(d):\n",
    "    \"\"\"Compute the L2-norm of a vector representation.\"\"\"\n",
    "    return sum([ tf_idf**2 for t, tf_idf in d.items() ])**.5\n",
    "\n",
    "def dot_product(d1, d2):\n",
    "    \"\"\"Compute the dot product between two vector representations.\"\"\"\n",
    "    word_set = set(list(d1.keys()) + list(d2.keys()))\n",
    "    return sum([( d1.get(d, 0.0) * d2.get(d, 0.0)) for d in word_set ])\n",
    "\n",
    "def cosine_similarity(d1, d2):\n",
    "    \"\"\"\n",
    "    Compute the cosine similarity between documents d1 and d2.\n",
    "    Input: two dictionaries representing the TF-IDF vectors for documents\n",
    "    d1 and d2.\n",
    "    Output: the cosine similarity.\n",
    "    \"\"\"\n",
    "    return dot_product(d1, d2) / (norm(d1) * norm(d2))"
   ]
  },
  {
   "cell_type": "code",
   "execution_count": 208,
   "metadata": {},
   "outputs": [],
   "source": [
    "tf_idf_pos = []\n",
    "tf_idf_neg = []\n",
    "\n",
    "for index in positive:\n",
    "    tf_idf_pos.append(tf_idf_1[index])\n",
    "\n",
    "for index in negative:\n",
    "    tf_idf_neg.append(tf_idf_1[index])\n"
   ]
  },
  {
   "cell_type": "code",
   "execution_count": 220,
   "metadata": {},
   "outputs": [],
   "source": [
    "d1 = tf_idf_1[0] # al momento sono gli stessi, va tolto in tf_idf_pos, fixato male\n",
    "d2 = tf_idf_pos[4]"
   ]
  },
  {
   "cell_type": "code",
   "execution_count": 236,
   "metadata": {},
   "outputs": [],
   "source": [
    "def mean(list_of_floats:list) -> float:\n",
    "    length = len(list_of_floats)\n",
    "    return sum(list_of_floats)/length\n",
    "\n",
    "def mean_cosine_similarity(d1:dict, list_of_d2_dict:list) -> float:\n",
    "    similarity_list = []\n",
    "    for d2 in list_of_d2_dict:\n",
    "        cs = cosine_similarity(d1,d2)\n",
    "        if cs >= 0.999: # what a bad solution\n",
    "            continue\n",
    "        else:\n",
    "            similarity_list.append(cs)\n",
    "            \n",
    "    return mean(similarity_list)"
   ]
  },
  {
   "cell_type": "code",
   "execution_count": 239,
   "metadata": {},
   "outputs": [],
   "source": [
    "def sentiment_label(test_vector:dict, tf_idf_pos:list, tf_idf_neg:list):\n",
    "    pos_val = mean_cosine_similarity(test_vector, tf_idf_pos)\n",
    "    neg_val = mean_cosine_similarity(test_vector, tf_idf_neg)\n",
    "    if pos_val > neg_val:\n",
    "        return \"Positive\"\n",
    "    elif pos_val < neg_val:\n",
    "        return \"Negative\"\n",
    "    else:\n",
    "        return \"Neutral\""
   ]
  },
  {
   "cell_type": "code",
   "execution_count": 242,
   "metadata": {},
   "outputs": [
    {
     "data": {
      "text/plain": [
       "'Positive'"
      ]
     },
     "execution_count": 242,
     "metadata": {},
     "output_type": "execute_result"
    }
   ],
   "source": [
    "sentiment_label(tf_idf_1[1], tf_idf_pos, tf_idf_neg)"
   ]
  },
  {
   "cell_type": "code",
   "execution_count": 238,
   "metadata": {},
   "outputs": [
    {
     "data": {
      "text/plain": [
       "0.009605359121433907"
      ]
     },
     "execution_count": 238,
     "metadata": {},
     "output_type": "execute_result"
    }
   ],
   "source": []
  },
  {
   "cell_type": "code",
   "execution_count": null,
   "metadata": {},
   "outputs": [],
   "source": []
  }
 ],
 "metadata": {
  "interpreter": {
   "hash": "afad3e5d60d609398ecce3ba468213674dfc27eda2bcdfe27a1dfdc5eca24277"
  },
  "kernelspec": {
   "display_name": "Python 3.10.2 ('data_science')",
   "language": "python",
   "name": "python3"
  },
  "language_info": {
   "codemirror_mode": {
    "name": "ipython",
    "version": 3
   },
   "file_extension": ".py",
   "mimetype": "text/x-python",
   "name": "python",
   "nbconvert_exporter": "python",
   "pygments_lexer": "ipython3",
   "version": "3.10.2"
  },
  "orig_nbformat": 4
 },
 "nbformat": 4,
 "nbformat_minor": 2
}
