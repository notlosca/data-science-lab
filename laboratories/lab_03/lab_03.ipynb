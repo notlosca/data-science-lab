{
 "cells": [
  {
   "cell_type": "markdown",
   "metadata": {},
   "source": [
    "# Association rules - 3rd laboratory\n",
    "\n",
    "- `pandas` and [`mlxtend`](http://rasbt.github.io/mlxtend/)\n",
    "- Apriori algorithm and FP-Growth "
   ]
  },
  {
   "cell_type": "markdown",
   "metadata": {},
   "source": [
    "-------\n",
    "## Online Retail Data Set"
   ]
  },
  {
   "cell_type": "code",
   "execution_count": 2,
   "metadata": {},
   "outputs": [
    {
     "name": "stdout",
     "output_type": "stream",
     "text": [
      "--2022-04-15 09:56:31--  https://github.com/dbdmg/data-science-lab/raw/master/datasets/online_retail.csv\n",
      "Resolving github.com (github.com)... 140.82.121.3\n",
      "Connecting to github.com (github.com)|140.82.121.3|:443... connected.\n",
      "HTTP request sent, awaiting response... 302 Found\n",
      "Location: https://raw.githubusercontent.com/dbdmg/data-science-lab/master/datasets/online_retail.csv [following]\n",
      "--2022-04-15 09:56:31--  https://raw.githubusercontent.com/dbdmg/data-science-lab/master/datasets/online_retail.csv\n",
      "Resolving raw.githubusercontent.com (raw.githubusercontent.com)... 185.199.108.133, 185.199.110.133, 185.199.111.133, ...\n",
      "Connecting to raw.githubusercontent.com (raw.githubusercontent.com)|185.199.108.133|:443... connected.\n",
      "HTTP request sent, awaiting response... 200 OK\n",
      "Length: 45580638 (43M) [text/plain]\n",
      "Saving to: ‘ords.csv’\n",
      "\n",
      "ords.csv            100%[===================>]  43,47M  25,9MB/s    in 1,7s    \n",
      "\n",
      "2022-04-15 09:56:33 (25,9 MB/s) - ‘ords.csv’ saved [45580638/45580638]\n",
      "\n"
     ]
    }
   ],
   "source": [
    "!wget https://github.com/dbdmg/data-science-lab/raw/master/datasets/online_retail.csv -O ords.csv"
   ]
  },
  {
   "cell_type": "code",
   "execution_count": 15,
   "metadata": {},
   "outputs": [],
   "source": [
    "import numpy as np\n",
    "import pandas as pd"
   ]
  },
  {
   "cell_type": "code",
   "execution_count": 8,
   "metadata": {},
   "outputs": [],
   "source": [
    "import csv\n",
    "\n",
    "def read_csv(file_name:str) -> list:\n",
    "    \"\"\"Read and return a list of list of the input csv file\n",
    "\n",
    "    Args:\n",
    "        file_name (str): input CSV file\n",
    "\n",
    "    Returns:\n",
    "        list: list of list of the input file, one list for each line\n",
    "        in the csv file\n",
    "    \"\"\"\n",
    "    with open(file_name, \"r\") as f:\n",
    "        lol = []\n",
    "        for cols in csv.reader(f):\n",
    "            lol.append(cols)\n",
    "    return lol"
   ]
  },
  {
   "cell_type": "code",
   "execution_count": 16,
   "metadata": {},
   "outputs": [],
   "source": [
    "ords_lol = np.array(read_csv('ords.csv'))"
   ]
  },
  {
   "cell_type": "code",
   "execution_count": 45,
   "metadata": {},
   "outputs": [],
   "source": [
    "def indexes_to_delete(ary:np.array) -> list:\n",
    "    \"\"\"Return a list containing the indexes \n",
    "    that belong to a cancelled transaction\n",
    "\n",
    "    Args:\n",
    "        ary (np.array): input array\n",
    "\n",
    "    Returns:\n",
    "        list: output list containing indexes\n",
    "    \"\"\"\n",
    "    indexes_to_delete = []\n",
    "    for transaction_id in range(ary.shape[0] - 1):\n",
    "        if ary[transaction_id,0][0] == 'C':\n",
    "            indexes_to_delete.append(transaction_id)\n",
    "        else:\n",
    "            continue    \n",
    "    return indexes_to_delete\n",
    "\n",
    "\n",
    "ids_to_delete = indexes_to_delete(ords_lol)\n"
   ]
  },
  {
   "cell_type": "code",
   "execution_count": 48,
   "metadata": {},
   "outputs": [],
   "source": [
    "filtered_ords = np.delete(ords_lol, ids_to_delete, axis=0)\n",
    "ids_to_delete = None"
   ]
  },
  {
   "cell_type": "code",
   "execution_count": 49,
   "metadata": {},
   "outputs": [
    {
     "data": {
      "text/plain": [
       "[]"
      ]
     },
     "execution_count": 49,
     "metadata": {},
     "output_type": "execute_result"
    }
   ],
   "source": [
    "indexes_to_delete(filtered_ords) # return empty list"
   ]
  },
  {
   "cell_type": "code",
   "execution_count": 65,
   "metadata": {},
   "outputs": [
    {
     "ename": "TypeError",
     "evalue": "dict.get() takes no keyword arguments",
     "output_type": "error",
     "traceback": [
      "\u001b[0;31m---------------------------------------------------------------------------\u001b[0m",
      "\u001b[0;31mTypeError\u001b[0m                                 Traceback (most recent call last)",
      "\u001b[1;32m/Users/lorenzo/Documents/Lorenzo/Università/Magistrale/I anno/00_Data Science Lab/2021_2022/data-science-lab/laboratories/lab_03/lab_03.ipynb Cell 10'\u001b[0m in \u001b[0;36m<cell line: 3>\u001b[0;34m()\u001b[0m\n\u001b[1;32m      <a href='vscode-notebook-cell:/Users/lorenzo/Documents/Lorenzo/Universit%C3%A0/Magistrale/I%20anno/00_Data%20Science%20Lab/2021_2022/data-science-lab/laboratories/lab_03/lab_03.ipynb#ch0000013?line=1'>2</a>\u001b[0m transactions \u001b[39m=\u001b[39m \u001b[39mdict\u001b[39m()\n\u001b[1;32m      <a href='vscode-notebook-cell:/Users/lorenzo/Documents/Lorenzo/Universit%C3%A0/Magistrale/I%20anno/00_Data%20Science%20Lab/2021_2022/data-science-lab/laboratories/lab_03/lab_03.ipynb#ch0000013?line=2'>3</a>\u001b[0m \u001b[39mfor\u001b[39;00m t \u001b[39min\u001b[39;00m filtered_ords:\n\u001b[0;32m----> <a href='vscode-notebook-cell:/Users/lorenzo/Documents/Lorenzo/Universit%C3%A0/Magistrale/I%20anno/00_Data%20Science%20Lab/2021_2022/data-science-lab/laboratories/lab_03/lab_03.ipynb#ch0000013?line=3'>4</a>\u001b[0m     transactions[t[\u001b[39m0\u001b[39m]] \u001b[39m=\u001b[39m transactions\u001b[39m.\u001b[39;49mget(t[\u001b[39m0\u001b[39;49m], default_ \u001b[39m=\u001b[39;49m \u001b[39mlist\u001b[39;49m())\u001b[39m.\u001b[39mappend(t[\u001b[39m2\u001b[39m])\n",
      "\u001b[0;31mTypeError\u001b[0m: dict.get() takes no keyword arguments"
     ]
    }
   ],
   "source": [
    "# invoices = sorted(set(filtered_ords[:,0]))\n",
    "transactions = dict()\n",
    "for t in filtered_ords:\n",
    "    transactions[t[0]] = transactions.get(t[0], default_ = list()).append(t[2])    \n",
    "    \n",
    "    "
   ]
  },
  {
   "cell_type": "code",
   "execution_count": 64,
   "metadata": {},
   "outputs": [
    {
     "data": {
      "text/plain": [
       "list"
      ]
     },
     "execution_count": 64,
     "metadata": {},
     "output_type": "execute_result"
    }
   ],
   "source": [
    "prova = list()\n",
    "type(prova)"
   ]
  },
  {
   "cell_type": "code",
   "execution_count": 58,
   "metadata": {},
   "outputs": [
    {
     "data": {
      "text/plain": [
       "'WHITE METAL LANTERN'"
      ]
     },
     "execution_count": 58,
     "metadata": {},
     "output_type": "execute_result"
    }
   ],
   "source": [
    "filtered_ords[2,2]"
   ]
  },
  {
   "cell_type": "code",
   "execution_count": null,
   "metadata": {},
   "outputs": [],
   "source": []
  }
 ],
 "metadata": {
  "interpreter": {
   "hash": "afad3e5d60d609398ecce3ba468213674dfc27eda2bcdfe27a1dfdc5eca24277"
  },
  "kernelspec": {
   "display_name": "Python 3.10.2 ('data_science')",
   "language": "python",
   "name": "python3"
  },
  "language_info": {
   "codemirror_mode": {
    "name": "ipython",
    "version": 3
   },
   "file_extension": ".py",
   "mimetype": "text/x-python",
   "name": "python",
   "nbconvert_exporter": "python",
   "pygments_lexer": "ipython3",
   "version": "3.10.2"
  },
  "orig_nbformat": 4
 },
 "nbformat": 4,
 "nbformat_minor": 2
}
