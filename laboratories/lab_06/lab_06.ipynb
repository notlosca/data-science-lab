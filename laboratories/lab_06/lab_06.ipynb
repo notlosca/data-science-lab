{
 "cells": [
  {
   "cell_type": "markdown",
   "metadata": {},
   "source": [
    "# Lab_06: Decision trees and Random Forest"
   ]
  },
  {
   "cell_type": "code",
   "execution_count": 1,
   "metadata": {},
   "outputs": [],
   "source": [
    "import pandas as pd\n",
    "import numpy as np\n",
    "import matplotlib.pyplot as plt\n",
    "import seaborn as sns\n",
    "%matplotlib inline"
   ]
  },
  {
   "cell_type": "code",
   "execution_count": 1,
   "metadata": {},
   "outputs": [
    {
     "name": "stdout",
     "output_type": "stream",
     "text": [
      "--2022-05-01 17:34:58--  https://raw.githubusercontent.com/dbdmg/data-science-lab/master/datasets/2d-synthetic.csv\n",
      "Resolving raw.githubusercontent.com (raw.githubusercontent.com)... 185.199.110.133, 185.199.111.133, 185.199.108.133, ...\n",
      "Connecting to raw.githubusercontent.com (raw.githubusercontent.com)|185.199.110.133|:443... connected.\n",
      "HTTP request sent, awaiting response... 200 OK\n",
      "Length: 19259 (19K) [text/plain]\n",
      "Saving to: ‘synthetic_dataset.csv’\n",
      "\n",
      "synthetic_dataset.c 100%[===================>]  18,81K  --.-KB/s    in 0,001s  \n",
      "\n",
      "2022-05-01 17:34:58 (21,8 MB/s) - ‘synthetic_dataset.csv’ saved [19259/19259]\n",
      "\n"
     ]
    }
   ],
   "source": [
    "!wget https://raw.githubusercontent.com/dbdmg/data-science-lab/master/datasets/2d-synthetic.csv -O synthetic_dataset.csv"
   ]
  },
  {
   "cell_type": "code",
   "execution_count": 2,
   "metadata": {},
   "outputs": [],
   "source": [
    "from sklearn.datasets import load_wine\n",
    "X_wine, y_wine = load_wine(return_X_y=True, as_frame=True)\n"
   ]
  },
  {
   "cell_type": "code",
   "execution_count": 3,
   "metadata": {},
   "outputs": [
    {
     "data": {
      "text/html": [
       "<div>\n",
       "<style scoped>\n",
       "    .dataframe tbody tr th:only-of-type {\n",
       "        vertical-align: middle;\n",
       "    }\n",
       "\n",
       "    .dataframe tbody tr th {\n",
       "        vertical-align: top;\n",
       "    }\n",
       "\n",
       "    .dataframe thead th {\n",
       "        text-align: right;\n",
       "    }\n",
       "</style>\n",
       "<table border=\"1\" class=\"dataframe\">\n",
       "  <thead>\n",
       "    <tr style=\"text-align: right;\">\n",
       "      <th></th>\n",
       "      <th>alcohol</th>\n",
       "      <th>malic_acid</th>\n",
       "      <th>ash</th>\n",
       "      <th>alcalinity_of_ash</th>\n",
       "      <th>magnesium</th>\n",
       "      <th>total_phenols</th>\n",
       "      <th>flavanoids</th>\n",
       "      <th>nonflavanoid_phenols</th>\n",
       "      <th>proanthocyanins</th>\n",
       "      <th>color_intensity</th>\n",
       "      <th>hue</th>\n",
       "      <th>od280/od315_of_diluted_wines</th>\n",
       "      <th>proline</th>\n",
       "    </tr>\n",
       "  </thead>\n",
       "  <tbody>\n",
       "    <tr>\n",
       "      <th>0</th>\n",
       "      <td>14.23</td>\n",
       "      <td>1.71</td>\n",
       "      <td>2.43</td>\n",
       "      <td>15.6</td>\n",
       "      <td>127.0</td>\n",
       "      <td>2.80</td>\n",
       "      <td>3.06</td>\n",
       "      <td>0.28</td>\n",
       "      <td>2.29</td>\n",
       "      <td>5.64</td>\n",
       "      <td>1.04</td>\n",
       "      <td>3.92</td>\n",
       "      <td>1065.0</td>\n",
       "    </tr>\n",
       "    <tr>\n",
       "      <th>1</th>\n",
       "      <td>13.20</td>\n",
       "      <td>1.78</td>\n",
       "      <td>2.14</td>\n",
       "      <td>11.2</td>\n",
       "      <td>100.0</td>\n",
       "      <td>2.65</td>\n",
       "      <td>2.76</td>\n",
       "      <td>0.26</td>\n",
       "      <td>1.28</td>\n",
       "      <td>4.38</td>\n",
       "      <td>1.05</td>\n",
       "      <td>3.40</td>\n",
       "      <td>1050.0</td>\n",
       "    </tr>\n",
       "    <tr>\n",
       "      <th>2</th>\n",
       "      <td>13.16</td>\n",
       "      <td>2.36</td>\n",
       "      <td>2.67</td>\n",
       "      <td>18.6</td>\n",
       "      <td>101.0</td>\n",
       "      <td>2.80</td>\n",
       "      <td>3.24</td>\n",
       "      <td>0.30</td>\n",
       "      <td>2.81</td>\n",
       "      <td>5.68</td>\n",
       "      <td>1.03</td>\n",
       "      <td>3.17</td>\n",
       "      <td>1185.0</td>\n",
       "    </tr>\n",
       "    <tr>\n",
       "      <th>3</th>\n",
       "      <td>14.37</td>\n",
       "      <td>1.95</td>\n",
       "      <td>2.50</td>\n",
       "      <td>16.8</td>\n",
       "      <td>113.0</td>\n",
       "      <td>3.85</td>\n",
       "      <td>3.49</td>\n",
       "      <td>0.24</td>\n",
       "      <td>2.18</td>\n",
       "      <td>7.80</td>\n",
       "      <td>0.86</td>\n",
       "      <td>3.45</td>\n",
       "      <td>1480.0</td>\n",
       "    </tr>\n",
       "    <tr>\n",
       "      <th>4</th>\n",
       "      <td>13.24</td>\n",
       "      <td>2.59</td>\n",
       "      <td>2.87</td>\n",
       "      <td>21.0</td>\n",
       "      <td>118.0</td>\n",
       "      <td>2.80</td>\n",
       "      <td>2.69</td>\n",
       "      <td>0.39</td>\n",
       "      <td>1.82</td>\n",
       "      <td>4.32</td>\n",
       "      <td>1.04</td>\n",
       "      <td>2.93</td>\n",
       "      <td>735.0</td>\n",
       "    </tr>\n",
       "    <tr>\n",
       "      <th>...</th>\n",
       "      <td>...</td>\n",
       "      <td>...</td>\n",
       "      <td>...</td>\n",
       "      <td>...</td>\n",
       "      <td>...</td>\n",
       "      <td>...</td>\n",
       "      <td>...</td>\n",
       "      <td>...</td>\n",
       "      <td>...</td>\n",
       "      <td>...</td>\n",
       "      <td>...</td>\n",
       "      <td>...</td>\n",
       "      <td>...</td>\n",
       "    </tr>\n",
       "    <tr>\n",
       "      <th>173</th>\n",
       "      <td>13.71</td>\n",
       "      <td>5.65</td>\n",
       "      <td>2.45</td>\n",
       "      <td>20.5</td>\n",
       "      <td>95.0</td>\n",
       "      <td>1.68</td>\n",
       "      <td>0.61</td>\n",
       "      <td>0.52</td>\n",
       "      <td>1.06</td>\n",
       "      <td>7.70</td>\n",
       "      <td>0.64</td>\n",
       "      <td>1.74</td>\n",
       "      <td>740.0</td>\n",
       "    </tr>\n",
       "    <tr>\n",
       "      <th>174</th>\n",
       "      <td>13.40</td>\n",
       "      <td>3.91</td>\n",
       "      <td>2.48</td>\n",
       "      <td>23.0</td>\n",
       "      <td>102.0</td>\n",
       "      <td>1.80</td>\n",
       "      <td>0.75</td>\n",
       "      <td>0.43</td>\n",
       "      <td>1.41</td>\n",
       "      <td>7.30</td>\n",
       "      <td>0.70</td>\n",
       "      <td>1.56</td>\n",
       "      <td>750.0</td>\n",
       "    </tr>\n",
       "    <tr>\n",
       "      <th>175</th>\n",
       "      <td>13.27</td>\n",
       "      <td>4.28</td>\n",
       "      <td>2.26</td>\n",
       "      <td>20.0</td>\n",
       "      <td>120.0</td>\n",
       "      <td>1.59</td>\n",
       "      <td>0.69</td>\n",
       "      <td>0.43</td>\n",
       "      <td>1.35</td>\n",
       "      <td>10.20</td>\n",
       "      <td>0.59</td>\n",
       "      <td>1.56</td>\n",
       "      <td>835.0</td>\n",
       "    </tr>\n",
       "    <tr>\n",
       "      <th>176</th>\n",
       "      <td>13.17</td>\n",
       "      <td>2.59</td>\n",
       "      <td>2.37</td>\n",
       "      <td>20.0</td>\n",
       "      <td>120.0</td>\n",
       "      <td>1.65</td>\n",
       "      <td>0.68</td>\n",
       "      <td>0.53</td>\n",
       "      <td>1.46</td>\n",
       "      <td>9.30</td>\n",
       "      <td>0.60</td>\n",
       "      <td>1.62</td>\n",
       "      <td>840.0</td>\n",
       "    </tr>\n",
       "    <tr>\n",
       "      <th>177</th>\n",
       "      <td>14.13</td>\n",
       "      <td>4.10</td>\n",
       "      <td>2.74</td>\n",
       "      <td>24.5</td>\n",
       "      <td>96.0</td>\n",
       "      <td>2.05</td>\n",
       "      <td>0.76</td>\n",
       "      <td>0.56</td>\n",
       "      <td>1.35</td>\n",
       "      <td>9.20</td>\n",
       "      <td>0.61</td>\n",
       "      <td>1.60</td>\n",
       "      <td>560.0</td>\n",
       "    </tr>\n",
       "  </tbody>\n",
       "</table>\n",
       "<p>178 rows × 13 columns</p>\n",
       "</div>"
      ],
      "text/plain": [
       "     alcohol  malic_acid   ash  alcalinity_of_ash  magnesium  total_phenols  \\\n",
       "0      14.23        1.71  2.43               15.6      127.0           2.80   \n",
       "1      13.20        1.78  2.14               11.2      100.0           2.65   \n",
       "2      13.16        2.36  2.67               18.6      101.0           2.80   \n",
       "3      14.37        1.95  2.50               16.8      113.0           3.85   \n",
       "4      13.24        2.59  2.87               21.0      118.0           2.80   \n",
       "..       ...         ...   ...                ...        ...            ...   \n",
       "173    13.71        5.65  2.45               20.5       95.0           1.68   \n",
       "174    13.40        3.91  2.48               23.0      102.0           1.80   \n",
       "175    13.27        4.28  2.26               20.0      120.0           1.59   \n",
       "176    13.17        2.59  2.37               20.0      120.0           1.65   \n",
       "177    14.13        4.10  2.74               24.5       96.0           2.05   \n",
       "\n",
       "     flavanoids  nonflavanoid_phenols  proanthocyanins  color_intensity   hue  \\\n",
       "0          3.06                  0.28             2.29             5.64  1.04   \n",
       "1          2.76                  0.26             1.28             4.38  1.05   \n",
       "2          3.24                  0.30             2.81             5.68  1.03   \n",
       "3          3.49                  0.24             2.18             7.80  0.86   \n",
       "4          2.69                  0.39             1.82             4.32  1.04   \n",
       "..          ...                   ...              ...              ...   ...   \n",
       "173        0.61                  0.52             1.06             7.70  0.64   \n",
       "174        0.75                  0.43             1.41             7.30  0.70   \n",
       "175        0.69                  0.43             1.35            10.20  0.59   \n",
       "176        0.68                  0.53             1.46             9.30  0.60   \n",
       "177        0.76                  0.56             1.35             9.20  0.61   \n",
       "\n",
       "     od280/od315_of_diluted_wines  proline  \n",
       "0                            3.92   1065.0  \n",
       "1                            3.40   1050.0  \n",
       "2                            3.17   1185.0  \n",
       "3                            3.45   1480.0  \n",
       "4                            2.93    735.0  \n",
       "..                            ...      ...  \n",
       "173                          1.74    740.0  \n",
       "174                          1.56    750.0  \n",
       "175                          1.56    835.0  \n",
       "176                          1.62    840.0  \n",
       "177                          1.60    560.0  \n",
       "\n",
       "[178 rows x 13 columns]"
      ]
     },
     "execution_count": 3,
     "metadata": {},
     "output_type": "execute_result"
    }
   ],
   "source": [
    "X_wine"
   ]
  },
  {
   "cell_type": "code",
   "execution_count": 4,
   "metadata": {},
   "outputs": [
    {
     "data": {
      "text/plain": [
       "0      0\n",
       "1      0\n",
       "2      0\n",
       "3      0\n",
       "4      0\n",
       "      ..\n",
       "173    2\n",
       "174    2\n",
       "175    2\n",
       "176    2\n",
       "177    2\n",
       "Name: target, Length: 178, dtype: int64"
      ]
     },
     "execution_count": 4,
     "metadata": {},
     "output_type": "execute_result"
    }
   ],
   "source": [
    "y_wine # target"
   ]
  },
  {
   "cell_type": "code",
   "execution_count": 2,
   "metadata": {},
   "outputs": [],
   "source": [
    "from sklearn.datasets import fetch_openml\n",
    "\n",
    "X_mnist, y_mnist = fetch_openml('mnist_784', return_X_y=True)\n"
   ]
  },
  {
   "cell_type": "markdown",
   "metadata": {},
   "source": [
    "## 2.1 Wine classification"
   ]
  },
  {
   "cell_type": "code",
   "execution_count": 6,
   "metadata": {},
   "outputs": [
    {
     "name": "stdout",
     "output_type": "stream",
     "text": [
      "<class 'pandas.core.frame.DataFrame'>\n",
      "RangeIndex: 178 entries, 0 to 177\n",
      "Data columns (total 13 columns):\n",
      " #   Column                        Non-Null Count  Dtype  \n",
      "---  ------                        --------------  -----  \n",
      " 0   alcohol                       178 non-null    float64\n",
      " 1   malic_acid                    178 non-null    float64\n",
      " 2   ash                           178 non-null    float64\n",
      " 3   alcalinity_of_ash             178 non-null    float64\n",
      " 4   magnesium                     178 non-null    float64\n",
      " 5   total_phenols                 178 non-null    float64\n",
      " 6   flavanoids                    178 non-null    float64\n",
      " 7   nonflavanoid_phenols          178 non-null    float64\n",
      " 8   proanthocyanins               178 non-null    float64\n",
      " 9   color_intensity               178 non-null    float64\n",
      " 10  hue                           178 non-null    float64\n",
      " 11  od280/od315_of_diluted_wines  178 non-null    float64\n",
      " 12  proline                       178 non-null    float64\n",
      "dtypes: float64(13)\n",
      "memory usage: 18.2 KB\n"
     ]
    }
   ],
   "source": [
    "X_wine.info()"
   ]
  },
  {
   "cell_type": "code",
   "execution_count": 7,
   "metadata": {},
   "outputs": [
    {
     "name": "stdout",
     "output_type": "stream",
     "text": [
      "label\tnumber of samples\n",
      "0\t 59\n",
      "1\t 71\n",
      "2\t 48\n"
     ]
    }
   ],
   "source": [
    "print(f'label\\tnumber of samples')\n",
    "for label in y_wine.unique():\n",
    "    print(f\"{label}\\t {sum(y_wine.isin([label]))}\")\n"
   ]
  },
  {
   "cell_type": "code",
   "execution_count": 8,
   "metadata": {},
   "outputs": [],
   "source": [
    "from sklearn.tree import DecisionTreeClassifier\n",
    "# they don't want to divide between training and test, mmmmm....\n",
    "decision_tree = DecisionTreeClassifier().fit(X_wine, y_wine)"
   ]
  },
  {
   "cell_type": "code",
   "execution_count": 9,
   "metadata": {},
   "outputs": [
    {
     "data": {
      "text/plain": [
       "[Text(0.5657894736842105, 0.9166666666666666, 'X[12] <= 755.0\\ngini = 0.658\\nsamples = 178\\nvalue = [59, 71, 48]'),\n",
       " Text(0.34210526315789475, 0.75, 'X[11] <= 2.115\\ngini = 0.492\\nsamples = 111\\nvalue = [2, 67, 42]'),\n",
       " Text(0.21052631578947367, 0.5833333333333334, 'X[10] <= 0.935\\ngini = 0.227\\nsamples = 46\\nvalue = [0, 6, 40]'),\n",
       " Text(0.10526315789473684, 0.4166666666666667, 'X[6] <= 1.58\\ngini = 0.049\\nsamples = 40\\nvalue = [0, 1, 39]'),\n",
       " Text(0.05263157894736842, 0.25, 'gini = 0.0\\nsamples = 39\\nvalue = [0, 0, 39]'),\n",
       " Text(0.15789473684210525, 0.25, 'gini = 0.0\\nsamples = 1\\nvalue = [0, 1, 0]'),\n",
       " Text(0.3157894736842105, 0.4166666666666667, 'X[0] <= 13.515\\ngini = 0.278\\nsamples = 6\\nvalue = [0, 5, 1]'),\n",
       " Text(0.2631578947368421, 0.25, 'gini = 0.0\\nsamples = 5\\nvalue = [0, 5, 0]'),\n",
       " Text(0.3684210526315789, 0.25, 'gini = 0.0\\nsamples = 1\\nvalue = [0, 0, 1]'),\n",
       " Text(0.47368421052631576, 0.5833333333333334, 'X[6] <= 0.795\\ngini = 0.117\\nsamples = 65\\nvalue = [2, 61, 2]'),\n",
       " Text(0.42105263157894735, 0.4166666666666667, 'gini = 0.0\\nsamples = 2\\nvalue = [0, 0, 2]'),\n",
       " Text(0.5263157894736842, 0.4166666666666667, 'X[0] <= 13.175\\ngini = 0.061\\nsamples = 63\\nvalue = [2, 61, 0]'),\n",
       " Text(0.47368421052631576, 0.25, 'gini = 0.0\\nsamples = 58\\nvalue = [0, 58, 0]'),\n",
       " Text(0.5789473684210527, 0.25, 'X[1] <= 2.125\\ngini = 0.48\\nsamples = 5\\nvalue = [2, 3, 0]'),\n",
       " Text(0.5263157894736842, 0.08333333333333333, 'gini = 0.0\\nsamples = 3\\nvalue = [0, 3, 0]'),\n",
       " Text(0.631578947368421, 0.08333333333333333, 'gini = 0.0\\nsamples = 2\\nvalue = [2, 0, 0]'),\n",
       " Text(0.7894736842105263, 0.75, 'X[6] <= 2.165\\ngini = 0.265\\nsamples = 67\\nvalue = [57, 4, 6]'),\n",
       " Text(0.6842105263157895, 0.5833333333333334, 'X[1] <= 2.085\\ngini = 0.375\\nsamples = 8\\nvalue = [0, 2, 6]'),\n",
       " Text(0.631578947368421, 0.4166666666666667, 'gini = 0.0\\nsamples = 2\\nvalue = [0, 2, 0]'),\n",
       " Text(0.7368421052631579, 0.4166666666666667, 'gini = 0.0\\nsamples = 6\\nvalue = [0, 0, 6]'),\n",
       " Text(0.8947368421052632, 0.5833333333333334, 'X[9] <= 3.435\\ngini = 0.065\\nsamples = 59\\nvalue = [57, 2, 0]'),\n",
       " Text(0.8421052631578947, 0.4166666666666667, 'gini = 0.0\\nsamples = 2\\nvalue = [0, 2, 0]'),\n",
       " Text(0.9473684210526315, 0.4166666666666667, 'gini = 0.0\\nsamples = 57\\nvalue = [57, 0, 0]')]"
      ]
     },
     "execution_count": 9,
     "metadata": {},
     "output_type": "execute_result"
    },
    {
     "data": {
      "image/png": "[encoded data removed]",
      "text/plain": [
       "<Figure size 864x720 with 1 Axes>"
      ]
     },
     "metadata": {
      "needs_background": "light"
     },
     "output_type": "display_data"
    }
   ],
   "source": [
    "from sklearn.tree import plot_tree\n",
    "fig, ax = plt.subplots(figsize=(12,10))\n",
    "plot_tree(decision_tree, ax=ax)"
   ]
  },
  {
   "cell_type": "code",
   "execution_count": 10,
   "metadata": {},
   "outputs": [
    {
     "data": {
      "text/plain": [
       "1.0"
      ]
     },
     "execution_count": 10,
     "metadata": {},
     "output_type": "execute_result"
    }
   ],
   "source": [
    "from sklearn.metrics import accuracy_score, precision_recall_fscore_support\n",
    "preds = decision_tree.predict(X_wine)\n",
    "score = accuracy_score(y_true=y_wine, y_pred=preds)\n",
    "score # overfit, obv"
   ]
  },
  {
   "cell_type": "code",
   "execution_count": 11,
   "metadata": {},
   "outputs": [],
   "source": [
    "# now divide in training and test\n",
    "from sklearn.model_selection import train_test_split\n",
    "\n",
    "np.random.seed(0) # set the seed\n",
    "\n",
    "X_train, X_test, y_train, y_test = train_test_split(X_wine, y_wine, test_size=.2)"
   ]
  },
  {
   "cell_type": "code",
   "execution_count": 12,
   "metadata": {},
   "outputs": [
    {
     "data": {
      "text/html": [
       "<div>\n",
       "<style scoped>\n",
       "    .dataframe tbody tr th:only-of-type {\n",
       "        vertical-align: middle;\n",
       "    }\n",
       "\n",
       "    .dataframe tbody tr th {\n",
       "        vertical-align: top;\n",
       "    }\n",
       "\n",
       "    .dataframe thead th {\n",
       "        text-align: right;\n",
       "    }\n",
       "</style>\n",
       "<table border=\"1\" class=\"dataframe\">\n",
       "  <thead>\n",
       "    <tr style=\"text-align: right;\">\n",
       "      <th></th>\n",
       "      <th>alcohol</th>\n",
       "      <th>malic_acid</th>\n",
       "      <th>ash</th>\n",
       "      <th>alcalinity_of_ash</th>\n",
       "      <th>magnesium</th>\n",
       "      <th>total_phenols</th>\n",
       "      <th>flavanoids</th>\n",
       "      <th>nonflavanoid_phenols</th>\n",
       "      <th>proanthocyanins</th>\n",
       "      <th>color_intensity</th>\n",
       "      <th>hue</th>\n",
       "      <th>od280/od315_of_diluted_wines</th>\n",
       "      <th>proline</th>\n",
       "    </tr>\n",
       "  </thead>\n",
       "  <tbody>\n",
       "    <tr>\n",
       "      <th>161</th>\n",
       "      <td>13.69</td>\n",
       "      <td>3.26</td>\n",
       "      <td>2.54</td>\n",
       "      <td>20.0</td>\n",
       "      <td>107.0</td>\n",
       "      <td>1.83</td>\n",
       "      <td>0.56</td>\n",
       "      <td>0.50</td>\n",
       "      <td>0.80</td>\n",
       "      <td>5.88</td>\n",
       "      <td>0.96</td>\n",
       "      <td>1.82</td>\n",
       "      <td>680.0</td>\n",
       "    </tr>\n",
       "    <tr>\n",
       "      <th>92</th>\n",
       "      <td>12.69</td>\n",
       "      <td>1.53</td>\n",
       "      <td>2.26</td>\n",
       "      <td>20.7</td>\n",
       "      <td>80.0</td>\n",
       "      <td>1.38</td>\n",
       "      <td>1.46</td>\n",
       "      <td>0.58</td>\n",
       "      <td>1.62</td>\n",
       "      <td>3.05</td>\n",
       "      <td>0.96</td>\n",
       "      <td>2.06</td>\n",
       "      <td>495.0</td>\n",
       "    </tr>\n",
       "    <tr>\n",
       "      <th>94</th>\n",
       "      <td>11.62</td>\n",
       "      <td>1.99</td>\n",
       "      <td>2.28</td>\n",
       "      <td>18.0</td>\n",
       "      <td>98.0</td>\n",
       "      <td>3.02</td>\n",
       "      <td>2.26</td>\n",
       "      <td>0.17</td>\n",
       "      <td>1.35</td>\n",
       "      <td>3.25</td>\n",
       "      <td>1.16</td>\n",
       "      <td>2.96</td>\n",
       "      <td>345.0</td>\n",
       "    </tr>\n",
       "    <tr>\n",
       "      <th>174</th>\n",
       "      <td>13.40</td>\n",
       "      <td>3.91</td>\n",
       "      <td>2.48</td>\n",
       "      <td>23.0</td>\n",
       "      <td>102.0</td>\n",
       "      <td>1.80</td>\n",
       "      <td>0.75</td>\n",
       "      <td>0.43</td>\n",
       "      <td>1.41</td>\n",
       "      <td>7.30</td>\n",
       "      <td>0.70</td>\n",
       "      <td>1.56</td>\n",
       "      <td>750.0</td>\n",
       "    </tr>\n",
       "    <tr>\n",
       "      <th>24</th>\n",
       "      <td>13.50</td>\n",
       "      <td>1.81</td>\n",
       "      <td>2.61</td>\n",
       "      <td>20.0</td>\n",
       "      <td>96.0</td>\n",
       "      <td>2.53</td>\n",
       "      <td>2.61</td>\n",
       "      <td>0.28</td>\n",
       "      <td>1.66</td>\n",
       "      <td>3.52</td>\n",
       "      <td>1.12</td>\n",
       "      <td>3.82</td>\n",
       "      <td>845.0</td>\n",
       "    </tr>\n",
       "    <tr>\n",
       "      <th>...</th>\n",
       "      <td>...</td>\n",
       "      <td>...</td>\n",
       "      <td>...</td>\n",
       "      <td>...</td>\n",
       "      <td>...</td>\n",
       "      <td>...</td>\n",
       "      <td>...</td>\n",
       "      <td>...</td>\n",
       "      <td>...</td>\n",
       "      <td>...</td>\n",
       "      <td>...</td>\n",
       "      <td>...</td>\n",
       "      <td>...</td>\n",
       "    </tr>\n",
       "    <tr>\n",
       "      <th>103</th>\n",
       "      <td>11.82</td>\n",
       "      <td>1.72</td>\n",
       "      <td>1.88</td>\n",
       "      <td>19.5</td>\n",
       "      <td>86.0</td>\n",
       "      <td>2.50</td>\n",
       "      <td>1.64</td>\n",
       "      <td>0.37</td>\n",
       "      <td>1.42</td>\n",
       "      <td>2.06</td>\n",
       "      <td>0.94</td>\n",
       "      <td>2.44</td>\n",
       "      <td>415.0</td>\n",
       "    </tr>\n",
       "    <tr>\n",
       "      <th>67</th>\n",
       "      <td>12.37</td>\n",
       "      <td>1.17</td>\n",
       "      <td>1.92</td>\n",
       "      <td>19.6</td>\n",
       "      <td>78.0</td>\n",
       "      <td>2.11</td>\n",
       "      <td>2.00</td>\n",
       "      <td>0.27</td>\n",
       "      <td>1.04</td>\n",
       "      <td>4.68</td>\n",
       "      <td>1.12</td>\n",
       "      <td>3.48</td>\n",
       "      <td>510.0</td>\n",
       "    </tr>\n",
       "    <tr>\n",
       "      <th>117</th>\n",
       "      <td>12.42</td>\n",
       "      <td>1.61</td>\n",
       "      <td>2.19</td>\n",
       "      <td>22.5</td>\n",
       "      <td>108.0</td>\n",
       "      <td>2.00</td>\n",
       "      <td>2.09</td>\n",
       "      <td>0.34</td>\n",
       "      <td>1.61</td>\n",
       "      <td>2.06</td>\n",
       "      <td>1.06</td>\n",
       "      <td>2.96</td>\n",
       "      <td>345.0</td>\n",
       "    </tr>\n",
       "    <tr>\n",
       "      <th>47</th>\n",
       "      <td>13.90</td>\n",
       "      <td>1.68</td>\n",
       "      <td>2.12</td>\n",
       "      <td>16.0</td>\n",
       "      <td>101.0</td>\n",
       "      <td>3.10</td>\n",
       "      <td>3.39</td>\n",
       "      <td>0.21</td>\n",
       "      <td>2.14</td>\n",
       "      <td>6.10</td>\n",
       "      <td>0.91</td>\n",
       "      <td>3.33</td>\n",
       "      <td>985.0</td>\n",
       "    </tr>\n",
       "    <tr>\n",
       "      <th>172</th>\n",
       "      <td>14.16</td>\n",
       "      <td>2.51</td>\n",
       "      <td>2.48</td>\n",
       "      <td>20.0</td>\n",
       "      <td>91.0</td>\n",
       "      <td>1.68</td>\n",
       "      <td>0.70</td>\n",
       "      <td>0.44</td>\n",
       "      <td>1.24</td>\n",
       "      <td>9.70</td>\n",
       "      <td>0.62</td>\n",
       "      <td>1.71</td>\n",
       "      <td>660.0</td>\n",
       "    </tr>\n",
       "  </tbody>\n",
       "</table>\n",
       "<p>142 rows × 13 columns</p>\n",
       "</div>"
      ],
      "text/plain": [
       "     alcohol  malic_acid   ash  alcalinity_of_ash  magnesium  total_phenols  \\\n",
       "161    13.69        3.26  2.54               20.0      107.0           1.83   \n",
       "92     12.69        1.53  2.26               20.7       80.0           1.38   \n",
       "94     11.62        1.99  2.28               18.0       98.0           3.02   \n",
       "174    13.40        3.91  2.48               23.0      102.0           1.80   \n",
       "24     13.50        1.81  2.61               20.0       96.0           2.53   \n",
       "..       ...         ...   ...                ...        ...            ...   \n",
       "103    11.82        1.72  1.88               19.5       86.0           2.50   \n",
       "67     12.37        1.17  1.92               19.6       78.0           2.11   \n",
       "117    12.42        1.61  2.19               22.5      108.0           2.00   \n",
       "47     13.90        1.68  2.12               16.0      101.0           3.10   \n",
       "172    14.16        2.51  2.48               20.0       91.0           1.68   \n",
       "\n",
       "     flavanoids  nonflavanoid_phenols  proanthocyanins  color_intensity   hue  \\\n",
       "161        0.56                  0.50             0.80             5.88  0.96   \n",
       "92         1.46                  0.58             1.62             3.05  0.96   \n",
       "94         2.26                  0.17             1.35             3.25  1.16   \n",
       "174        0.75                  0.43             1.41             7.30  0.70   \n",
       "24         2.61                  0.28             1.66             3.52  1.12   \n",
       "..          ...                   ...              ...              ...   ...   \n",
       "103        1.64                  0.37             1.42             2.06  0.94   \n",
       "67         2.00                  0.27             1.04             4.68  1.12   \n",
       "117        2.09                  0.34             1.61             2.06  1.06   \n",
       "47         3.39                  0.21             2.14             6.10  0.91   \n",
       "172        0.70                  0.44             1.24             9.70  0.62   \n",
       "\n",
       "     od280/od315_of_diluted_wines  proline  \n",
       "161                          1.82    680.0  \n",
       "92                           2.06    495.0  \n",
       "94                           2.96    345.0  \n",
       "174                          1.56    750.0  \n",
       "24                           3.82    845.0  \n",
       "..                            ...      ...  \n",
       "103                          2.44    415.0  \n",
       "67                           3.48    510.0  \n",
       "117                          2.96    345.0  \n",
       "47                           3.33    985.0  \n",
       "172                          1.71    660.0  \n",
       "\n",
       "[142 rows x 13 columns]"
      ]
     },
     "execution_count": 12,
     "metadata": {},
     "output_type": "execute_result"
    }
   ],
   "source": [
    "X_train"
   ]
  },
  {
   "cell_type": "code",
   "execution_count": 13,
   "metadata": {},
   "outputs": [
    {
     "data": {
      "text/plain": [
       "161    2\n",
       "92     1\n",
       "94     1\n",
       "174    2\n",
       "24     0\n",
       "      ..\n",
       "103    1\n",
       "67     1\n",
       "117    1\n",
       "47     0\n",
       "172    2\n",
       "Name: target, Length: 142, dtype: int64"
      ]
     },
     "execution_count": 13,
     "metadata": {},
     "output_type": "execute_result"
    }
   ],
   "source": [
    "y_train"
   ]
  },
  {
   "cell_type": "code",
   "execution_count": 14,
   "metadata": {},
   "outputs": [
    {
     "name": "stdout",
     "output_type": "stream",
     "text": [
      "PRECISION\n",
      "class0\tclass1\tclass2\n",
      "0.93\t1.0\t1.0\n",
      "\n",
      "\n",
      "RECALL\n",
      "class0\tclass1\tclass2\n",
      "1.00\t0.9375\t1.0\n",
      "\n",
      "\n",
      "F1\n",
      "class0\tclass1\tclass2\n",
      "0.97\t0.967741935483871\t1.0\n",
      "\n",
      "\n",
      "SUPPORT\n",
      "class0\tclass1\tclass2\n",
      "14.00\t16\t6\n",
      "\n",
      "\n"
     ]
    }
   ],
   "source": [
    "decision_tree = DecisionTreeClassifier().fit(X_train, y_train)\n",
    "preds = decision_tree.predict(X_test)\n",
    "score_labels = ['precision', 'recall', 'f1', 'support'] \n",
    "scores = precision_recall_fscore_support(y_true=y_test, y_pred=preds)\n",
    "for label,score in zip(score_labels, scores):\n",
    "    print(str(label).upper())\n",
    "    print('class0\\tclass1\\tclass2')\n",
    "    print(f\"{score[0]:.2f}\\t{score[1]}\\t{score[2]}\")\n",
    "    print(\"\\n\")"
   ]
  },
  {
   "cell_type": "code",
   "execution_count": 15,
   "metadata": {},
   "outputs": [],
   "source": [
    "# gridsearch\n",
    "from sklearn.model_selection import ParameterGrid\n",
    "\n",
    "parameters = {\n",
    "    'criterion': ['gini', 'entropy'],\n",
    "    'max_depth': [None, 3, 5],\n",
    "    'splitter': ['best', 'random'], \n",
    "    'min_samples_leaf': [1,3,5]\n",
    "}\n",
    "clfs_accuracy = []\n",
    "for configuration in ParameterGrid(parameters):\n",
    "    clf = DecisionTreeClassifier(**configuration).fit(X_train, y_train)\n",
    "    pred = clf.predict(X_test)\n",
    "    accuracy = accuracy_score(y_test, pred)\n",
    "    clfs_accuracy.append((configuration, accuracy))"
   ]
  },
  {
   "cell_type": "code",
   "execution_count": 16,
   "metadata": {},
   "outputs": [
    {
     "name": "stdout",
     "output_type": "stream",
     "text": [
      "({'criterion': 'gini', 'max_depth': None, 'min_samples_leaf': 1, 'splitter': 'best'}, 0.9722222222222222)\n",
      "({'criterion': 'gini', 'max_depth': None, 'min_samples_leaf': 1, 'splitter': 'random'}, 0.9722222222222222)\n",
      "({'criterion': 'gini', 'max_depth': None, 'min_samples_leaf': 3, 'splitter': 'best'}, 0.9722222222222222)\n",
      "({'criterion': 'gini', 'max_depth': None, 'min_samples_leaf': 3, 'splitter': 'random'}, 0.9722222222222222)\n",
      "({'criterion': 'gini', 'max_depth': 3, 'min_samples_leaf': 1, 'splitter': 'best'}, 0.9722222222222222)\n",
      "({'criterion': 'gini', 'max_depth': 3, 'min_samples_leaf': 3, 'splitter': 'best'}, 0.9722222222222222)\n",
      "({'criterion': 'gini', 'max_depth': 5, 'min_samples_leaf': 1, 'splitter': 'best'}, 0.9722222222222222)\n",
      "({'criterion': 'gini', 'max_depth': 5, 'min_samples_leaf': 3, 'splitter': 'best'}, 0.9722222222222222)\n"
     ]
    }
   ],
   "source": [
    "scores = [i[-1] for i in clfs_accuracy]\n",
    "indexes = np.argwhere(np.array(scores) == max(scores)).squeeze()\n",
    "for idx in indexes:\n",
    "    print(clfs_accuracy[idx])"
   ]
  },
  {
   "cell_type": "code",
   "execution_count": 17,
   "metadata": {},
   "outputs": [],
   "source": [
    "# cross validation\n",
    "from sklearn.model_selection import KFold\n",
    "\n",
    "# Split the datasets into two:\n",
    "# - X_train_valid: the dataset used for the k-fold cross-validation\n",
    "# - X_test: the dataset used for the final testing (this will NOT\n",
    "# be seen by the classifier during the training/validation phases)\n",
    "X_train_valid, X_test, y_train_valid, y_test = train_test_split(X_wine, y_wine, test_size=.2)\n",
    "kf = KFold(5) # 5-fold cross-validation\n",
    "scores = []\n",
    "# X and y are the arrays to be split\n",
    "for train_indices, validation_indices in kf.split(X_train_valid):\n",
    "    #print(train_indices)\n",
    "    X_train = X_train_valid.iloc[train_indices]\n",
    "    X_valid = X_train_valid.iloc[validation_indices]\n",
    "    y_train = y_train_valid.iloc[train_indices]\n",
    "    y_valid = y_train_valid.iloc[validation_indices]\n",
    "    clf = DecisionTreeClassifier(criterion ='gini', max_depth= None, min_samples_leaf= 1, splitter='best').fit(X_train, y_train)\n",
    "    pred = clf.predict(X_valid)\n",
    "    score = accuracy_score(y_true=y_valid, y_pred=pred)\n",
    "    scores.append(score)\n",
    "    "
   ]
  },
  {
   "cell_type": "code",
   "execution_count": 18,
   "metadata": {},
   "outputs": [],
   "source": [
    "clfs_accuracy = []\n",
    "clfs = []\n",
    "X_train_valid, X_test, y_train_valid, y_test = train_test_split(X_wine, y_wine, test_size=.2)\n",
    "for configuration in ParameterGrid(parameters):\n",
    "    kf = KFold(5) # 5-fold cross-validation\n",
    "    scores = []\n",
    "    counts = [] # take into account how many training points we have in each fold\n",
    "    # X and y are the arrays to be split\n",
    "    for train_indices, validation_indices in kf.split(X_train_valid):\n",
    "        counts.append(len(train_indices))\n",
    "        \n",
    "        X_train = X_train_valid.iloc[train_indices]\n",
    "        X_valid = X_train_valid.iloc[validation_indices]\n",
    "        y_train = y_train_valid.iloc[train_indices]\n",
    "        y_valid = y_train_valid.iloc[validation_indices]\n",
    "        \n",
    "        clf = DecisionTreeClassifier(**configuration).fit(X_train, y_train)\n",
    "        clfs.append(clf)\n",
    "        pred = clf.predict(X_valid)\n",
    "        score = accuracy_score(y_true=y_valid, y_pred=pred)\n",
    "        scores.append(score)\n",
    "    # clfs_accuracy.append((configuration, np.mean(scores))) wrong mean, we need the average and taking into account the count, hence we weight accuracies\n",
    "    clfs_accuracy.append((configuration, np.average(scores, weights=counts)))"
   ]
  },
  {
   "cell_type": "code",
   "execution_count": 19,
   "metadata": {},
   "outputs": [
    {
     "data": {
      "text/plain": [
       "array([[0]])"
      ]
     },
     "execution_count": 19,
     "metadata": {},
     "output_type": "execute_result"
    }
   ],
   "source": [
    "max(scores)\n",
    "np.argwhere(np.array(scores) == max(scores))"
   ]
  },
  {
   "cell_type": "code",
   "execution_count": 20,
   "metadata": {},
   "outputs": [
    {
     "name": "stdout",
     "output_type": "stream",
     "text": [
      "35 ({'criterion': 'entropy', 'max_depth': 5, 'min_samples_leaf': 5, 'splitter': 'random'}, 0.9504397072087699)\n"
     ]
    }
   ],
   "source": [
    "scores = [i[1] for i in clfs_accuracy]\n",
    "indexes = np.argwhere(np.array(scores) == max(scores)).reshape((1,)) # it infers the column size\n",
    "for idx in indexes:\n",
    "    print(idx, clfs_accuracy[idx])"
   ]
  },
  {
   "cell_type": "code",
   "execution_count": 21,
   "metadata": {},
   "outputs": [
    {
     "data": {
      "text/plain": [
       "0.8611111111111112"
      ]
     },
     "execution_count": 21,
     "metadata": {},
     "output_type": "execute_result"
    }
   ],
   "source": [
    "pred = clfs[indexes[0]].predict(X_test)\n",
    "final_score = accuracy_score(y_test, pred)\n",
    "final_score"
   ]
  },
  {
   "cell_type": "code",
   "execution_count": 22,
   "metadata": {},
   "outputs": [
    {
     "data": {
      "text/plain": [
       "[Text(0.4230769230769231, 0.875, 'X[0] <= 12.904\\ngini = 0.652\\nsamples = 113\\nvalue = [36, 48, 29]'),\n",
       " Text(0.15384615384615385, 0.625, 'X[11] <= 1.636\\ngini = 0.334\\nsamples = 52\\nvalue = [0, 41, 11]'),\n",
       " Text(0.07692307692307693, 0.375, 'gini = 0.0\\nsamples = 6\\nvalue = [0, 0, 6]'),\n",
       " Text(0.23076923076923078, 0.375, 'X[11] <= 2.649\\ngini = 0.194\\nsamples = 46\\nvalue = [0, 41, 5]'),\n",
       " Text(0.15384615384615385, 0.125, 'gini = 0.43\\nsamples = 16\\nvalue = [0, 11, 5]'),\n",
       " Text(0.3076923076923077, 0.125, 'gini = 0.0\\nsamples = 30\\nvalue = [0, 30, 0]'),\n",
       " Text(0.6923076923076923, 0.625, 'X[6] <= 2.022\\ngini = 0.551\\nsamples = 61\\nvalue = [36, 7, 18]'),\n",
       " Text(0.5384615384615384, 0.375, 'X[6] <= 1.247\\ngini = 0.245\\nsamples = 21\\nvalue = [0, 3, 18]'),\n",
       " Text(0.46153846153846156, 0.125, 'gini = 0.0\\nsamples = 16\\nvalue = [0, 0, 16]'),\n",
       " Text(0.6153846153846154, 0.125, 'gini = 0.48\\nsamples = 5\\nvalue = [0, 3, 2]'),\n",
       " Text(0.8461538461538461, 0.375, 'X[12] <= 423.36\\ngini = 0.18\\nsamples = 40\\nvalue = [36, 4, 0]'),\n",
       " Text(0.7692307692307693, 0.125, 'gini = 0.0\\nsamples = 2\\nvalue = [0, 2, 0]'),\n",
       " Text(0.9230769230769231, 0.125, 'gini = 0.1\\nsamples = 38\\nvalue = [36, 2, 0]')]"
      ]
     },
     "execution_count": 22,
     "metadata": {},
     "output_type": "execute_result"
    },
    {
     "data": {
      "image/png": "[encoded data removed]",
      "text/plain": [
       "<Figure size 864x720 with 1 Axes>"
      ]
     },
     "metadata": {
      "needs_background": "light"
     },
     "output_type": "display_data"
    }
   ],
   "source": [
    "fig, ax = plt.subplots(figsize=(12,10))\n",
    "plot_tree(clfs[indexes[0]], ax=ax)"
   ]
  },
  {
   "cell_type": "code",
   "execution_count": 23,
   "metadata": {},
   "outputs": [
    {
     "data": {
      "text/plain": [
       "array([ 0, 11, -2, 11, -2, -2,  6,  6, -2, -2, 12, -2, -2], dtype=int64)"
      ]
     },
     "execution_count": 23,
     "metadata": {},
     "output_type": "execute_result"
    }
   ],
   "source": [
    "#  a list of the features used at each node. A value of -2 indicates a leaf node (where no split occurs)\n",
    "clfs[indexes[0]].tree_.feature "
   ]
  },
  {
   "cell_type": "code",
   "execution_count": 24,
   "metadata": {},
   "outputs": [
    {
     "data": {
      "text/plain": [
       "array([[[36., 48., 29.]],\n",
       "\n",
       "       [[ 0., 41., 11.]],\n",
       "\n",
       "       [[ 0.,  0.,  6.]],\n",
       "\n",
       "       [[ 0., 41.,  5.]],\n",
       "\n",
       "       [[ 0., 11.,  5.]],\n",
       "\n",
       "       [[ 0., 30.,  0.]],\n",
       "\n",
       "       [[36.,  7., 18.]],\n",
       "\n",
       "       [[ 0.,  3., 18.]],\n",
       "\n",
       "       [[ 0.,  0., 16.]],\n",
       "\n",
       "       [[ 0.,  3.,  2.]],\n",
       "\n",
       "       [[36.,  4.,  0.]],\n",
       "\n",
       "       [[ 0.,  2.,  0.]],\n",
       "\n",
       "       [[36.,  2.,  0.]]])"
      ]
     },
     "execution_count": 24,
     "metadata": {},
     "output_type": "execute_result"
    }
   ],
   "source": [
    "#  a list of cardinalities of the classes for each node.\n",
    "clfs[indexes[0]].tree_.value"
   ]
  },
  {
   "cell_type": "code",
   "execution_count": 25,
   "metadata": {},
   "outputs": [
    {
     "data": {
      "text/plain": [
       "array([0.65220456, 0.33357988, 0.        , 0.19376181, 0.4296875 ,\n",
       "       0.        , 0.55146466, 0.24489796, 0.        , 0.48      ,\n",
       "       0.18      , 0.        , 0.09972299])"
      ]
     },
     "execution_count": 25,
     "metadata": {},
     "output_type": "execute_result"
    }
   ],
   "source": [
    "# a list of impurity decreases for each node. \n",
    "clfs[indexes[0]].tree_.impurity"
   ]
  },
  {
   "cell_type": "code",
   "execution_count": 26,
   "metadata": {},
   "outputs": [
    {
     "data": {
      "text/plain": [
       "array([0.37459803, 0.        , 0.        , 0.        , 0.        ,\n",
       "       0.        , 0.39646222, 0.        , 0.        , 0.        ,\n",
       "       0.        , 0.1726926 , 0.05624716])"
      ]
     },
     "execution_count": 26,
     "metadata": {},
     "output_type": "execute_result"
    }
   ],
   "source": [
    "clfs[indexes[0]].feature_importances_ #12 features"
   ]
  },
  {
   "cell_type": "markdown",
   "metadata": {},
   "source": [
    "# 2.2 Synthetic dataset"
   ]
  },
  {
   "cell_type": "code",
   "execution_count": 29,
   "metadata": {},
   "outputs": [
    {
     "name": "stdout",
     "output_type": "stream",
     "text": [
      "<class 'pandas.core.frame.DataFrame'>\n",
      "RangeIndex: 500 entries, 0 to 499\n",
      "Data columns (total 3 columns):\n",
      " #   Column  Non-Null Count  Dtype  \n",
      "---  ------  --------------  -----  \n",
      " 0   x0      500 non-null    float64\n",
      " 1   x1      500 non-null    float64\n",
      " 2   label   500 non-null    int64  \n",
      "dtypes: float64(2), int64(1)\n",
      "memory usage: 11.8 KB\n"
     ]
    }
   ],
   "source": [
    "synth_df = pd.read_csv('synthetic_dataset.csv')\n",
    "synth_df.info()"
   ]
  },
  {
   "cell_type": "code",
   "execution_count": 30,
   "metadata": {},
   "outputs": [
    {
     "data": {
      "text/html": [
       "<div>\n",
       "<style scoped>\n",
       "    .dataframe tbody tr th:only-of-type {\n",
       "        vertical-align: middle;\n",
       "    }\n",
       "\n",
       "    .dataframe tbody tr th {\n",
       "        vertical-align: top;\n",
       "    }\n",
       "\n",
       "    .dataframe thead th {\n",
       "        text-align: right;\n",
       "    }\n",
       "</style>\n",
       "<table border=\"1\" class=\"dataframe\">\n",
       "  <thead>\n",
       "    <tr style=\"text-align: right;\">\n",
       "      <th></th>\n",
       "      <th>x0</th>\n",
       "      <th>x1</th>\n",
       "      <th>label</th>\n",
       "    </tr>\n",
       "  </thead>\n",
       "  <tbody>\n",
       "    <tr>\n",
       "      <th>count</th>\n",
       "      <td>500.000000</td>\n",
       "      <td>500.000000</td>\n",
       "      <td>500.000000</td>\n",
       "    </tr>\n",
       "    <tr>\n",
       "      <th>mean</th>\n",
       "      <td>4.957837</td>\n",
       "      <td>5.064415</td>\n",
       "      <td>0.482000</td>\n",
       "    </tr>\n",
       "    <tr>\n",
       "      <th>std</th>\n",
       "      <td>2.916317</td>\n",
       "      <td>2.886626</td>\n",
       "      <td>0.500176</td>\n",
       "    </tr>\n",
       "    <tr>\n",
       "      <th>min</th>\n",
       "      <td>0.005344</td>\n",
       "      <td>0.033540</td>\n",
       "      <td>0.000000</td>\n",
       "    </tr>\n",
       "    <tr>\n",
       "      <th>25%</th>\n",
       "      <td>2.428726</td>\n",
       "      <td>2.520099</td>\n",
       "      <td>0.000000</td>\n",
       "    </tr>\n",
       "    <tr>\n",
       "      <th>50%</th>\n",
       "      <td>5.061141</td>\n",
       "      <td>5.121368</td>\n",
       "      <td>0.000000</td>\n",
       "    </tr>\n",
       "    <tr>\n",
       "      <th>75%</th>\n",
       "      <td>7.450706</td>\n",
       "      <td>7.486265</td>\n",
       "      <td>1.000000</td>\n",
       "    </tr>\n",
       "    <tr>\n",
       "      <th>max</th>\n",
       "      <td>9.950974</td>\n",
       "      <td>9.988671</td>\n",
       "      <td>1.000000</td>\n",
       "    </tr>\n",
       "  </tbody>\n",
       "</table>\n",
       "</div>"
      ],
      "text/plain": [
       "               x0          x1       label\n",
       "count  500.000000  500.000000  500.000000\n",
       "mean     4.957837    5.064415    0.482000\n",
       "std      2.916317    2.886626    0.500176\n",
       "min      0.005344    0.033540    0.000000\n",
       "25%      2.428726    2.520099    0.000000\n",
       "50%      5.061141    5.121368    0.000000\n",
       "75%      7.450706    7.486265    1.000000\n",
       "max      9.950974    9.988671    1.000000"
      ]
     },
     "execution_count": 30,
     "metadata": {},
     "output_type": "execute_result"
    }
   ],
   "source": [
    "synth_df.describe()"
   ]
  },
  {
   "cell_type": "code",
   "execution_count": 36,
   "metadata": {},
   "outputs": [
    {
     "name": "stdout",
     "output_type": "stream",
     "text": [
      "number of items labeled as 0: 259\t|\t51.80%\n",
      "number of items labeled as 1: 241\t|\t48.20%\n"
     ]
    }
   ],
   "source": [
    "labels = synth_df.label.unique()\n",
    "for label in labels:\n",
    "    num = synth_df.label.isin([label]).sum()\n",
    "    perc = num/len(synth_df)*100\n",
    "    print(f'number of items labeled as {label}: {num}\\t|\\t{perc:.2f}%')\n",
    "    \n"
   ]
  },
  {
   "cell_type": "code",
   "execution_count": 53,
   "metadata": {},
   "outputs": [
    {
     "data": {
      "text/plain": [
       "0"
      ]
     },
     "execution_count": 53,
     "metadata": {},
     "output_type": "execute_result"
    }
   ],
   "source": [
    "mask_0 = synth_df.label.isin([0])\n",
    "synth_df.loc[mask_0].label.sum()"
   ]
  },
  {
   "cell_type": "code",
   "execution_count": 57,
   "metadata": {},
   "outputs": [
    {
     "data": {
      "text/plain": [
       "<matplotlib.legend.Legend at 0x1abfeabf0>"
      ]
     },
     "execution_count": 57,
     "metadata": {},
     "output_type": "execute_result"
    },
    {
     "data": {
      "image/png": "[encoded data removed]",
      "text/plain": [
       "<Figure size 864x720 with 1 Axes>"
      ]
     },
     "metadata": {
      "needs_background": "light"
     },
     "output_type": "display_data"
    }
   ],
   "source": [
    "mask_0 = synth_df.label.isin([0])\n",
    "mask_1 = synth_df.label.isin([1])\n",
    "\n",
    "fig, ax = plt.subplots(figsize=(12,10))\n",
    "ax.scatter(synth_df.loc[mask_0].x0, synth_df.loc[mask_0].x1, c='tab:red', label='label:0')\n",
    "ax.scatter(synth_df.loc[mask_1].x0, synth_df.loc[mask_1].x1, c='tab:blue', label='label:1')\n",
    "ax.set_xlabel('x_0')\n",
    "ax.set_ylabel('x_1')\n",
    "ax.legend()"
   ]
  },
  {
   "cell_type": "code",
   "execution_count": 88,
   "metadata": {},
   "outputs": [
    {
     "data": {
      "text/plain": [
       "[Text(0.5984848484848485, 0.9375, 'X[0] <= 5.409\\ngini = 0.499\\nsamples = 500\\nvalue = [259, 241]'),\n",
       " Text(0.3181818181818182, 0.8125, 'X[1] <= 6.674\\ngini = 0.378\\nsamples = 265\\nvalue = [67, 198]'),\n",
       " Text(0.12121212121212122, 0.6875, 'X[1] <= 5.518\\ngini = 0.097\\nsamples = 176\\nvalue = [9, 167]'),\n",
       " Text(0.06060606060606061, 0.5625, 'X[0] <= 5.076\\ngini = 0.013\\nsamples = 148\\nvalue = [1, 147]'),\n",
       " Text(0.030303030303030304, 0.4375, 'gini = 0.0\\nsamples = 136\\nvalue = [0, 136]'),\n",
       " Text(0.09090909090909091, 0.4375, 'X[0] <= 5.084\\ngini = 0.153\\nsamples = 12\\nvalue = [1, 11]'),\n",
       " Text(0.06060606060606061, 0.3125, 'gini = 0.0\\nsamples = 1\\nvalue = [1, 0]'),\n",
       " Text(0.12121212121212122, 0.3125, 'gini = 0.0\\nsamples = 11\\nvalue = [0, 11]'),\n",
       " Text(0.18181818181818182, 0.5625, 'X[0] <= 3.577\\ngini = 0.408\\nsamples = 28\\nvalue = [8, 20]'),\n",
       " Text(0.15151515151515152, 0.4375, 'gini = 0.0\\nsamples = 20\\nvalue = [0, 20]'),\n",
       " Text(0.21212121212121213, 0.4375, 'gini = 0.0\\nsamples = 8\\nvalue = [8, 0]'),\n",
       " Text(0.5151515151515151, 0.6875, 'X[0] <= 1.58\\ngini = 0.454\\nsamples = 89\\nvalue = [58, 31]'),\n",
       " Text(0.36363636363636365, 0.5625, 'X[1] <= 9.018\\ngini = 0.346\\nsamples = 27\\nvalue = [6, 21]'),\n",
       " Text(0.2727272727272727, 0.4375, 'X[0] <= 1.431\\ngini = 0.091\\nsamples = 21\\nvalue = [1, 20]'),\n",
       " Text(0.24242424242424243, 0.3125, 'gini = 0.0\\nsamples = 18\\nvalue = [0, 18]'),\n",
       " Text(0.30303030303030304, 0.3125, 'X[1] <= 8.309\\ngini = 0.444\\nsamples = 3\\nvalue = [1, 2]'),\n",
       " Text(0.2727272727272727, 0.1875, 'gini = 0.0\\nsamples = 2\\nvalue = [0, 2]'),\n",
       " Text(0.3333333333333333, 0.1875, 'gini = 0.0\\nsamples = 1\\nvalue = [1, 0]'),\n",
       " Text(0.45454545454545453, 0.4375, 'X[0] <= 0.416\\ngini = 0.278\\nsamples = 6\\nvalue = [5, 1]'),\n",
       " Text(0.42424242424242425, 0.3125, 'X[1] <= 9.578\\ngini = 0.5\\nsamples = 2\\nvalue = [1, 1]'),\n",
       " Text(0.3939393939393939, 0.1875, 'gini = 0.0\\nsamples = 1\\nvalue = [0, 1]'),\n",
       " Text(0.45454545454545453, 0.1875, 'gini = 0.0\\nsamples = 1\\nvalue = [1, 0]'),\n",
       " Text(0.48484848484848486, 0.3125, 'gini = 0.0\\nsamples = 4\\nvalue = [4, 0]'),\n",
       " Text(0.6666666666666666, 0.5625, 'X[0] <= 2.966\\ngini = 0.271\\nsamples = 62\\nvalue = [52, 10]'),\n",
       " Text(0.6363636363636364, 0.4375, 'X[1] <= 7.626\\ngini = 0.437\\nsamples = 31\\nvalue = [21, 10]'),\n",
       " Text(0.5454545454545454, 0.3125, 'X[0] <= 2.861\\ngini = 0.198\\nsamples = 9\\nvalue = [1, 8]'),\n",
       " Text(0.5151515151515151, 0.1875, 'gini = 0.0\\nsamples = 7\\nvalue = [0, 7]'),\n",
       " Text(0.5757575757575758, 0.1875, 'X[1] <= 7.093\\ngini = 0.5\\nsamples = 2\\nvalue = [1, 1]'),\n",
       " Text(0.5454545454545454, 0.0625, 'gini = 0.0\\nsamples = 1\\nvalue = [0, 1]'),\n",
       " Text(0.6060606060606061, 0.0625, 'gini = 0.0\\nsamples = 1\\nvalue = [1, 0]'),\n",
       " Text(0.7272727272727273, 0.3125, 'X[1] <= 8.284\\ngini = 0.165\\nsamples = 22\\nvalue = [20, 2]'),\n",
       " Text(0.696969696969697, 0.1875, 'X[0] <= 1.989\\ngini = 0.408\\nsamples = 7\\nvalue = [5, 2]'),\n",
       " Text(0.6666666666666666, 0.0625, 'gini = 0.0\\nsamples = 2\\nvalue = [0, 2]'),\n",
       " Text(0.7272727272727273, 0.0625, 'gini = 0.0\\nsamples = 5\\nvalue = [5, 0]'),\n",
       " Text(0.7575757575757576, 0.1875, 'gini = 0.0\\nsamples = 15\\nvalue = [15, 0]'),\n",
       " Text(0.696969696969697, 0.4375, 'gini = 0.0\\nsamples = 31\\nvalue = [31, 0]'),\n",
       " Text(0.8787878787878788, 0.8125, 'X[1] <= 3.262\\ngini = 0.299\\nsamples = 235\\nvalue = [192, 43]'),\n",
       " Text(0.8181818181818182, 0.6875, 'X[0] <= 8.521\\ngini = 0.471\\nsamples = 66\\nvalue = [25, 41]'),\n",
       " Text(0.7878787878787878, 0.5625, 'X[1] <= 2.291\\ngini = 0.127\\nsamples = 44\\nvalue = [3, 41]'),\n",
       " Text(0.7575757575757576, 0.4375, 'gini = 0.0\\nsamples = 34\\nvalue = [0, 34]'),\n",
       " Text(0.8181818181818182, 0.4375, 'X[0] <= 7.311\\ngini = 0.42\\nsamples = 10\\nvalue = [3, 7]'),\n",
       " Text(0.7878787878787878, 0.3125, 'gini = 0.0\\nsamples = 7\\nvalue = [0, 7]'),\n",
       " Text(0.8484848484848485, 0.3125, 'gini = 0.0\\nsamples = 3\\nvalue = [3, 0]'),\n",
       " Text(0.8484848484848485, 0.5625, 'gini = 0.0\\nsamples = 22\\nvalue = [22, 0]'),\n",
       " Text(0.9393939393939394, 0.6875, 'X[1] <= 3.948\\ngini = 0.023\\nsamples = 169\\nvalue = [167, 2]'),\n",
       " Text(0.9090909090909091, 0.5625, 'X[0] <= 6.162\\ngini = 0.219\\nsamples = 16\\nvalue = [14, 2]'),\n",
       " Text(0.8787878787878788, 0.4375, 'gini = 0.0\\nsamples = 2\\nvalue = [0, 2]'),\n",
       " Text(0.9393939393939394, 0.4375, 'gini = 0.0\\nsamples = 14\\nvalue = [14, 0]'),\n",
       " Text(0.9696969696969697, 0.5625, 'gini = 0.0\\nsamples = 153\\nvalue = [153, 0]')]"
      ]
     },
     "execution_count": 88,
     "metadata": {},
     "output_type": "execute_result"
    },
    {
     "data": {
      "image/png": "[encoded data removed]",
      "text/plain": [
       "<Figure size 864x720 with 1 Axes>"
      ]
     },
     "metadata": {
      "needs_background": "light"
     },
     "output_type": "display_data"
    }
   ],
   "source": [
    "X = synth_df[['x0','x1']]\n",
    "y = synth_df['label']\n",
    "clf = DecisionTreeClassifier().fit(X,y)\n",
    "fig, ax = plt.subplots(figsize=(12,10))\n",
    "plot_tree(clf, ax=ax)"
   ]
  },
  {
   "cell_type": "markdown",
   "metadata": {},
   "source": [
    "Decision trees can only take decision 'perpendicular' to axes (like x1<5), but since the line is not perpendicular, it cannot separate well."
   ]
  },
  {
   "cell_type": "code",
   "execution_count": 89,
   "metadata": {},
   "outputs": [
    {
     "data": {
      "text/plain": [
       "[Text(0.5, 0.75, 'X[0] <= 10.033\\ngini = 0.499\\nsamples = 500\\nvalue = [259, 241]'),\n",
       " Text(0.25, 0.25, 'gini = 0.0\\nsamples = 241\\nvalue = [0, 241]'),\n",
       " Text(0.75, 0.25, 'gini = 0.0\\nsamples = 259\\nvalue = [259, 0]')]"
      ]
     },
     "execution_count": 89,
     "metadata": {},
     "output_type": "execute_result"
    },
    {
     "data": {
      "image/png": "[encoded data removed]",
      "text/plain": [
       "<Figure size 432x288 with 1 Axes>"
      ]
     },
     "metadata": {
      "needs_background": "light"
     },
     "output_type": "display_data"
    }
   ],
   "source": [
    "X_ = (X['x0'] + X['x1']).values.reshape(-1,1) #-1 to infer first dimension (number of rows)\n",
    "clf_ = DecisionTreeClassifier().fit(X_, y)\n",
    "fig,ax = plt.subplots()\n",
    "plot_tree(clf_, ax=ax)"
   ]
  },
  {
   "cell_type": "code",
   "execution_count": 90,
   "metadata": {},
   "outputs": [
    {
     "data": {
      "text/plain": [
       "<matplotlib.collections.PathCollection at 0x1b4d5d180>"
      ]
     },
     "execution_count": 90,
     "metadata": {},
     "output_type": "execute_result"
    },
    {
     "data": {
      "image/png": "[encoded data removed]",
      "text/plain": [
       "<Figure size 432x288 with 1 Axes>"
      ]
     },
     "metadata": {
      "needs_background": "light"
     },
     "output_type": "display_data"
    }
   ],
   "source": [
    "plt.scatter(X_, y, c=y)"
   ]
  },
  {
   "cell_type": "code",
   "execution_count": 93,
   "metadata": {},
   "outputs": [
    {
     "data": {
      "text/plain": [
       "[Text(0.5984848484848485, 0.9375, 'X[0] <= 5.409\\ngini = 0.499\\nsamples = 500\\nvalue = [259, 241]'),\n",
       " Text(0.3181818181818182, 0.8125, 'X[1] <= 6.674\\ngini = 0.378\\nsamples = 265\\nvalue = [67, 198]'),\n",
       " Text(0.12121212121212122, 0.6875, 'X[1] <= 5.518\\ngini = 0.097\\nsamples = 176\\nvalue = [9, 167]'),\n",
       " Text(0.06060606060606061, 0.5625, 'X[0] <= 5.076\\ngini = 0.013\\nsamples = 148\\nvalue = [1, 147]'),\n",
       " Text(0.030303030303030304, 0.4375, 'gini = 0.0\\nsamples = 136\\nvalue = [0, 136]'),\n",
       " Text(0.09090909090909091, 0.4375, 'X[1] <= 4.899\\ngini = 0.153\\nsamples = 12\\nvalue = [1, 11]'),\n",
       " Text(0.06060606060606061, 0.3125, 'gini = 0.0\\nsamples = 11\\nvalue = [0, 11]'),\n",
       " Text(0.12121212121212122, 0.3125, 'gini = 0.0\\nsamples = 1\\nvalue = [1, 0]'),\n",
       " Text(0.18181818181818182, 0.5625, 'X[0] <= 3.577\\ngini = 0.408\\nsamples = 28\\nvalue = [8, 20]'),\n",
       " Text(0.15151515151515152, 0.4375, 'gini = 0.0\\nsamples = 20\\nvalue = [0, 20]'),\n",
       " Text(0.21212121212121213, 0.4375, 'gini = 0.0\\nsamples = 8\\nvalue = [8, 0]'),\n",
       " Text(0.5151515151515151, 0.6875, 'X[0] <= 1.58\\ngini = 0.454\\nsamples = 89\\nvalue = [58, 31]'),\n",
       " Text(0.36363636363636365, 0.5625, 'X[1] <= 9.018\\ngini = 0.346\\nsamples = 27\\nvalue = [6, 21]'),\n",
       " Text(0.2727272727272727, 0.4375, 'X[0] <= 1.431\\ngini = 0.091\\nsamples = 21\\nvalue = [1, 20]'),\n",
       " Text(0.24242424242424243, 0.3125, 'gini = 0.0\\nsamples = 18\\nvalue = [0, 18]'),\n",
       " Text(0.30303030303030304, 0.3125, 'X[1] <= 8.309\\ngini = 0.444\\nsamples = 3\\nvalue = [1, 2]'),\n",
       " Text(0.2727272727272727, 0.1875, 'gini = 0.0\\nsamples = 2\\nvalue = [0, 2]'),\n",
       " Text(0.3333333333333333, 0.1875, 'gini = 0.0\\nsamples = 1\\nvalue = [1, 0]'),\n",
       " Text(0.45454545454545453, 0.4375, 'X[1] <= 9.253\\ngini = 0.278\\nsamples = 6\\nvalue = [5, 1]'),\n",
       " Text(0.42424242424242425, 0.3125, 'X[0] <= 0.722\\ngini = 0.5\\nsamples = 2\\nvalue = [1, 1]'),\n",
       " Text(0.3939393939393939, 0.1875, 'gini = 0.0\\nsamples = 1\\nvalue = [0, 1]'),\n",
       " Text(0.45454545454545453, 0.1875, 'gini = 0.0\\nsamples = 1\\nvalue = [1, 0]'),\n",
       " Text(0.48484848484848486, 0.3125, 'gini = 0.0\\nsamples = 4\\nvalue = [4, 0]'),\n",
       " Text(0.6666666666666666, 0.5625, 'X[0] <= 2.966\\ngini = 0.271\\nsamples = 62\\nvalue = [52, 10]'),\n",
       " Text(0.6363636363636364, 0.4375, 'X[1] <= 7.626\\ngini = 0.437\\nsamples = 31\\nvalue = [21, 10]'),\n",
       " Text(0.5454545454545454, 0.3125, 'X[0] <= 2.861\\ngini = 0.198\\nsamples = 9\\nvalue = [1, 8]'),\n",
       " Text(0.5151515151515151, 0.1875, 'gini = 0.0\\nsamples = 7\\nvalue = [0, 7]'),\n",
       " Text(0.5757575757575758, 0.1875, 'X[1] <= 7.093\\ngini = 0.5\\nsamples = 2\\nvalue = [1, 1]'),\n",
       " Text(0.5454545454545454, 0.0625, 'gini = 0.0\\nsamples = 1\\nvalue = [0, 1]'),\n",
       " Text(0.6060606060606061, 0.0625, 'gini = 0.0\\nsamples = 1\\nvalue = [1, 0]'),\n",
       " Text(0.7272727272727273, 0.3125, 'X[1] <= 8.284\\ngini = 0.165\\nsamples = 22\\nvalue = [20, 2]'),\n",
       " Text(0.696969696969697, 0.1875, 'X[0] <= 1.989\\ngini = 0.408\\nsamples = 7\\nvalue = [5, 2]'),\n",
       " Text(0.6666666666666666, 0.0625, 'gini = 0.0\\nsamples = 2\\nvalue = [0, 2]'),\n",
       " Text(0.7272727272727273, 0.0625, 'gini = 0.0\\nsamples = 5\\nvalue = [5, 0]'),\n",
       " Text(0.7575757575757576, 0.1875, 'gini = 0.0\\nsamples = 15\\nvalue = [15, 0]'),\n",
       " Text(0.696969696969697, 0.4375, 'gini = 0.0\\nsamples = 31\\nvalue = [31, 0]'),\n",
       " Text(0.8787878787878788, 0.8125, 'X[1] <= 3.262\\ngini = 0.299\\nsamples = 235\\nvalue = [192, 43]'),\n",
       " Text(0.8181818181818182, 0.6875, 'X[0] <= 8.521\\ngini = 0.471\\nsamples = 66\\nvalue = [25, 41]'),\n",
       " Text(0.7878787878787878, 0.5625, 'X[1] <= 2.291\\ngini = 0.127\\nsamples = 44\\nvalue = [3, 41]'),\n",
       " Text(0.7575757575757576, 0.4375, 'gini = 0.0\\nsamples = 34\\nvalue = [0, 34]'),\n",
       " Text(0.8181818181818182, 0.4375, 'X[0] <= 7.311\\ngini = 0.42\\nsamples = 10\\nvalue = [3, 7]'),\n",
       " Text(0.7878787878787878, 0.3125, 'gini = 0.0\\nsamples = 7\\nvalue = [0, 7]'),\n",
       " Text(0.8484848484848485, 0.3125, 'gini = 0.0\\nsamples = 3\\nvalue = [3, 0]'),\n",
       " Text(0.8484848484848485, 0.5625, 'gini = 0.0\\nsamples = 22\\nvalue = [22, 0]'),\n",
       " Text(0.9393939393939394, 0.6875, 'X[1] <= 3.948\\ngini = 0.023\\nsamples = 169\\nvalue = [167, 2]'),\n",
       " Text(0.9090909090909091, 0.5625, 'X[0] <= 6.162\\ngini = 0.219\\nsamples = 16\\nvalue = [14, 2]'),\n",
       " Text(0.8787878787878788, 0.4375, 'gini = 0.0\\nsamples = 2\\nvalue = [0, 2]'),\n",
       " Text(0.9393939393939394, 0.4375, 'gini = 0.0\\nsamples = 14\\nvalue = [14, 0]'),\n",
       " Text(0.9696969696969697, 0.5625, 'gini = 0.0\\nsamples = 153\\nvalue = [153, 0]')]"
      ]
     },
     "execution_count": 93,
     "metadata": {},
     "output_type": "execute_result"
    },
    {
     "data": {
      "image/png": "[encoded data removed]",
      "text/plain": [
       "<Figure size 864x720 with 1 Axes>"
      ]
     },
     "metadata": {
      "needs_background": "light"
     },
     "output_type": "display_data"
    }
   ],
   "source": [
    "X = synth_df[['x0','x1']]\n",
    "y = synth_df['label']\n",
    "clf = DecisionTreeClassifier().fit(X,y)\n",
    "fig, ax = plt.subplots(figsize=(12,10))\n",
    "plot_tree(clf, ax=ax)"
   ]
  },
  {
   "cell_type": "code",
   "execution_count": 91,
   "metadata": {},
   "outputs": [
    {
     "data": {
      "text/plain": [
       "array([ 0,  1,  1,  0, -2,  0, -2, -2,  0, -2, -2,  0,  1,  0, -2,  1, -2,\n",
       "       -2,  0,  1, -2, -2, -2,  0,  1,  0, -2,  1, -2, -2,  1,  0, -2, -2,\n",
       "       -2, -2,  1,  0,  1, -2,  0, -2, -2, -2,  1,  0, -2, -2, -2],\n",
       "      dtype=int64)"
      ]
     },
     "execution_count": 91,
     "metadata": {},
     "output_type": "execute_result"
    }
   ],
   "source": [
    "#  a list of the features used at each node. A value of -2 indicates a leaf node (where no split occurs)\n",
    "clf.tree_.feature\n",
    "# It is a depth first. We visit the tree one branch at a time, starting from left"
   ]
  },
  {
   "cell_type": "code",
   "execution_count": 92,
   "metadata": {},
   "outputs": [
    {
     "data": {
      "text/plain": [
       "array([ 5.40876412,  6.6744628 ,  5.51829243,  5.07607341, -2.        ,\n",
       "        5.08434319, -2.        , -2.        ,  3.57739341, -2.        ,\n",
       "       -2.        ,  1.57965869,  9.01819515,  1.4306519 , -2.        ,\n",
       "        8.30936813, -2.        , -2.        ,  0.41615283,  9.57837725,\n",
       "       -2.        , -2.        , -2.        ,  2.96561909,  7.62585855,\n",
       "        2.86126113, -2.        ,  7.09328413, -2.        , -2.        ,\n",
       "        8.28434324,  1.98910064, -2.        , -2.        , -2.        ,\n",
       "       -2.        ,  3.26193082,  8.52058029,  2.29148185, -2.        ,\n",
       "        7.31053472, -2.        , -2.        , -2.        ,  3.94774652,\n",
       "        6.16223955, -2.        , -2.        , -2.        ])"
      ]
     },
     "execution_count": 92,
     "metadata": {},
     "output_type": "execute_result"
    }
   ],
   "source": [
    "clf.tree_.threshold # -2 no split since it is a leaf."
   ]
  },
  {
   "cell_type": "code",
   "execution_count": 95,
   "metadata": {},
   "outputs": [
    {
     "data": {
      "text/plain": [
       "True"
      ]
     },
     "execution_count": 95,
     "metadata": {},
     "output_type": "execute_result"
    }
   ],
   "source": [
    "clf.tree_.feature.shape == clf.tree_.threshold.shape"
   ]
  },
  {
   "cell_type": "code",
   "execution_count": null,
   "metadata": {},
   "outputs": [],
   "source": [
    "# 2.2.4 TODO: tesa"
   ]
  },
  {
   "cell_type": "markdown",
   "metadata": {},
   "source": [
    "# 2.3 Random forest\n",
    "Implement our version of a random forest"
   ]
  },
  {
   "cell_type": "code",
   "execution_count": 15,
   "metadata": {},
   "outputs": [],
   "source": [
    "from sklearn.model_selection import train_test_split\n",
    "from sklearn.tree import DecisionTreeClassifier\n",
    "from sklearn.metrics import accuracy_score\n",
    "from sklearn.model_selection import ParameterGrid\n",
    "\n",
    "X_train, X_test, y_train, y_test = train_test_split(X_mnist, y_mnist, test_size=1/7)"
   ]
  },
  {
   "cell_type": "code",
   "execution_count": 9,
   "metadata": {},
   "outputs": [
    {
     "data": {
      "text/plain": [
       "0.875"
      ]
     },
     "execution_count": 9,
     "metadata": {},
     "output_type": "execute_result"
    }
   ],
   "source": [
    "clf_mnist = DecisionTreeClassifier().fit(X_train, y_train)\n",
    "pred = clf_mnist.predict(X_test)\n",
    "accuracy = accuracy_score(y_test, pred)\n",
    "accuracy"
   ]
  },
  {
   "cell_type": "code",
   "execution_count": 78,
   "metadata": {},
   "outputs": [],
   "source": [
    "class MyRandomForestClassifier():\n",
    "    \n",
    "    def __init__(self, n_estimators, max_features, **kwargs):\n",
    "        self.n_estimators = n_estimators\n",
    "        self.max_features = max_features\n",
    "        # collect trees used to estimate\n",
    "        self.trees = []        \n",
    "        self.random_state = kwargs['random_state']\n",
    "        #print(self.random_state)\n",
    "    \n",
    "    # train the trees of this random forest using subsets of X (and y)\n",
    "    def fit(self, X, y):\n",
    "        np.random.seed(random_state)\n",
    "        for _ in range(self.n_estimators):\n",
    "            '''\n",
    "            # randomly choose how many index we will use.\n",
    "            # Don't know if set it in init and all trees use the same number of samples or not.\n",
    "            N = np.random.randint(0, len(X))\n",
    "            '''\n",
    "            # They uses as size len(X)\n",
    "            N = len(X)\n",
    "            # choose N rows index to train the classifier (both X and y)\n",
    "            choices = np.random.choice(X.index, size=N, replace=True)\n",
    "            new_X = X.loc[choices]\n",
    "            new_y = y.loc[choices]\n",
    "            clf = DecisionTreeClassifier(max_features=self.max_features, random_state=self.random_state).fit(new_X, new_y)\n",
    "            # once you have trained the tree, append it to the list of classifiers\n",
    "            self.trees.append(clf)\n",
    "            self.compute_feature_importances_()\n",
    "        return self    \n",
    "        \n",
    "    # predict the label for each point in X\n",
    "    def predict(self, X):\n",
    "        # here we will save all predictions made by each tree in the forest\n",
    "        preds = []\n",
    "        for tree in self.trees:\n",
    "            pred = tree.predict(X)\n",
    "            preds.append(pred)\n",
    "        # we create a matrix where we stack predictions of each tree vertically\n",
    "        ary = np.vstack(preds)\n",
    "        # we create a dataframe and we will exploit the value_counts() method to count the most voted label\n",
    "        df = pd.DataFrame(ary, columns=list(range(ary.shape[-1])), index=list(range(ary.shape[0])))\n",
    "        columns = df.columns\n",
    "        # list containing final labels\n",
    "        pred_labels = []\n",
    "        for column in columns:\n",
    "            most_voted_label = df[column].value_counts().index[0]\n",
    "            pred_labels.append(most_voted_label)\n",
    "        return pred_labels\n",
    "    \n",
    "    def compute_feature_importances_(self):\n",
    "        stacked_features = np.stack([i.feature_importances_ for i in self.trees])\n",
    "        num = np.sum(stacked_features, axis=0)\n",
    "        den = np.sum(stacked_features, axis=0).sum()\n",
    "        self.feature_importances_ = num / den\n",
    "        \n",
    "        "
   ]
  },
  {
   "cell_type": "code",
   "execution_count": 79,
   "metadata": {},
   "outputs": [
    {
     "data": {
      "text/plain": [
       "0.9435"
      ]
     },
     "execution_count": 79,
     "metadata": {},
     "output_type": "execute_result"
    }
   ],
   "source": [
    "random_state = 0\n",
    "cl = MyRandomForestClassifier(10,'sqrt', random_state=random_state).fit(X_train, y_train)\n",
    "pred = cl.predict(X_test)\n",
    "accuracy_score(y_test, pred)"
   ]
  },
  {
   "cell_type": "code",
   "execution_count": 81,
   "metadata": {},
   "outputs": [
    {
     "name": "stdout",
     "output_type": "stream",
     "text": [
      "{'n_estimators': 10} 0.9435\n",
      "{'n_estimators': 20} 0.9575\n",
      "{'n_estimators': 30} 0.9597\n",
      "{'n_estimators': 40} 0.9632\n",
      "{'n_estimators': 50} 0.9641\n",
      "{'n_estimators': 60} 0.9659\n",
      "{'n_estimators': 70} 0.9655\n",
      "{'n_estimators': 80} 0.9657\n",
      "{'n_estimators': 90} 0.9654\n",
      "{'n_estimators': 100} 0.9664\n"
     ]
    }
   ],
   "source": [
    "random_state = 0\n",
    "param_grid = {'n_estimators': np.linspace(10, 100, 10, endpoint=True, dtype=int)}\n",
    "clfs = []\n",
    "for param in ParameterGrid(param_grid):\n",
    "    clf = MyRandomForestClassifier(**param, max_features='sqrt', random_state=0).fit(X_train, y_train)\n",
    "    pred = clf.predict(X_test)\n",
    "    score = accuracy_score(y_test, pred)\n",
    "    clfs.append((clf, score))\n",
    "    print(param, score)"
   ]
  },
  {
   "cell_type": "code",
   "execution_count": 82,
   "metadata": {},
   "outputs": [],
   "source": [
    "scores = [i[1] for i in clfs]\n",
    "best_score_index = np.argmax(scores)\n",
    "best_clf = clfs[best_score_index][0]"
   ]
  },
  {
   "cell_type": "code",
   "execution_count": 83,
   "metadata": {},
   "outputs": [
    {
     "data": {
      "text/plain": [
       "(9, 0.9664)"
      ]
     },
     "execution_count": 83,
     "metadata": {},
     "output_type": "execute_result"
    }
   ],
   "source": [
    "best_score_index, scores[best_score_index]"
   ]
  },
  {
   "cell_type": "code",
   "execution_count": 84,
   "metadata": {},
   "outputs": [
    {
     "name": "stdout",
     "output_type": "stream",
     "text": [
      "{'n_estimators': 10} 0.9488\n",
      "{'n_estimators': 20} 0.9635\n",
      "{'n_estimators': 30} 0.9629\n",
      "{'n_estimators': 40} 0.9663\n",
      "{'n_estimators': 50} 0.9682\n",
      "{'n_estimators': 60} 0.9704\n",
      "{'n_estimators': 70} 0.9707\n",
      "{'n_estimators': 80} 0.9698\n",
      "{'n_estimators': 90} 0.9719\n",
      "{'n_estimators': 100} 0.9691\n"
     ]
    }
   ],
   "source": [
    "# 2.3.5 do 2.3.4 with random forest classifier of sklearn\n",
    "from sklearn.ensemble import RandomForestClassifier\n",
    "param_grid = {'n_estimators': np.linspace(10, 100, 10, endpoint=True, dtype=int)}\n",
    "clfs_rf_skl = []\n",
    "for param in ParameterGrid(param_grid):\n",
    "    clf = RandomForestClassifier(**param, max_features='sqrt').fit(X_train, y_train)\n",
    "    pred = clf.predict(X_test)\n",
    "    score = accuracy_score(y_test, pred)\n",
    "    clfs_rf_skl.append((clf, score))\n",
    "    print(param, score)\n"
   ]
  },
  {
   "cell_type": "code",
   "execution_count": 85,
   "metadata": {},
   "outputs": [],
   "source": [
    "scores_rf_skl = [i[1] for i in clfs_rf_skl]\n",
    "best_score_index_skl = np.argmax(scores_rf_skl)\n",
    "best_clf_rf_skl = clfs_rf_skl[best_score_index_skl][0]"
   ]
  },
  {
   "cell_type": "code",
   "execution_count": 86,
   "metadata": {},
   "outputs": [
    {
     "data": {
      "text/plain": [
       "(8, 0.9719)"
      ]
     },
     "execution_count": 86,
     "metadata": {},
     "output_type": "execute_result"
    }
   ],
   "source": [
    "best_score_index_skl, scores_rf_skl[best_score_index_skl]"
   ]
  },
  {
   "cell_type": "code",
   "execution_count": 91,
   "metadata": {},
   "outputs": [
    {
     "data": {
      "text/plain": [
       "0.0514064810963975"
      ]
     },
     "execution_count": 91,
     "metadata": {},
     "output_type": "execute_result"
    }
   ],
   "source": [
    "np.linalg.norm(best_clf_rf_skl.feature_importances_- best_clf.feature_importances_)"
   ]
  },
  {
   "cell_type": "code",
   "execution_count": null,
   "metadata": {},
   "outputs": [],
   "source": []
  }
 ],
 "metadata": {
  "interpreter": {
   "hash": "afad3e5d60d609398ecce3ba468213674dfc27eda2bcdfe27a1dfdc5eca24277"
  },
  "kernelspec": {
   "display_name": "Python 3.10.2 ('data_science')",
   "language": "python",
   "name": "python3"
  },
  "language_info": {
   "codemirror_mode": {
    "name": "ipython",
    "version": 3
   },
   "file_extension": ".py",
   "mimetype": "text/x-python",
   "name": "python",
   "nbconvert_exporter": "python",
   "pygments_lexer": "ipython3",
   "version": "3.10.2"
  },
  "orig_nbformat": 4
 },
 "nbformat": 4,
 "nbformat_minor": 2
}
