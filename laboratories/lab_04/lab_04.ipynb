{
 "cells": [
  {
   "cell_type": "markdown",
   "metadata": {},
   "source": [
    "# Lab_04: K-NN algorithm"
   ]
  },
  {
   "cell_type": "code",
   "execution_count": 2,
   "metadata": {},
   "outputs": [
    {
     "name": "stdout",
     "output_type": "stream",
     "text": [
      "--2022-04-21 14:12:57--  https://archive.ics.uci.edu/ml/machine-learning-databases/iris/iris.data\n",
      "Resolving archive.ics.uci.edu (archive.ics.uci.edu)... 128.195.10.252\n",
      "Connecting to archive.ics.uci.edu (archive.ics.uci.edu)|128.195.10.252|:443... connected.\n",
      "HTTP request sent, awaiting response... 200 OK\n",
      "Length: 4551 (4,4K) [application/x-httpd-php]\n",
      "Saving to: ‘iris.csv’\n",
      "\n",
      "iris.csv            100%[===================>]   4,44K  --.-KB/s    in 0s      \n",
      "\n",
      "2022-04-21 14:12:58 (36,2 MB/s) - ‘iris.csv’ saved [4551/4551]\n",
      "\n"
     ]
    }
   ],
   "source": [
    "!wget https://archive.ics.uci.edu/ml/machine-learning-databases/iris/iris.data -O iris.csv"
   ]
  },
  {
   "cell_type": "code",
   "execution_count": 3,
   "metadata": {},
   "outputs": [
    {
     "name": "stdout",
     "output_type": "stream",
     "text": [
      "--2022-04-21 14:13:21--  https://raw.githubusercontent.com/dbdmg/data-science-lab/master/datasets/mnist_test.csv\n",
      "Resolving raw.githubusercontent.com (raw.githubusercontent.com)... 185.199.111.133, 185.199.108.133, 185.199.109.133, ...\n",
      "Connecting to raw.githubusercontent.com (raw.githubusercontent.com)|185.199.111.133|:443... connected.\n",
      "HTTP request sent, awaiting response... 200 OK\n",
      "Length: 18289443 (17M) [text/plain]\n",
      "Saving to: ‘mnist.csv’\n",
      "\n",
      "mnist.csv           100%[===================>]  17,44M  25,9MB/s    in 0,7s    \n",
      "\n",
      "2022-04-21 14:13:23 (25,9 MB/s) - ‘mnist.csv’ saved [18289443/18289443]\n",
      "\n"
     ]
    }
   ],
   "source": [
    "!wget https://raw.githubusercontent.com/dbdmg/data-science-lab/master/datasets/mnist_test.csv -O mnist.csv"
   ]
  },
  {
   "cell_type": "code",
   "execution_count": 17,
   "metadata": {},
   "outputs": [],
   "source": [
    "import pandas as pd\n",
    "import numpy as np"
   ]
  },
  {
   "cell_type": "code",
   "execution_count": 39,
   "metadata": {},
   "outputs": [],
   "source": [
    "names = ['sepal_length', 'sepal_width', 'petal_length', 'petal_width', 'class']\n",
    "iris = pd.read_csv('iris.csv', names=names)"
   ]
  },
  {
   "cell_type": "code",
   "execution_count": 40,
   "metadata": {},
   "outputs": [
    {
     "data": {
      "text/html": [
       "<div>\n",
       "<style scoped>\n",
       "    .dataframe tbody tr th:only-of-type {\n",
       "        vertical-align: middle;\n",
       "    }\n",
       "\n",
       "    .dataframe tbody tr th {\n",
       "        vertical-align: top;\n",
       "    }\n",
       "\n",
       "    .dataframe thead th {\n",
       "        text-align: right;\n",
       "    }\n",
       "</style>\n",
       "<table border=\"1\" class=\"dataframe\">\n",
       "  <thead>\n",
       "    <tr style=\"text-align: right;\">\n",
       "      <th></th>\n",
       "      <th>sepal_length</th>\n",
       "      <th>sepal_width</th>\n",
       "      <th>petal_length</th>\n",
       "      <th>petal_width</th>\n",
       "      <th>class</th>\n",
       "    </tr>\n",
       "  </thead>\n",
       "  <tbody>\n",
       "    <tr>\n",
       "      <th>0</th>\n",
       "      <td>5.1</td>\n",
       "      <td>3.5</td>\n",
       "      <td>1.4</td>\n",
       "      <td>0.2</td>\n",
       "      <td>Iris-setosa</td>\n",
       "    </tr>\n",
       "    <tr>\n",
       "      <th>1</th>\n",
       "      <td>4.9</td>\n",
       "      <td>3.0</td>\n",
       "      <td>1.4</td>\n",
       "      <td>0.2</td>\n",
       "      <td>Iris-setosa</td>\n",
       "    </tr>\n",
       "    <tr>\n",
       "      <th>2</th>\n",
       "      <td>4.7</td>\n",
       "      <td>3.2</td>\n",
       "      <td>1.3</td>\n",
       "      <td>0.2</td>\n",
       "      <td>Iris-setosa</td>\n",
       "    </tr>\n",
       "    <tr>\n",
       "      <th>3</th>\n",
       "      <td>4.6</td>\n",
       "      <td>3.1</td>\n",
       "      <td>1.5</td>\n",
       "      <td>0.2</td>\n",
       "      <td>Iris-setosa</td>\n",
       "    </tr>\n",
       "    <tr>\n",
       "      <th>4</th>\n",
       "      <td>5.0</td>\n",
       "      <td>3.6</td>\n",
       "      <td>1.4</td>\n",
       "      <td>0.2</td>\n",
       "      <td>Iris-setosa</td>\n",
       "    </tr>\n",
       "  </tbody>\n",
       "</table>\n",
       "</div>"
      ],
      "text/plain": [
       "   sepal_length  sepal_width  petal_length  petal_width        class\n",
       "0           5.1          3.5           1.4          0.2  Iris-setosa\n",
       "1           4.9          3.0           1.4          0.2  Iris-setosa\n",
       "2           4.7          3.2           1.3          0.2  Iris-setosa\n",
       "3           4.6          3.1           1.5          0.2  Iris-setosa\n",
       "4           5.0          3.6           1.4          0.2  Iris-setosa"
      ]
     },
     "execution_count": 40,
     "metadata": {},
     "output_type": "execute_result"
    }
   ],
   "source": [
    "iris.head()"
   ]
  },
  {
   "cell_type": "code",
   "execution_count": 43,
   "metadata": {},
   "outputs": [],
   "source": [
    "# set the seed to obtain same results\n",
    "np.random.seed(42) \n",
    "# set the size of the Test set as the 20% of the dataset\n",
    "size = round(.2*len(iris))\n",
    "# create a mask to retrieve selected rows. \n",
    "# I used choice since I don't want replacements. \n",
    "# I passed the column index and then sampled indexes\n",
    "mask = sorted(np.random.choice(iris.index, size=size, replace=False))\n",
    "X_test, y_test = iris.iloc[mask][names[:-1]], iris.iloc[mask][names[-1]]"
   ]
  },
  {
   "cell_type": "code",
   "execution_count": 146,
   "metadata": {},
   "outputs": [],
   "source": [
    "# create the train mask subtracting indexes belonging to previous mask.\n",
    "# Then we need to cast it to list otherwise .iloc won't work\n",
    "train_mask = list(set(iris.index) - set(mask))\n",
    "X_train, y_train = iris.iloc[train_mask][names[:-1]], iris.iloc[train_mask][names[-1]]"
   ]
  },
  {
   "cell_type": "code",
   "execution_count": 61,
   "metadata": {},
   "outputs": [],
   "source": [
    "class KNearestNeighbors:\n",
    "    def __init__(self, k, distance_metric=\"euclidean\"):\n",
    "        self.k = k\n",
    "        self.distance_metric = distance_metric\n",
    "        \n",
    "    def compute_distance(self, x:np.array, y:np.array, type:str='euclidean'):\n",
    "        if type == 'euclidean':\n",
    "            return np.sqrt(np.sum((x-y)**2))\n",
    "        \n",
    "    def fit(self, X, y):\n",
    "        \"\"\"\n",
    "        Store the 'prior knowledge'of you model that will be used\n",
    "        to predict new labels.\n",
    "        :param X : input data points, ndarray, shape = (R,C).\n",
    "        :param y : input labels, ndarray, shape = (R,).\n",
    "        \"\"\"\n",
    "        self.X = X\n",
    "        self.y = y\n",
    "    \n",
    "    def predict(self, X):\n",
    "        \"\"\"\n",
    "        Run the KNN classification on X.\n",
    "        :param X: input data points, ndarray, shape = (N,C).\n",
    "        :return: labels : ndarray, shape = (N,).\n",
    "        \"\"\"\n",
    "        distances = compute_distance(self, X, self.X)"
   ]
  },
  {
   "cell_type": "code",
   "execution_count": 65,
   "metadata": {},
   "outputs": [],
   "source": [
    "def compute_distance(x:np.array, y:np.array, type:str='euclidean'):\n",
    "    if type == 'euclidean':\n",
    "        return np.sqrt(np.sum((x-y)**2))"
   ]
  },
  {
   "cell_type": "code",
   "execution_count": 76,
   "metadata": {},
   "outputs": [],
   "source": [
    "distances = dict() # len = y_test\n",
    "idx = 0\n",
    "for test_row in X_test.values:\n",
    "    dist_list = []\n",
    "    for train_row in X_train.values:\n",
    "        #print(test_row, train_row)\n",
    "        dist_list.append(compute_distance(train_row, test_row))\n",
    "    distances[idx] = dist_list\n",
    "    idx += 1"
   ]
  },
  {
   "cell_type": "code",
   "execution_count": 147,
   "metadata": {},
   "outputs": [
    {
     "name": "stdout",
     "output_type": "stream",
     "text": [
      "label: 0\n",
      "label: 0\n",
      "label: 0\n",
      "label: 0\n",
      "label: 0\n",
      "label: 0\n",
      "label: 0\n",
      "label: 0\n",
      "label: 0\n",
      "label: 0\n",
      "label: 0\n",
      "label: 0\n",
      "label: 0\n",
      "label: 0\n",
      "label: 0\n",
      "label: 0\n",
      "label: 0\n",
      "label: 0\n",
      "label: 0\n",
      "label: 0\n",
      "label: 0\n",
      "label: 0\n",
      "label: 0\n",
      "label: 0\n",
      "label: 0\n",
      "label: 0\n",
      "label: 0\n",
      "label: 0\n",
      "label: 0\n",
      "label: 0\n",
      "label: 0\n",
      "label: 0\n",
      "label: 0\n",
      "label: 0\n",
      "label: 0\n",
      "label: 0\n",
      "label: 0\n",
      "label: 0\n",
      "label: 0\n",
      "label: 0\n",
      "label: 0\n",
      "label: 0\n",
      "label: 0\n",
      "label: 0\n",
      "label: 0\n",
      "label: 0\n",
      "label: 0\n",
      "label: 0\n",
      "label: 0\n",
      "label: 0\n",
      "label: 1\n",
      "label: 1\n",
      "label: 1\n",
      "label: 1\n",
      "label: 1\n",
      "label: 1\n",
      "label: 1\n",
      "label: 1\n",
      "label: 1\n",
      "label: 1\n",
      "label: 1\n",
      "label: 1\n",
      "label: 1\n",
      "label: 1\n",
      "label: 1\n",
      "label: 1\n",
      "label: 1\n",
      "label: 1\n",
      "label: 2\n",
      "label: 2\n",
      "label: 1\n",
      "label: 1\n",
      "label: 1\n",
      "label: 1\n",
      "label: 1\n",
      "label: 1\n",
      "label: 1\n",
      "label: 1\n",
      "label: 1\n",
      "label: 1\n",
      "label: 1\n",
      "label: 1\n",
      "label: 1\n",
      "label: 1\n",
      "label: 1\n",
      "label: 1\n",
      "label: 1\n",
      "label: 1\n",
      "label: 1\n",
      "label: 1\n",
      "label: 1\n",
      "label: 1\n",
      "label: 1\n",
      "label: 1\n",
      "label: 1\n",
      "label: 2\n",
      "label: 2\n",
      "label: 2\n",
      "label: 2\n",
      "label: 2\n",
      "label: 2\n",
      "label: 2\n",
      "label: 2\n",
      "label: 2\n",
      "label: 2\n",
      "label: 1\n",
      "label: 2\n",
      "label: 2\n",
      "label: 2\n",
      "label: 2\n",
      "label: 2\n",
      "label: 2\n",
      "label: 2\n",
      "label: 2\n",
      "label: 2\n",
      "label: 1\n",
      "label: 2\n",
      "label: 2\n",
      "label: 2\n",
      "label: 2\n",
      "label: 2\n",
      "label: 2\n",
      "label: 2\n",
      "label: 2\n",
      "label: 2\n",
      "label: 2\n",
      "label: 2\n",
      "label: 2\n",
      "label: 2\n",
      "label: 2\n",
      "label: 2\n",
      "label: 2\n",
      "label: 2\n",
      "label: 2\n",
      "label: 2\n",
      "label: 2\n",
      "label: 2\n",
      "label: 2\n",
      "label: 2\n",
      "label: 2\n",
      "label: 2\n",
      "label: 2\n",
      "label: 2\n",
      "label: 2\n",
      "label: 2\n",
      "label: 2\n",
      "label: 2\n",
      "label: 2\n",
      "label: 2\n",
      "label: 2\n"
     ]
    }
   ],
   "source": [
    "# obtain names of classes\n",
    "classes = iris['class'].unique()\n",
    "\n",
    "# map classes to values 0, 1, 2 used to index when we count the votes\n",
    "classes_dict = {cl:i for i,cl in enumerate(classes)}\n",
    "# reverse_classes to map back names of classes\n",
    "reverse_classes_dict = {i:cl for i,cl in enumerate(classes)}\n",
    "# map classes values\n",
    "y_train = y_train.map(classes_dict)\n",
    "\n",
    "#nearest_neighbors\n",
    "k = 5\n",
    "\n",
    "pred = np.zeros(shape=(len(y_test), len(classes)))\n",
    "\n",
    "for i in range(len(distances)):\n",
    "    threshold = sorted(distances[i])[k]\n",
    "    maskerina = np.argwhere(distances[i] < threshold)\n",
    "    for idx in maskerina.flatten():\n",
    "        label = y_train.iloc[idx]\n",
    "        pred[i][label] += 1"
   ]
  },
  {
   "cell_type": "code",
   "execution_count": 152,
   "metadata": {},
   "outputs": [
    {
     "data": {
      "text/plain": [
       "0         Iris-setosa\n",
       "1         Iris-setosa\n",
       "2         Iris-setosa\n",
       "3         Iris-setosa\n",
       "4         Iris-setosa\n",
       "5         Iris-setosa\n",
       "6         Iris-setosa\n",
       "7         Iris-setosa\n",
       "8         Iris-setosa\n",
       "9         Iris-setosa\n",
       "10    Iris-versicolor\n",
       "11    Iris-versicolor\n",
       "12    Iris-versicolor\n",
       "13    Iris-versicolor\n",
       "14    Iris-versicolor\n",
       "15    Iris-versicolor\n",
       "16    Iris-versicolor\n",
       "17    Iris-versicolor\n",
       "18    Iris-versicolor\n",
       "19     Iris-virginica\n",
       "20     Iris-virginica\n",
       "21     Iris-virginica\n",
       "22     Iris-virginica\n",
       "23     Iris-virginica\n",
       "24     Iris-virginica\n",
       "25     Iris-virginica\n",
       "26     Iris-virginica\n",
       "27     Iris-virginica\n",
       "28     Iris-virginica\n",
       "29     Iris-virginica\n",
       "dtype: object"
      ]
     },
     "execution_count": 152,
     "metadata": {},
     "output_type": "execute_result"
    }
   ],
   "source": [
    "predictions = pd.Series(pred.argmax(axis=1)).map(reverse_classes_dict)\n",
    "predictions"
   ]
  },
  {
   "cell_type": "code",
   "execution_count": 84,
   "metadata": {},
   "outputs": [],
   "source": [
    "k = 5 # nearest neighbors\n",
    "\n",
    "# use this stratagem to select indexes where the value is lower than this threshold \n",
    "threshold = sorted(distances[0])[k] # k is the 6th one. ok to use < threshold\n",
    "maskerina = np.argwhere(distances[0] < threshold)"
   ]
  },
  {
   "cell_type": "code",
   "execution_count": 105,
   "metadata": {},
   "outputs": [
    {
     "name": "stdout",
     "output_type": "stream",
     "text": [
      "Iris-setosa\n",
      "Iris-setosa\n",
      "Iris-setosa\n",
      "Iris-setosa\n",
      "Iris-setosa\n"
     ]
    }
   ],
   "source": [
    "sorted(distances[0])\n",
    "counts = dict()\n",
    "for idx in maskerina.flatten():\n",
    "    counts[y_train.iloc[idx]] = counts.get(y_train.iloc[idx], 0) + 1\n",
    "    print(y_train.iloc[idx])"
   ]
  },
  {
   "cell_type": "code",
   "execution_count": 106,
   "metadata": {},
   "outputs": [
    {
     "data": {
      "text/plain": [
       "{'Iris-setosa': 5}"
      ]
     },
     "execution_count": 106,
     "metadata": {},
     "output_type": "execute_result"
    }
   ],
   "source": [
    "sorted(counts)"
   ]
  },
  {
   "cell_type": "code",
   "execution_count": 116,
   "metadata": {},
   "outputs": [
    {
     "data": {
      "text/plain": [
       "{0: 'Iris-setosa', 1: 'Iris-versicolor', 2: 'Iris-virginica'}"
      ]
     },
     "execution_count": 116,
     "metadata": {},
     "output_type": "execute_result"
    }
   ],
   "source": [
    "classes_dict = {cl:i for i,cl in enumerate(classes)}\n",
    "reverse_classes_dict = {i:cl for i,cl in enumerate(classes)}\n",
    "\n",
    "reverse_classes_dict\n"
   ]
  },
  {
   "cell_type": "code",
   "execution_count": 119,
   "metadata": {},
   "outputs": [
    {
     "data": {
      "text/plain": [
       "(30, 30)"
      ]
     },
     "execution_count": 119,
     "metadata": {},
     "output_type": "execute_result"
    }
   ],
   "source": [
    "len(distances), len(y_test)"
   ]
  },
  {
   "cell_type": "code",
   "execution_count": 128,
   "metadata": {},
   "outputs": [
    {
     "data": {
      "text/plain": [
       "0     NaN\n",
       "1     NaN\n",
       "2     NaN\n",
       "3     NaN\n",
       "4     NaN\n",
       "       ..\n",
       "144   NaN\n",
       "146   NaN\n",
       "147   NaN\n",
       "148   NaN\n",
       "149   NaN\n",
       "Name: class, Length: 120, dtype: float64"
      ]
     },
     "execution_count": 128,
     "metadata": {},
     "output_type": "execute_result"
    }
   ],
   "source": [
    "y_train"
   ]
  },
  {
   "cell_type": "code",
   "execution_count": null,
   "metadata": {},
   "outputs": [],
   "source": []
  }
 ],
 "metadata": {
  "interpreter": {
   "hash": "afad3e5d60d609398ecce3ba468213674dfc27eda2bcdfe27a1dfdc5eca24277"
  },
  "kernelspec": {
   "display_name": "Python 3.10.2 ('data_science')",
   "language": "python",
   "name": "python3"
  },
  "language_info": {
   "codemirror_mode": {
    "name": "ipython",
    "version": 3
   },
   "file_extension": ".py",
   "mimetype": "text/x-python",
   "name": "python",
   "nbconvert_exporter": "python",
   "pygments_lexer": "ipython3",
   "version": "3.10.2"
  },
  "orig_nbformat": 4
 },
 "nbformat": 4,
 "nbformat_minor": 2
}
