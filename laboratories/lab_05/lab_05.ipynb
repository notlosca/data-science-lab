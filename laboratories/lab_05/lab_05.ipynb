{
 "cells": [
  {
   "cell_type": "markdown",
   "metadata": {},
   "source": [
    "# Lab 05\n"
   ]
  },
  {
   "cell_type": "code",
   "execution_count": 5,
   "metadata": {},
   "outputs": [],
   "source": [
    "# %%capture doesn't display output\n",
    "%%capture\n",
    "!wget https://github.com/dbdmg/data-science-lab/raw/master/datasets/NYC_POIs.zip -O nyc_poi.zip\n",
    "!wget https://github.com/dbdmg/data-science-lab/raw/master/datasets/US_FlightDelayData.zip -O fdd.zip"
   ]
  },
  {
   "cell_type": "code",
   "execution_count": 3,
   "metadata": {},
   "outputs": [],
   "source": [
    "import pandas as pd\n",
    "import numpy as np\n",
    "import seaborn as sns\n",
    "import matplotlib.pyplot as plt\n",
    "%matplotlib inline"
   ]
  },
  {
   "cell_type": "markdown",
   "metadata": {},
   "source": [
    "## New York Point Of Interest\n",
    "\n",
    "The _New York Point Of Interest_ dataset collects a sub-sample of the point of interests (POI) available in\n",
    "the city of New York. It contains the coordinates of each point of interest and the category to which it\n",
    "belongs to, specifying the _type_ of the POI, for each POI _category_. There are _four_ possible categories of POIs:\n",
    "_amenity, shop, public_transport_ and _highway_.\n",
    "The fields available in the dataset are:\n",
    "- `@id`: a unique id for each point of interest.\n",
    "- `@lat`: latitude coordinate of the POI in decimal degrees.\n",
    "- `@lon`: longitude coordinate of the POI in decimal degrees.\n",
    "- `amenity name`: if the POI category is amenity its type is reported in this field.\n",
    "- `shop`: if the POI category is shop its type is reported in this field.\n",
    "- `public_transport`: if the POI category is public transport its type is reported in this field.\n",
    "- `highway`: if the POI category is highway its type is reported in this field.\n",
    "  \n",
    "To identify which are the POIs belonging only to the New York City municipality, a further file is provided. The _New York City municipality POIs metadata_ file is composed by a single column containing the Ids of the POI of interest of the municipality."
   ]
  },
  {
   "cell_type": "code",
   "execution_count": 7,
   "metadata": {},
   "outputs": [
    {
     "name": "stdout",
     "output_type": "stream",
     "text": [
      "File Name                                             Modified             Size\n",
      "New_York_City_Map.PNG                          2019-11-07 13:54:28        87105\n",
      "__MACOSX/._New_York_City_Map.PNG               2019-11-07 13:54:28          211\n",
      "ny_municipality_pois_id.csv                    2019-11-07 15:50:52       581601\n",
      "__MACOSX/._ny_municipality_pois_id.csv         2019-11-07 15:50:52          267\n",
      "pois_all_info                                  2019-11-07 14:56:46      4787894\n",
      "__MACOSX/._pois_all_info                       2019-11-07 14:56:46          267\n"
     ]
    }
   ],
   "source": [
    "from zipfile import ZipFile\n",
    "\n",
    "with ZipFile('nyc_poi.zip', 'r') as zip:\n",
    "    zip.printdir()"
   ]
  },
  {
   "cell_type": "code",
   "execution_count": 15,
   "metadata": {},
   "outputs": [],
   "source": [
    "files_to_extract = ['New_York_City_Map.PNG', 'ny_municipality_pois_id.csv', 'pois_all_info']\n",
    "with ZipFile('nyc_poi.zip', 'r') as zip:\n",
    "    for file in files_to_extract:\n",
    "        zip.extract(file)"
   ]
  },
  {
   "cell_type": "code",
   "execution_count": 67,
   "metadata": {},
   "outputs": [
    {
     "name": "stdout",
     "output_type": "stream",
     "text": [
      "<class 'pandas.core.frame.DataFrame'>\n",
      "RangeIndex: 77884 entries, 0 to 77883\n",
      "Data columns (total 9 columns):\n",
      " #   Column            Non-Null Count  Dtype  \n",
      "---  ------            --------------  -----  \n",
      " 0   @id               77884 non-null  int64  \n",
      " 1   @type             77884 non-null  object \n",
      " 2   @lat              75789 non-null  float64\n",
      " 3   @lon              75789 non-null  float64\n",
      " 4   amenity           32271 non-null  object \n",
      " 5   name              40790 non-null  object \n",
      " 6   shop              12850 non-null  object \n",
      " 7   public_transport  10390 non-null  object \n",
      " 8   highway           9445 non-null   object \n",
      "dtypes: float64(2), int64(1), object(6)\n",
      "memory usage: 5.3+ MB\n"
     ]
    },
    {
     "name": "stderr",
     "output_type": "stream",
     "text": [
      "/var/folders/2q/7qslh1r50qv5dxqpmmm9jcy00000gn/T/ipykernel_1732/3240295855.py:1: DtypeWarning: Columns (4,5,6,7,8) have mixed types. Specify dtype option on import or set low_memory=False.\n",
      "  nyc_df = pd.read_csv('pois_all_info',  sep='\\t')\n"
     ]
    }
   ],
   "source": [
    "nyc_df = pd.read_csv('pois_all_info',  sep='\\t')\n",
    "nyc_df.info()"
   ]
  },
  {
   "cell_type": "code",
   "execution_count": 33,
   "metadata": {},
   "outputs": [],
   "source": [
    "import csv\n",
    "ids = []\n",
    "with open('ny_municipality_pois_id.csv', 'r') as f:\n",
    "    for col in csv.reader(f):\n",
    "        # print(col)\n",
    "        ids.append(int(col[0]))"
   ]
  },
  {
   "cell_type": "code",
   "execution_count": 64,
   "metadata": {},
   "outputs": [],
   "source": [
    "# Data Cleaning\n",
    "# Since each poi has unique id, \n",
    "# we have to check which row we have to keep.\n",
    "# Some ids are repeated\n",
    "mask = nyc_df['@id'].value_counts() > 1\n",
    "\n",
    "cnt = mask.sum()\n",
    "duplicated_ids = mask.iloc[:cnt].index\n",
    "\n",
    "ids_remove = []\n",
    "# The second id that is repeated contains less informations. \n",
    "# Hence we keep the index and we will remove it\n",
    "for id in duplicated_ids:\n",
    "    ids_remove.append((nyc_df[nyc_df['@id'] == id]).index[1])\n",
    "    \n",
    "# Obtain same result using drop_duplicates"
   ]
  },
  {
   "cell_type": "code",
   "execution_count": 69,
   "metadata": {},
   "outputs": [
    {
     "data": {
      "text/plain": [
       "0"
      ]
     },
     "execution_count": 69,
     "metadata": {},
     "output_type": "execute_result"
    }
   ],
   "source": [
    "(nyc_df.drop_duplicates(subset='@id', keep='first', )['@id'].value_counts() == 2).sum()"
   ]
  },
  {
   "cell_type": "code",
   "execution_count": 72,
   "metadata": {},
   "outputs": [],
   "source": [
    "# since it works, we can use inplace=True\n",
    "nyc_df.drop_duplicates(subset='@id', keep='first', inplace=True)\n",
    "# Now we can set @id as index and then filter the nyc ids\n",
    "nyc_df.set_index(keys='@id', inplace=True)"
   ]
  },
  {
   "cell_type": "code",
   "execution_count": 75,
   "metadata": {},
   "outputs": [],
   "source": [
    "filtered_df = nyc_df.loc[ids]"
   ]
  },
  {
   "cell_type": "code",
   "execution_count": 77,
   "metadata": {},
   "outputs": [
    {
     "name": "stdout",
     "output_type": "stream",
     "text": [
      "<class 'pandas.core.frame.DataFrame'>\n",
      "Int64Index: 53530 entries, 42432939 to 6146672068\n",
      "Data columns (total 8 columns):\n",
      " #   Column            Non-Null Count  Dtype  \n",
      "---  ------            --------------  -----  \n",
      " 0   @type             53530 non-null  object \n",
      " 1   @lat              53530 non-null  float64\n",
      " 2   @lon              53530 non-null  float64\n",
      " 3   amenity           24712 non-null  object \n",
      " 4   name              30550 non-null  object \n",
      " 5   shop              8717 non-null   object \n",
      " 6   public_transport  8376 non-null   object \n",
      " 7   highway           7559 non-null   object \n",
      "dtypes: float64(2), object(6)\n",
      "memory usage: 3.7+ MB\n"
     ]
    }
   ],
   "source": [
    "filtered_df.info() #check inferred types"
   ]
  },
  {
   "cell_type": "code",
   "execution_count": 76,
   "metadata": {},
   "outputs": [
    {
     "data": {
      "text/html": [
       "<div>\n",
       "<style scoped>\n",
       "    .dataframe tbody tr th:only-of-type {\n",
       "        vertical-align: middle;\n",
       "    }\n",
       "\n",
       "    .dataframe tbody tr th {\n",
       "        vertical-align: top;\n",
       "    }\n",
       "\n",
       "    .dataframe thead th {\n",
       "        text-align: right;\n",
       "    }\n",
       "</style>\n",
       "<table border=\"1\" class=\"dataframe\">\n",
       "  <thead>\n",
       "    <tr style=\"text-align: right;\">\n",
       "      <th></th>\n",
       "      <th>@type</th>\n",
       "      <th>@lat</th>\n",
       "      <th>@lon</th>\n",
       "      <th>amenity</th>\n",
       "      <th>name</th>\n",
       "      <th>shop</th>\n",
       "      <th>public_transport</th>\n",
       "      <th>highway</th>\n",
       "    </tr>\n",
       "    <tr>\n",
       "      <th>@id</th>\n",
       "      <th></th>\n",
       "      <th></th>\n",
       "      <th></th>\n",
       "      <th></th>\n",
       "      <th></th>\n",
       "      <th></th>\n",
       "      <th></th>\n",
       "      <th></th>\n",
       "    </tr>\n",
       "  </thead>\n",
       "  <tbody>\n",
       "    <tr>\n",
       "      <th>42432939</th>\n",
       "      <td>node</td>\n",
       "      <td>40.814104</td>\n",
       "      <td>-73.949623</td>\n",
       "      <td>NaN</td>\n",
       "      <td>NaN</td>\n",
       "      <td>NaN</td>\n",
       "      <td>stop_position</td>\n",
       "      <td>NaN</td>\n",
       "    </tr>\n",
       "    <tr>\n",
       "      <th>42448838</th>\n",
       "      <td>node</td>\n",
       "      <td>40.761647</td>\n",
       "      <td>-73.949864</td>\n",
       "      <td>NaN</td>\n",
       "      <td>NaN</td>\n",
       "      <td>NaN</td>\n",
       "      <td>stop_position</td>\n",
       "      <td>NaN</td>\n",
       "    </tr>\n",
       "    <tr>\n",
       "      <th>42723103</th>\n",
       "      <td>node</td>\n",
       "      <td>40.852182</td>\n",
       "      <td>-73.772677</td>\n",
       "      <td>ferry_terminal</td>\n",
       "      <td>Hart Island Ferry Terminal</td>\n",
       "      <td>NaN</td>\n",
       "      <td>NaN</td>\n",
       "      <td>NaN</td>\n",
       "    </tr>\n",
       "    <tr>\n",
       "      <th>42764076</th>\n",
       "      <td>node</td>\n",
       "      <td>40.867164</td>\n",
       "      <td>-73.882158</td>\n",
       "      <td>NaN</td>\n",
       "      <td>Botanical Garden</td>\n",
       "      <td>NaN</td>\n",
       "      <td>stop_position</td>\n",
       "      <td>NaN</td>\n",
       "    </tr>\n",
       "    <tr>\n",
       "      <th>42811266</th>\n",
       "      <td>node</td>\n",
       "      <td>40.704806</td>\n",
       "      <td>-73.772734</td>\n",
       "      <td>NaN</td>\n",
       "      <td>NaN</td>\n",
       "      <td>NaN</td>\n",
       "      <td>stop_position</td>\n",
       "      <td>NaN</td>\n",
       "    </tr>\n",
       "  </tbody>\n",
       "</table>\n",
       "</div>"
      ],
      "text/plain": [
       "         @type       @lat       @lon         amenity  \\\n",
       "@id                                                    \n",
       "42432939  node  40.814104 -73.949623             NaN   \n",
       "42448838  node  40.761647 -73.949864             NaN   \n",
       "42723103  node  40.852182 -73.772677  ferry_terminal   \n",
       "42764076  node  40.867164 -73.882158             NaN   \n",
       "42811266  node  40.704806 -73.772734             NaN   \n",
       "\n",
       "                                name shop public_transport highway  \n",
       "@id                                                                 \n",
       "42432939                         NaN  NaN    stop_position     NaN  \n",
       "42448838                         NaN  NaN    stop_position     NaN  \n",
       "42723103  Hart Island Ferry Terminal  NaN              NaN     NaN  \n",
       "42764076            Botanical Garden  NaN    stop_position     NaN  \n",
       "42811266                         NaN  NaN    stop_position     NaN  "
      ]
     },
     "execution_count": 76,
     "metadata": {},
     "output_type": "execute_result"
    }
   ],
   "source": [
    "filtered_df.head()"
   ]
  },
  {
   "cell_type": "code",
   "execution_count": 81,
   "metadata": {},
   "outputs": [
    {
     "name": "stdout",
     "output_type": "stream",
     "text": [
      "@type 0\n",
      "@lat 0\n",
      "@lon 0\n",
      "amenity 28818\n",
      "name 22980\n",
      "shop 44813\n",
      "public_transport 45154\n",
      "highway 45971\n"
     ]
    }
   ],
   "source": [
    "# check where and how many null values you have\n",
    "for column in filtered_df.columns:\n",
    "    print(column, filtered_df[column].isna().sum())"
   ]
  },
  {
   "cell_type": "code",
   "execution_count": 103,
   "metadata": {},
   "outputs": [
    {
     "data": {
      "image/png": "[encoded data removed]",
      "text/plain": [
       "<Figure size 864x720 with 1 Axes>"
      ]
     },
     "metadata": {
      "needs_background": "light"
     },
     "output_type": "display_data"
    },
    {
     "data": {
      "image/png": "[encoded data removed]",
      "text/plain": [
       "<Figure size 864x720 with 1 Axes>"
      ]
     },
     "metadata": {
      "needs_background": "light"
     },
     "output_type": "display_data"
    },
    {
     "data": {
      "image/png": "[encoded data removed]",
      "text/plain": [
       "<Figure size 864x720 with 1 Axes>"
      ]
     },
     "metadata": {
      "needs_background": "light"
     },
     "output_type": "display_data"
    },
    {
     "data": {
      "image/png": "[encoded data removed]",
      "text/plain": [
       "<Figure size 864x720 with 1 Axes>"
      ]
     },
     "metadata": {
      "needs_background": "light"
     },
     "output_type": "display_data"
    }
   ],
   "source": [
    "def plot_column_hist(df:pd.DataFrame, column:str, threshold:float=0.01):\n",
    "    tot_val = df[column].value_counts().sum()\n",
    "    serie = df[column].value_counts()\n",
    "    threshold = .05\n",
    "    mask = serie.values/tot_val > threshold\n",
    "    serie = serie.iloc[mask]\n",
    "    plt.figure(figsize=(12,10))\n",
    "    serie.plot(kind='bar', title=f'{column}, threshold={threshold}')\n",
    "\n",
    "columns_to_plot = ['amenity', 'shop', 'public_transport', 'highway']\n",
    "for col in columns_to_plot:\n",
    "    plot_column_hist(filtered_df, col, 0.05)"
   ]
  },
  {
   "cell_type": "markdown",
   "metadata": {},
   "source": [
    "## Flight Delay Data\n",
    "\n",
    "Measuring the performance of flight carriers (e.g. American Airlines, EasyJet) is extremely important for\n",
    "the transportation department and, for this reason, all the information related to each flight are constantly\n",
    "monitored and collected in huge databases by the Department of Transportation. To the aim of this laboratory, just a small set of information has been extracted.\n",
    "\n",
    "The dataset contains the Carrier On-Time Performance information collected from 01-01-2017 until 31-01-2017 for all the flights in the United States. Each row represents a flight in a specific day.\n",
    "\n",
    "Some of the most useful fields in the dataset are:\n",
    "- `FL_DATE`: day of the flight in format YYYY-mm-dd.\n",
    "- `TAIL_NUM`: aircraft registration number, unique to a single aircraft.\n",
    "- `UNIQUE_CARRIER`: flight carrier id.\n",
    "- `FL_NUM`: number of the flight.\n",
    "- `ORIGIN`: departure airport code.\n",
    "- `DEST`: destination airport code.\n",
    "- `CRS_DEP_TIME`: scheduled departure time (local time: HHMM) shown in the carriers’ Computerized\n",
    "Reservations Systems (CRS)\n",
    "- `DEP_TIME`: actual departure time (local time: HHMM)\n",
    "- `DEP_DELAY`: overall delay at departure. Difference in minutes (floating point number) between sched-\n",
    "uled and actual departure time. Early departures set to 0.\n",
    "- `CRS_ARR_TIME`: scheduled arrival time (local time: HHMM) shown in the carriers’ Computerized\n",
    "Reservations Systems (CRS)\n",
    "- `ARR_TIME`: actual arrival time (local time: HHMM)\n",
    "- `ARR_DELAY`: overall delay. Difference in minutes (floating point number) between scheduled and\n",
    "actual arrival time. Early arrivals show negative numbers.\n",
    "- `CARRIER_DELAY`: delay in minutes (floating point number) caused by the carrier.\n",
    "- `WEATHER_DELAY`: delay in minutes (floating point number) caused by the weather.\n",
    "- `NAS_DELAY`: delay in minutes (floating point number) caused by the National Air System (NAS).\n",
    "- `SECURITY_DELAY`: delay in minutes (floating point number) caused by the security.\n",
    "- `LATE_AIRCRAFT_DELAY`: delay in minutes (floating point number) caused by the aircraft.\n",
    "\n",
    "There are some other fields in this dataset. You can explore them, understand what they represents and\n",
    "whether they are significant or not for your analysis."
   ]
  },
  {
   "cell_type": "code",
   "execution_count": 18,
   "metadata": {},
   "outputs": [
    {
     "name": "stdout",
     "output_type": "stream",
     "text": [
      "File Name                                             Modified             Size\n",
      "831394006_T_ONTIME.csv                         2019-12-10 05:10:20     92160796\n"
     ]
    }
   ],
   "source": [
    "from zipfile import ZipFile\n",
    "\n",
    "with ZipFile('fdd.zip', 'r') as zip:\n",
    "    zip.printdir()"
   ]
  },
  {
   "cell_type": "code",
   "execution_count": 19,
   "metadata": {},
   "outputs": [],
   "source": [
    "with ZipFile('fdd.zip', 'r') as zip:\n",
    "    zip.extractall()"
   ]
  },
  {
   "cell_type": "code",
   "execution_count": 21,
   "metadata": {},
   "outputs": [
    {
     "data": {
      "text/html": [
       "<div>\n",
       "<style scoped>\n",
       "    .dataframe tbody tr th:only-of-type {\n",
       "        vertical-align: middle;\n",
       "    }\n",
       "\n",
       "    .dataframe tbody tr th {\n",
       "        vertical-align: top;\n",
       "    }\n",
       "\n",
       "    .dataframe thead th {\n",
       "        text-align: right;\n",
       "    }\n",
       "</style>\n",
       "<table border=\"1\" class=\"dataframe\">\n",
       "  <thead>\n",
       "    <tr style=\"text-align: right;\">\n",
       "      <th></th>\n",
       "      <th>FL_DATE</th>\n",
       "      <th>UNIQUE_CARRIER</th>\n",
       "      <th>AIRLINE_ID</th>\n",
       "      <th>TAIL_NUM</th>\n",
       "      <th>FL_NUM</th>\n",
       "      <th>ORIGIN_AIRPORT_ID</th>\n",
       "      <th>ORIGIN_AIRPORT_SEQ_ID</th>\n",
       "      <th>ORIGIN_CITY_MARKET_ID</th>\n",
       "      <th>ORIGIN</th>\n",
       "      <th>ORIGIN_CITY_NAME</th>\n",
       "      <th>...</th>\n",
       "      <th>ARR_TIME</th>\n",
       "      <th>ARR_DELAY</th>\n",
       "      <th>CANCELLED</th>\n",
       "      <th>CANCELLATION_CODE</th>\n",
       "      <th>CARRIER_DELAY</th>\n",
       "      <th>WEATHER_DELAY</th>\n",
       "      <th>NAS_DELAY</th>\n",
       "      <th>SECURITY_DELAY</th>\n",
       "      <th>LATE_AIRCRAFT_DELAY</th>\n",
       "      <th>Unnamed: 32</th>\n",
       "    </tr>\n",
       "  </thead>\n",
       "  <tbody>\n",
       "    <tr>\n",
       "      <th>0</th>\n",
       "      <td>2017-01-01</td>\n",
       "      <td>AA</td>\n",
       "      <td>19805</td>\n",
       "      <td>N787AA</td>\n",
       "      <td>1</td>\n",
       "      <td>12478</td>\n",
       "      <td>1247803</td>\n",
       "      <td>31703</td>\n",
       "      <td>JFK</td>\n",
       "      <td>New York, NY</td>\n",
       "      <td>...</td>\n",
       "      <td>1209.0</td>\n",
       "      <td>27.0</td>\n",
       "      <td>0.0</td>\n",
       "      <td>NaN</td>\n",
       "      <td>27.0</td>\n",
       "      <td>0.0</td>\n",
       "      <td>0.0</td>\n",
       "      <td>0.0</td>\n",
       "      <td>0.0</td>\n",
       "      <td>NaN</td>\n",
       "    </tr>\n",
       "    <tr>\n",
       "      <th>1</th>\n",
       "      <td>2017-01-01</td>\n",
       "      <td>AA</td>\n",
       "      <td>19805</td>\n",
       "      <td>N783AA</td>\n",
       "      <td>2</td>\n",
       "      <td>12892</td>\n",
       "      <td>1289204</td>\n",
       "      <td>32575</td>\n",
       "      <td>LAX</td>\n",
       "      <td>Los Angeles, CA</td>\n",
       "      <td>...</td>\n",
       "      <td>1809.0</td>\n",
       "      <td>42.0</td>\n",
       "      <td>0.0</td>\n",
       "      <td>NaN</td>\n",
       "      <td>34.0</td>\n",
       "      <td>0.0</td>\n",
       "      <td>8.0</td>\n",
       "      <td>0.0</td>\n",
       "      <td>0.0</td>\n",
       "      <td>NaN</td>\n",
       "    </tr>\n",
       "    <tr>\n",
       "      <th>2</th>\n",
       "      <td>2017-01-01</td>\n",
       "      <td>AA</td>\n",
       "      <td>19805</td>\n",
       "      <td>N791AA</td>\n",
       "      <td>4</td>\n",
       "      <td>12892</td>\n",
       "      <td>1289204</td>\n",
       "      <td>32575</td>\n",
       "      <td>LAX</td>\n",
       "      <td>Los Angeles, CA</td>\n",
       "      <td>...</td>\n",
       "      <td>2040.0</td>\n",
       "      <td>42.0</td>\n",
       "      <td>0.0</td>\n",
       "      <td>NaN</td>\n",
       "      <td>7.0</td>\n",
       "      <td>0.0</td>\n",
       "      <td>0.0</td>\n",
       "      <td>0.0</td>\n",
       "      <td>35.0</td>\n",
       "      <td>NaN</td>\n",
       "    </tr>\n",
       "    <tr>\n",
       "      <th>3</th>\n",
       "      <td>2017-01-01</td>\n",
       "      <td>AA</td>\n",
       "      <td>19805</td>\n",
       "      <td>N391AA</td>\n",
       "      <td>5</td>\n",
       "      <td>11298</td>\n",
       "      <td>1129804</td>\n",
       "      <td>30194</td>\n",
       "      <td>DFW</td>\n",
       "      <td>Dallas/Fort Worth, TX</td>\n",
       "      <td>...</td>\n",
       "      <td>1749.0</td>\n",
       "      <td>97.0</td>\n",
       "      <td>0.0</td>\n",
       "      <td>NaN</td>\n",
       "      <td>77.0</td>\n",
       "      <td>0.0</td>\n",
       "      <td>20.0</td>\n",
       "      <td>0.0</td>\n",
       "      <td>0.0</td>\n",
       "      <td>NaN</td>\n",
       "    </tr>\n",
       "    <tr>\n",
       "      <th>4</th>\n",
       "      <td>2017-01-01</td>\n",
       "      <td>AA</td>\n",
       "      <td>19805</td>\n",
       "      <td>N346AA</td>\n",
       "      <td>6</td>\n",
       "      <td>13830</td>\n",
       "      <td>1383002</td>\n",
       "      <td>33830</td>\n",
       "      <td>OGG</td>\n",
       "      <td>Kahului, HI</td>\n",
       "      <td>...</td>\n",
       "      <td>642.0</td>\n",
       "      <td>42.0</td>\n",
       "      <td>0.0</td>\n",
       "      <td>NaN</td>\n",
       "      <td>0.0</td>\n",
       "      <td>0.0</td>\n",
       "      <td>42.0</td>\n",
       "      <td>0.0</td>\n",
       "      <td>0.0</td>\n",
       "      <td>NaN</td>\n",
       "    </tr>\n",
       "  </tbody>\n",
       "</table>\n",
       "<p>5 rows × 33 columns</p>\n",
       "</div>"
      ],
      "text/plain": [
       "      FL_DATE UNIQUE_CARRIER  AIRLINE_ID TAIL_NUM  FL_NUM  ORIGIN_AIRPORT_ID  \\\n",
       "0  2017-01-01             AA       19805   N787AA       1              12478   \n",
       "1  2017-01-01             AA       19805   N783AA       2              12892   \n",
       "2  2017-01-01             AA       19805   N791AA       4              12892   \n",
       "3  2017-01-01             AA       19805   N391AA       5              11298   \n",
       "4  2017-01-01             AA       19805   N346AA       6              13830   \n",
       "\n",
       "   ORIGIN_AIRPORT_SEQ_ID  ORIGIN_CITY_MARKET_ID ORIGIN       ORIGIN_CITY_NAME  \\\n",
       "0                1247803                  31703    JFK           New York, NY   \n",
       "1                1289204                  32575    LAX        Los Angeles, CA   \n",
       "2                1289204                  32575    LAX        Los Angeles, CA   \n",
       "3                1129804                  30194    DFW  Dallas/Fort Worth, TX   \n",
       "4                1383002                  33830    OGG            Kahului, HI   \n",
       "\n",
       "   ...  ARR_TIME  ARR_DELAY  CANCELLED CANCELLATION_CODE CARRIER_DELAY  \\\n",
       "0  ...    1209.0       27.0        0.0               NaN          27.0   \n",
       "1  ...    1809.0       42.0        0.0               NaN          34.0   \n",
       "2  ...    2040.0       42.0        0.0               NaN           7.0   \n",
       "3  ...    1749.0       97.0        0.0               NaN          77.0   \n",
       "4  ...     642.0       42.0        0.0               NaN           0.0   \n",
       "\n",
       "   WEATHER_DELAY  NAS_DELAY  SECURITY_DELAY  LATE_AIRCRAFT_DELAY  Unnamed: 32  \n",
       "0            0.0        0.0             0.0                  0.0          NaN  \n",
       "1            0.0        8.0             0.0                  0.0          NaN  \n",
       "2            0.0        0.0             0.0                 35.0          NaN  \n",
       "3            0.0       20.0             0.0                  0.0          NaN  \n",
       "4            0.0       42.0             0.0                  0.0          NaN  \n",
       "\n",
       "[5 rows x 33 columns]"
      ]
     },
     "execution_count": 21,
     "metadata": {},
     "output_type": "execute_result"
    }
   ],
   "source": [
    "fdd_df = pd.read_csv('831394006_T_ONTIME.csv')\n",
    "fdd_df.head()"
   ]
  },
  {
   "cell_type": "code",
   "execution_count": null,
   "metadata": {},
   "outputs": [],
   "source": []
  }
 ],
 "metadata": {
  "interpreter": {
   "hash": "afad3e5d60d609398ecce3ba468213674dfc27eda2bcdfe27a1dfdc5eca24277"
  },
  "kernelspec": {
   "display_name": "Python 3.10.2 ('data_science')",
   "language": "python",
   "name": "python3"
  },
  "language_info": {
   "codemirror_mode": {
    "name": "ipython",
    "version": 3
   },
   "file_extension": ".py",
   "mimetype": "text/x-python",
   "name": "python",
   "nbconvert_exporter": "python",
   "pygments_lexer": "ipython3",
   "version": "3.10.2"
  },
  "orig_nbformat": 4
 },
 "nbformat": 4,
 "nbformat_minor": 2
}
